{
 "cells": [
  {
   "cell_type": "markdown",
   "metadata": {},
   "source": [
    "# Title: msticpy - nbwidgets\n",
    "## Description:\n",
    "This contains a few aggregated widgets using IPyWidgets that help speed things up during an investigation.\n",
    "\n"
   ]
  },
  {
   "cell_type": "markdown",
   "metadata": {},
   "source": [
    "<a id='contents'></a>\n",
    "## Table of Contents\n",
    "- [Setting query start/end times](#QueryTime)\n",
    "- [Simple time range](#Lookback)\n",
    "- [Selecting and Displaying Alerts](#AlertSelector)\n",
    "- [Selecting from list or dict](#SelectString)\n",
    "- [Getting a value from environment](#GetEnvironmentKey)\n"
   ]
  },
  {
   "cell_type": "code",
   "execution_count": 1,
   "metadata": {
    "ExecuteTime": {
     "end_time": "2019-12-19T22:12:36.439490Z",
     "start_time": "2019-12-19T22:12:34.694845Z"
    },
    "scrolled": true
   },
   "outputs": [],
   "source": [
    "# Imports\n",
    "import sys\n",
    "MIN_REQ_PYTHON = (3,6)\n",
    "if sys.version_info < MIN_REQ_PYTHON:\n",
    "    print('Check the Kernel->Change Kernel menu and ensure that Python 3.6')\n",
    "    print('or later is selected as the active kernel.')\n",
    "    sys.exit(\"Python %s.%s or later is required.\\n\" % MIN_REQ_PYTHON)\n",
    "\n",
    "from IPython.display import display, Markdown\n",
    "import pandas as pd\n",
    "# Import nbtools package\n",
    "from msticpy.nbtools import *\n"
   ]
  },
  {
   "cell_type": "markdown",
   "metadata": {},
   "source": [
    "<a id='QueryTime'></a>[Contents](#contents)\n",
    "## QueryTime\n",
    "\n",
    "This widget is used to specify time boundaries - designed to be used with the built-in msticpy queries and custom queries.\n",
    "The `start` and `end` times are exposed as datetime properties.\n",
    "\n",
    "```\n",
    "QueryTime.\n",
    "\n",
    "Composite widget to capture date and time origin\n",
    "and set start and end times for queries.\n",
    "\n",
    "Parameters\n",
    "----------\n",
    "QueryParamProvider : QueryParamProvider\n",
    "    Abstract base class\n",
    "\n",
    "Parameters\n",
    "----------\n",
    "origin_time : datetime, optional\n",
    "    The origin time (the default is `datetime.utcnow()`)\n",
    "label : str, optional\n",
    "    The description to display\n",
    "    (the default is 'Select time ({units}) to look back')\n",
    "before : int, optional\n",
    "    The default number of `units` before the `origin_time`\n",
    "    (the default is 60)\n",
    "after : int, optional\n",
    "    The default number of `units` after the `origin_time`\n",
    "    (the default is 10)\n",
    "max_before : int, optional\n",
    "    The largest value for `before` (the default is 600)\n",
    "max_after : int, optional\n",
    "    The largest value for `after` (the default is 100)\n",
    "units : str, optional\n",
    "    Time unit (the default is 'min')\n",
    "    Permissable values are 'day', 'hour', 'minute', 'second'\n",
    "    These can all be abbreviated down to initial characters\n",
    "    ('d', 'm', etc.)\n",
    "auto_display : bool, optional\n",
    "    Whether to display on instantiation (the default is False)\n",
    "```"
   ]
  },
  {
   "cell_type": "code",
   "execution_count": 2,
   "metadata": {
    "ExecuteTime": {
     "end_time": "2019-12-19T22:12:42.494790Z",
     "start_time": "2019-12-19T22:12:42.453819Z"
    }
   },
   "outputs": [
    {
     "data": {
      "application/vnd.jupyter.widget-view+json": {
       "model_id": "8d6902d3dede4dd09680ce5026ac8c12",
       "version_major": 2,
       "version_minor": 0
      },
      "text/plain": [
       "HTML(value='<h4>Set query time boundaries</h4>')"
      ]
     },
     "metadata": {},
     "output_type": "display_data"
    },
    {
     "data": {
      "application/vnd.jupyter.widget-view+json": {
       "model_id": "8cd527471af4484b8bc597d6a5d7aeea",
       "version_major": 2,
       "version_minor": 0
      },
      "text/plain": [
       "HBox(children=(DatePicker(value=datetime.date(2020, 6, 12), description='Origin Date'), Text(value='20:42:15.1…"
      ]
     },
     "metadata": {},
     "output_type": "display_data"
    },
    {
     "data": {
      "application/vnd.jupyter.widget-view+json": {
       "model_id": "4024594f02d544f1b9b8c8a2b88c2d46",
       "version_major": 2,
       "version_minor": 0
      },
      "text/plain": [
       "VBox(children=(IntRangeSlider(value=(-5, 1), description='Time Range (day):', layout=Layout(width='80%'), max=…"
      ]
     },
     "metadata": {},
     "output_type": "display_data"
    }
   ],
   "source": [
    "q_times = nbwidgets.QueryTime(units='day', max_before=20, before=5, max_after=1)\n",
    "q_times.display()"
   ]
  },
  {
   "cell_type": "code",
   "execution_count": 3,
   "metadata": {
    "ExecuteTime": {
     "end_time": "2019-09-02T23:37:00.573557Z",
     "start_time": "2019-09-02T23:37:00.569561Z"
    }
   },
   "outputs": [
    {
     "name": "stdout",
     "output_type": "stream",
     "text": [
      "2020-06-07 20:42:15.137356 .... 2020-06-13 20:42:15.137356\n"
     ]
    }
   ],
   "source": [
    "print(q_times.start, '....', q_times.end)"
   ]
  },
  {
   "cell_type": "markdown",
   "metadata": {},
   "source": [
    "Keep multiple query boundaries aligged by having QueryTime instances reference the time of the same alert or event, or have them chained from one another by referencing the origin_time of an earlier QueryTimes object"
   ]
  },
  {
   "cell_type": "code",
   "execution_count": 4,
   "metadata": {
    "ExecuteTime": {
     "end_time": "2019-12-19T22:29:50.924729Z",
     "start_time": "2019-12-19T22:29:50.845790Z"
    },
    "scrolled": true
   },
   "outputs": [
    {
     "data": {
      "application/vnd.jupyter.widget-view+json": {
       "model_id": "e25471faab184429800f402de8648c11",
       "version_major": 2,
       "version_minor": 0
      },
      "text/plain": [
       "HTML(value='<h4>Set query time boundaries</h4>')"
      ]
     },
     "metadata": {},
     "output_type": "display_data"
    },
    {
     "data": {
      "application/vnd.jupyter.widget-view+json": {
       "model_id": "3b30b46bbf13407ea6b26cadb2792b70",
       "version_major": 2,
       "version_minor": 0
      },
      "text/plain": [
       "HBox(children=(DatePicker(value=datetime.date(2020, 5, 28), description='Origin Date'), Text(value='20:42:15.2…"
      ]
     },
     "metadata": {},
     "output_type": "display_data"
    },
    {
     "data": {
      "application/vnd.jupyter.widget-view+json": {
       "model_id": "ba43f0fe790b4cf1acc463b1674c8874",
       "version_major": 2,
       "version_minor": 0
      },
      "text/plain": [
       "VBox(children=(IntRangeSlider(value=(-1, 1), description='Time Range (hour):', layout=Layout(width='80%'), max…"
      ]
     },
     "metadata": {},
     "output_type": "display_data"
    },
    {
     "data": {
      "application/vnd.jupyter.widget-view+json": {
       "model_id": "cc66426de32441a9acb1dc089861d7da",
       "version_major": 2,
       "version_minor": 0
      },
      "text/plain": [
       "HTML(value='<h4>Set query time boundaries</h4>')"
      ]
     },
     "metadata": {},
     "output_type": "display_data"
    },
    {
     "data": {
      "application/vnd.jupyter.widget-view+json": {
       "model_id": "d2b8cd33aac6445d828d56c4e1070de9",
       "version_major": 2,
       "version_minor": 0
      },
      "text/plain": [
       "HBox(children=(DatePicker(value=datetime.date(2020, 5, 28), description='Origin Date'), Text(value='20:42:15.2…"
      ]
     },
     "metadata": {},
     "output_type": "display_data"
    },
    {
     "data": {
      "application/vnd.jupyter.widget-view+json": {
       "model_id": "3cb159c2862d43baaf548f73bb721eaa",
       "version_major": 2,
       "version_minor": 0
      },
      "text/plain": [
       "VBox(children=(IntRangeSlider(value=(-4, 2), description='Time Range (hour):', layout=Layout(width='80%'), max…"
      ]
     },
     "metadata": {},
     "output_type": "display_data"
    }
   ],
   "source": [
    "from datetime import datetime, timedelta\n",
    "class MyAlert:\n",
    "    pass\n",
    "alert = MyAlert()\n",
    "alert.TimeGenerated = datetime.utcnow() - timedelta(15)\n",
    "alert.TimeGenerated\n",
    "\n",
    "q_times1 = nbwidgets.QueryTime(units='hour', max_before=20, before=1, max_after=1, \n",
    "                             origin_time=alert.TimeGenerated, auto_display=True)\n",
    "\n",
    "q_times2 = nbwidgets.QueryTime(units='hour', max_before=20, before=4, max_after=2, \n",
    "                             origin_time=alert.TimeGenerated, auto_display=True)"
   ]
  },
  {
   "cell_type": "code",
   "execution_count": 5,
   "metadata": {
    "ExecuteTime": {
     "end_time": "2019-12-19T22:29:53.682587Z",
     "start_time": "2019-12-19T22:29:53.608644Z"
    },
    "scrolled": true
   },
   "outputs": [
    {
     "data": {
      "application/vnd.jupyter.widget-view+json": {
       "model_id": "2427db6c43934d06983521cebe977cf6",
       "version_major": 2,
       "version_minor": 0
      },
      "text/plain": [
       "HTML(value='<h4>Set query time boundaries</h4>')"
      ]
     },
     "metadata": {},
     "output_type": "display_data"
    },
    {
     "data": {
      "application/vnd.jupyter.widget-view+json": {
       "model_id": "bad48e390dd74a16a4ff9044f9e4044c",
       "version_major": 2,
       "version_minor": 0
      },
      "text/plain": [
       "HBox(children=(DatePicker(value=datetime.date(2020, 6, 12), description='Origin Date'), Text(value='20:42:15.3…"
      ]
     },
     "metadata": {},
     "output_type": "display_data"
    },
    {
     "data": {
      "application/vnd.jupyter.widget-view+json": {
       "model_id": "d5e0e6a54a4b4fe9938a2f4e489f6867",
       "version_major": 2,
       "version_minor": 0
      },
      "text/plain": [
       "VBox(children=(IntRangeSlider(value=(-1, 1), description='Time Range (hour):', layout=Layout(width='80%'), max…"
      ]
     },
     "metadata": {},
     "output_type": "display_data"
    },
    {
     "data": {
      "application/vnd.jupyter.widget-view+json": {
       "model_id": "e79df277bbac4d29a5614f0f7cdaf981",
       "version_major": 2,
       "version_minor": 0
      },
      "text/plain": [
       "HTML(value='<h4>Set query time boundaries</h4>')"
      ]
     },
     "metadata": {},
     "output_type": "display_data"
    },
    {
     "data": {
      "application/vnd.jupyter.widget-view+json": {
       "model_id": "d458c541cabd4e78b481b949b5371dac",
       "version_major": 2,
       "version_minor": 0
      },
      "text/plain": [
       "HBox(children=(DatePicker(value=datetime.date(2020, 5, 28), description='Origin Date'), Text(value='20:42:15.2…"
      ]
     },
     "metadata": {},
     "output_type": "display_data"
    },
    {
     "data": {
      "application/vnd.jupyter.widget-view+json": {
       "model_id": "f86aaa068a924f109140ed1f0d3c8eca",
       "version_major": 2,
       "version_minor": 0
      },
      "text/plain": [
       "VBox(children=(IntRangeSlider(value=(-4, 2), description='Time Range (hour):', layout=Layout(width='80%'), max…"
      ]
     },
     "metadata": {},
     "output_type": "display_data"
    }
   ],
   "source": [
    "alert.TimeGenerated = datetime.utcnow()\n",
    "q_times1 = nbwidgets.QueryTime(units='hour', max_before=20, before=1, max_after=1, \n",
    "                             origin_time=alert.TimeGenerated, auto_display=True)\n",
    "\n",
    "q_times2 = nbwidgets.QueryTime(units='hour', max_before=20, before=4, max_after=2, \n",
    "                             origin_time=q_times2.origin_time, auto_display=True)"
   ]
  },
  {
   "cell_type": "code",
   "execution_count": 6,
   "metadata": {
    "ExecuteTime": {
     "end_time": "2019-09-02T23:37:04.725203Z",
     "start_time": "2019-09-02T23:37:04.721208Z"
    },
    "scrolled": true
   },
   "outputs": [
    {
     "name": "stdout",
     "output_type": "stream",
     "text": [
      "\n",
      "SecurityAlert \n",
      "| where TimeGenerated >= datetime(2020-06-12 19:42:15.345503)\n",
      "| where TimeGenerated <= datetime(2020-06-12 21:42:15.345503)\n"
     ]
    }
   ],
   "source": [
    "# Use the values in a query\n",
    "my_kql = f'''\n",
    "SecurityAlert \n",
    "| where TimeGenerated >= datetime({q_times1.start})\n",
    "| where TimeGenerated <= datetime({q_times1.end})'''\n",
    "print(my_kql)"
   ]
  },
  {
   "cell_type": "markdown",
   "metadata": {},
   "source": [
    "<a id='Lookback'></a>[Contents](#contents)\n",
    "## Lookback\n",
    "Simpler version with single slider value\n",
    "\n",
    "Docstring:\n",
    "`nbtools.Lookback?`"
   ]
  },
  {
   "cell_type": "code",
   "execution_count": 7,
   "metadata": {
    "ExecuteTime": {
     "end_time": "2019-12-19T22:29:59.905261Z",
     "start_time": "2019-12-19T22:29:59.893270Z"
    },
    "scrolled": true
   },
   "outputs": [
    {
     "data": {
      "application/vnd.jupyter.widget-view+json": {
       "model_id": "545e42c3ae90457ba753e9da5693c9dc",
       "version_major": 2,
       "version_minor": 0
      },
      "text/plain": [
       "IntSlider(value=4, description='Select time (hour) to look back', layout=Layout(height='50px', width='60%'), m…"
      ]
     },
     "metadata": {},
     "output_type": "display_data"
    }
   ],
   "source": [
    "alert.TimeGenerated = datetime.utcnow() - timedelta(5)\n",
    "lb = nbwidgets.Lookback(origin_time=alert.TimeGenerated, auto_display=True, max_value=48)"
   ]
  },
  {
   "cell_type": "code",
   "execution_count": 8,
   "metadata": {
    "ExecuteTime": {
     "end_time": "2019-09-02T23:37:09.268885Z",
     "start_time": "2019-09-02T23:37:09.265888Z"
    }
   },
   "outputs": [
    {
     "name": "stdout",
     "output_type": "stream",
     "text": [
      "2020-06-07 16:42:15.482502 .... 2020-06-07 20:42:15.482502\n"
     ]
    }
   ],
   "source": [
    "print(lb.start, '....', lb.end)"
   ]
  },
  {
   "cell_type": "markdown",
   "metadata": {},
   "source": [
    "<a id='AlertSelector'></a>[Contents](#contents)\n",
    "## Alert Browser\n",
    "\n",
    "```\n",
    "SelectAlert.\n",
    "\n",
    "View list of alerts and select one for investigation.\n",
    "Optionally provide and action to call with the selected alert as a parameter\n",
    "(typically used to display the alert.)\n",
    "\n",
    "Attributes:\n",
    "    selected_alert: the selected alert\n",
    "    alert_id: the ID of the selected alert\n",
    "    alerts: the current alert list (DataFrame)\n",
    "Init docstring:\n",
    "Create a new instance of AlertSelector.\n",
    "\n",
    "Parameters\n",
    "----------\n",
    "alerts : pd.DataFrame\n",
    "    DataFrame of alerts.\n",
    "action : Callable[..., None], optional\n",
    "    Optional function to execute for each selected alert.\n",
    "    (the default is None)\n",
    "columns : list, optional\n",
    "    Override the default column names to use from `alerts`\n",
    "    (the default is ['StartTimeUtc', 'AlertName',\n",
    "    'CompromisedEntity', 'SystemAlertId'])\n",
    "auto_display : bool, optional\n",
    "    Whether to display on instantiation (the default is False)\n",
    "```"
   ]
  },
  {
   "cell_type": "markdown",
   "metadata": {},
   "source": [
    "### Simple alert selector\n",
    "Selected alert is available as `select_alert_widget.selected_alert` property"
   ]
  },
  {
   "cell_type": "code",
   "execution_count": 9,
   "metadata": {
    "ExecuteTime": {
     "end_time": "2019-12-19T22:33:01.169572Z",
     "start_time": "2019-12-19T22:33:01.108619Z"
    }
   },
   "outputs": [
    {
     "data": {
      "text/markdown": [
       "### Simple alert selector"
      ],
      "text/plain": [
       "<IPython.core.display.Markdown object>"
      ]
     },
     "metadata": {},
     "output_type": "display_data"
    },
    {
     "data": {
      "text/markdown": [
       "Selected alert is available as `select_alert_widget.selected_alert`"
      ],
      "text/plain": [
       "<IPython.core.display.Markdown object>"
      ]
     },
     "metadata": {},
     "output_type": "display_data"
    },
    {
     "data": {
      "application/vnd.jupyter.widget-view+json": {
       "model_id": "0bc9e7e8f3684d42be111f2decad3232",
       "version_major": 2,
       "version_minor": 0
      },
      "text/plain": [
       "VBox(children=(Text(value='', description='Filter alerts by title:', style=DescriptionStyle(description_width=…"
      ]
     },
     "metadata": {},
     "output_type": "display_data"
    },
    {
     "data": {
      "text/html": [
       "<hr>"
      ],
      "text/plain": [
       "<IPython.core.display.HTML object>"
      ]
     },
     "metadata": {},
     "output_type": "display_data"
    }
   ],
   "source": [
    "# Load test data\n",
    "alerts = pd.read_csv('data/alertlist.csv')\n",
    "\n",
    "display(Markdown('### Simple alert selector'))\n",
    "display(Markdown('Selected alert is available as `select_alert_widget.selected_alert`'))\n",
    "alert_select = nbwidgets.SelectAlert(alerts=alerts)\n",
    "alert_select.display()"
   ]
  },
  {
   "cell_type": "markdown",
   "metadata": {},
   "source": [
    "### Alert selector with action=SecurityAlert'\n",
    "You can pass a function that returns one or more displayable objects.\n",
    "You can also pass a class (in this case we're passing `SecurityAlert`) that produces an IPython displayable object.\n",
    "\n",
    "The `action` class/function is passed the raw alert row as a parameter, as it is selected from the list"
   ]
  },
  {
   "cell_type": "code",
   "execution_count": 10,
   "metadata": {
    "ExecuteTime": {
     "end_time": "2019-12-19T22:33:22.044868Z",
     "start_time": "2019-12-19T22:33:21.987913Z"
    }
   },
   "outputs": [
    {
     "data": {
      "application/vnd.jupyter.widget-view+json": {
       "model_id": "3c593c9b579c4e4785e49946421b267e",
       "version_major": 2,
       "version_minor": 0
      },
      "text/plain": [
       "VBox(children=(Text(value='', description='Filter alerts by title:', style=DescriptionStyle(description_width=…"
      ]
     },
     "metadata": {},
     "output_type": "display_data"
    },
    {
     "data": {
      "text/html": [
       "<hr>"
      ],
      "text/plain": [
       "<IPython.core.display.HTML object>"
      ]
     },
     "metadata": {},
     "output_type": "display_data"
    },
    {
     "data": {
      "text/html": [
       "\n",
       "            <h3>Alert: 'DC local group addition - Demo'</h3>\n",
       "            <b>Alert_time:</b> 2019-01-11 06:31:40,\n",
       "            <b>Compr_entity:</b> nan,\n",
       "            <b>Alert_id:</b> 047f47d6-79b7-4502-824b-97abc4905a73\n",
       "            <table border=\"1\" class=\"dataframe\">\n",
       "  <thead>\n",
       "    <tr style=\"text-align: right;\">\n",
       "      <th></th>\n",
       "      <th>0</th>\n",
       "    </tr>\n",
       "  </thead>\n",
       "  <tbody>\n",
       "    <tr>\n",
       "      <th>Unnamed: 0</th>\n",
       "      <td>0</td>\n",
       "    </tr>\n",
       "    <tr>\n",
       "      <th>TenantId</th>\n",
       "      <td>802d39e1-9d70-404d-832c-2de5e2478eda</td>\n",
       "    </tr>\n",
       "    <tr>\n",
       "      <th>StartTimeUtc</th>\n",
       "      <td>2019-01-11 06:31:40</td>\n",
       "    </tr>\n",
       "    <tr>\n",
       "      <th>EndTimeUtc</th>\n",
       "      <td>2019-01-12 06:31:40</td>\n",
       "    </tr>\n",
       "    <tr>\n",
       "      <th>ProviderAlertId</th>\n",
       "      <td>e0c9484b-ad5f-4161-b73b-388676c05818</td>\n",
       "    </tr>\n",
       "    <tr>\n",
       "      <th>SystemAlertId</th>\n",
       "      <td>047f47d6-79b7-4502-824b-97abc4905a73</td>\n",
       "    </tr>\n",
       "    <tr>\n",
       "      <th>ProviderName</th>\n",
       "      <td>CustomAlertRule</td>\n",
       "    </tr>\n",
       "    <tr>\n",
       "      <th>VendorName</th>\n",
       "      <td>Alert Rule</td>\n",
       "    </tr>\n",
       "    <tr>\n",
       "      <th>AlertType</th>\n",
       "      <td>DC local group addition - Demo</td>\n",
       "    </tr>\n",
       "    <tr>\n",
       "      <th>AlertName</th>\n",
       "      <td>DC local group addition - Demo</td>\n",
       "    </tr>\n",
       "    <tr>\n",
       "      <th>AlertDisplayName</th>\n",
       "      <td>DC local group addition - Demo</td>\n",
       "    </tr>\n",
       "    <tr>\n",
       "      <th>Description</th>\n",
       "      <td>Domain controllers local group addition</td>\n",
       "    </tr>\n",
       "    <tr>\n",
       "      <th>Severity</th>\n",
       "      <td>Low</td>\n",
       "    </tr>\n",
       "    <tr>\n",
       "      <th>IsIncident</th>\n",
       "      <td>False</td>\n",
       "    </tr>\n",
       "    <tr>\n",
       "      <th>ExtendedProperties</th>\n",
       "      <td>{'Alert Mode': 'Aggregated', 'Search Query': '{\"detailBladeInputs\":{\"id\":\"/subscriptions/3c1bb38c-82e3-4f8d-a115-a7110ba70d05/resourcegroups/contoso77/providers/microsoft.operationalinsights/workspaces/contoso77\",\"parameters\":{\"q\":\"SecurityEvent\\n| where EventID == 4625\\n| extend IPCustomEntity = \\\"75.10.91.22\\\"\\n| extend HostCustomEntity = Computer\\n| extend AccountCustomEntity = Account\",\"timeInterval\":{\"intervalDuration\":86400,\"intervalEnd\":\"2019-01-12T06%3A31%3A40.000Z\"}}},\"detailBlade\":\"SearchBlade\",\"displayValue\":\"SecurityEvent\\n| where EventID == 4625\\n| extend IPCustomEntity = \\\"75.10.91.22\\\"\\n| extend HostCustomEntity = Computer\\n| extend AccountCustomEntity = Account\",\"extension\":\"Microsoft_OperationsManagementSuite_Workspace\",\"kind\":\"OpenBlade\"}', 'Search Query Results Overall Count': '23034', 'Threshold Operator': 'Greater Than', 'Threshold Value': '10000', 'Query Interval in Minutes': '1440', 'Suppression in Minutes': '800', 'Total Account Entities': '1563', 'Total IP Entities': '1', 'Total Host Entities': '1'}</td>\n",
       "    </tr>\n",
       "    <tr>\n",
       "      <th>Entities</th>\n",
       "      <td>[{'$id': '3', 'Address': '75.10.91.22', 'Type': 'ip', 'Count': 23034}, {'$id': '4', 'HostName': 'DHCPContoso77', 'Type': 'host', 'Count': 23034}, {'$id': '5', 'Name': 'ADMINISTRATOR', 'NTDomain': '', 'Host': {'$ref': '4'}, 'IsDomainJoined': False, 'Type': 'account', 'Count': 5909}, {'$id': '6', 'Name': 'ADMIN', 'NTDomain': '', 'Host': {'$ref': '4'}, 'IsDomainJoined': False, 'Type': 'account', 'Count': 878}, {'$id': '7', 'Name': 'USER', 'NTDomain': '', 'Host': {'$ref': '4'}, 'IsDomainJoined': False, 'Type': 'account', 'Count': 486}]</td>\n",
       "    </tr>\n",
       "    <tr>\n",
       "      <th>ConfidenceLevel</th>\n",
       "      <td>Unknown</td>\n",
       "    </tr>\n",
       "    <tr>\n",
       "      <th>ConfidenceScore</th>\n",
       "      <td>NaN</td>\n",
       "    </tr>\n",
       "    <tr>\n",
       "      <th>ExtendedLinks</th>\n",
       "      <td>NaN</td>\n",
       "    </tr>\n",
       "    <tr>\n",
       "      <th>WorkspaceSubscriptionId</th>\n",
       "      <td>3c1bb38c-82e3-4f8d-a115-a7110ba70d05</td>\n",
       "    </tr>\n",
       "    <tr>\n",
       "      <th>WorkspaceResourceGroup</th>\n",
       "      <td>contoso77</td>\n",
       "    </tr>\n",
       "    <tr>\n",
       "      <th>TimeGenerated</th>\n",
       "      <td>2019-01-12 06:41:44</td>\n",
       "    </tr>\n",
       "    <tr>\n",
       "      <th>ResourceId</th>\n",
       "      <td>NaN</td>\n",
       "    </tr>\n",
       "    <tr>\n",
       "      <th>SourceComputerId</th>\n",
       "      <td>NaN</td>\n",
       "    </tr>\n",
       "    <tr>\n",
       "      <th>CompromisedEntity</th>\n",
       "      <td>NaN</td>\n",
       "    </tr>\n",
       "  </tbody>\n",
       "</table><br/><h3>ExtendedProperties:</h3><table border=\"1\" class=\"dataframe\">\n",
       "  <thead>\n",
       "    <tr style=\"text-align: right;\">\n",
       "      <th></th>\n",
       "      <th>0</th>\n",
       "    </tr>\n",
       "  </thead>\n",
       "  <tbody>\n",
       "    <tr>\n",
       "      <th>Alert Mode</th>\n",
       "      <td>Aggregated</td>\n",
       "    </tr>\n",
       "    <tr>\n",
       "      <th>Search Query</th>\n",
       "      <td>{\"detailBladeInputs\":{\"id\":\"/subscriptions/3c1bb38c-82e3-4f8d-a115-a7110ba70d05/resourcegroups/contoso77/providers/microsoft.operationalinsights/workspaces/contoso77\",\"parameters\":{\"q\":\"SecurityEvent\\n| where EventID == 4625\\n| extend IPCustomEntity = \\\"75.10.91.22\\\"\\n| extend HostCustomEntity = Computer\\n| extend AccountCustomEntity = Account\",\"timeInterval\":{\"intervalDuration\":86400,\"intervalEnd\":\"2019-01-12T06%3A31%3A40.000Z\"}}},\"detailBlade\":\"SearchBlade\",\"displayValue\":\"SecurityEvent\\n| where EventID == 4625\\n| extend IPCustomEntity = \\\"75.10.91.22\\\"\\n| extend HostCustomEntity = Computer\\n| extend AccountCustomEntity = Account\",\"extension\":\"Microsoft_OperationsManagementSuite_Workspace\",\"kind\":\"OpenBlade\"}</td>\n",
       "    </tr>\n",
       "    <tr>\n",
       "      <th>Search Query Results Overall Count</th>\n",
       "      <td>23034</td>\n",
       "    </tr>\n",
       "    <tr>\n",
       "      <th>Threshold Operator</th>\n",
       "      <td>Greater Than</td>\n",
       "    </tr>\n",
       "    <tr>\n",
       "      <th>Threshold Value</th>\n",
       "      <td>10000</td>\n",
       "    </tr>\n",
       "    <tr>\n",
       "      <th>Query Interval in Minutes</th>\n",
       "      <td>1440</td>\n",
       "    </tr>\n",
       "    <tr>\n",
       "      <th>Suppression in Minutes</th>\n",
       "      <td>800</td>\n",
       "    </tr>\n",
       "    <tr>\n",
       "      <th>Total Account Entities</th>\n",
       "      <td>1563</td>\n",
       "    </tr>\n",
       "    <tr>\n",
       "      <th>Total IP Entities</th>\n",
       "      <td>1</td>\n",
       "    </tr>\n",
       "    <tr>\n",
       "      <th>Total Host Entities</th>\n",
       "      <td>1</td>\n",
       "    </tr>\n",
       "  </tbody>\n",
       "</table><h3>Entity counts: </h3>ip: 1, host: 1, account: 3"
      ],
      "text/plain": [
       "SecurityAlert(Unnamed: 0=0, TenantId=802d39e1-9d70-404d-832c-2de5e2478eda, StartTimeUtc=2019-0...)"
      ]
     },
     "metadata": {},
     "output_type": "display_data"
    }
   ],
   "source": [
    "alert_select = nbwidgets.SelectAlert(alerts=alerts, action=SecurityAlert)\n",
    "alert_select.display()"
   ]
  },
  {
   "cell_type": "code",
   "execution_count": 11,
   "metadata": {
    "ExecuteTime": {
     "end_time": "2019-12-19T22:39:52.652753Z",
     "start_time": "2019-12-19T22:39:52.584806Z"
    },
    "scrolled": true
   },
   "outputs": [
    {
     "data": {
      "text/markdown": [
       "### Or a more detailed display with extracted entities"
      ],
      "text/plain": [
       "<IPython.core.display.Markdown object>"
      ]
     },
     "metadata": {},
     "output_type": "display_data"
    },
    {
     "data": {
      "application/vnd.jupyter.widget-view+json": {
       "model_id": "84cc277f660945ffa208070dd67becf3",
       "version_major": 2,
       "version_minor": 0
      },
      "text/plain": [
       "VBox(children=(Text(value='', description='Filter alerts by title:', style=DescriptionStyle(description_width=…"
      ]
     },
     "metadata": {},
     "output_type": "display_data"
    },
    {
     "data": {
      "text/html": [
       "<hr>"
      ],
      "text/plain": [
       "<IPython.core.display.HTML object>"
      ]
     },
     "metadata": {},
     "output_type": "display_data"
    },
    {
     "data": {
      "text/html": [
       "\n",
       "            <h3>Alert: 'Suspicious Account Creation Detected'</h3>\n",
       "            <b>Alert_time:</b> 2019-01-15 09:15:03,\n",
       "            <b>Compr_entity:</b> MSTICALERTSWIN1,\n",
       "            <b>Alert_id:</b> 2518547570966661760_526e34b6-6578-4fc0-9db6-e126b4d673f0\n",
       "            <table border=\"1\" class=\"dataframe\">\n",
       "  <thead>\n",
       "    <tr style=\"text-align: right;\">\n",
       "      <th></th>\n",
       "      <th>45</th>\n",
       "    </tr>\n",
       "  </thead>\n",
       "  <tbody>\n",
       "    <tr>\n",
       "      <th>Unnamed: 0</th>\n",
       "      <td>45</td>\n",
       "    </tr>\n",
       "    <tr>\n",
       "      <th>TenantId</th>\n",
       "      <td>802d39e1-9d70-404d-832c-2de5e2478eda</td>\n",
       "    </tr>\n",
       "    <tr>\n",
       "      <th>StartTimeUtc</th>\n",
       "      <td>2019-01-15 09:15:03</td>\n",
       "    </tr>\n",
       "    <tr>\n",
       "      <th>EndTimeUtc</th>\n",
       "      <td>2019-01-15 09:15:03</td>\n",
       "    </tr>\n",
       "    <tr>\n",
       "      <th>ProviderAlertId</th>\n",
       "      <td>526e34b6-6578-4fc0-9db6-e126b4d673f0</td>\n",
       "    </tr>\n",
       "    <tr>\n",
       "      <th>SystemAlertId</th>\n",
       "      <td>2518547570966661760_526e34b6-6578-4fc0-9db6-e126b4d673f0</td>\n",
       "    </tr>\n",
       "    <tr>\n",
       "      <th>ProviderName</th>\n",
       "      <td>Detection</td>\n",
       "    </tr>\n",
       "    <tr>\n",
       "      <th>VendorName</th>\n",
       "      <td>Microsoft</td>\n",
       "    </tr>\n",
       "    <tr>\n",
       "      <th>AlertType</th>\n",
       "      <td>Suspicious Account Creation Detected</td>\n",
       "    </tr>\n",
       "    <tr>\n",
       "      <th>AlertName</th>\n",
       "      <td>Suspicious Account Creation Detected</td>\n",
       "    </tr>\n",
       "    <tr>\n",
       "      <th>AlertDisplayName</th>\n",
       "      <td>Suspicious Account Creation Detected</td>\n",
       "    </tr>\n",
       "    <tr>\n",
       "      <th>Description</th>\n",
       "      <td>Analysis of host data on MSTICALERTSWIN1 detected creation or use of a local account adm1nistrator : this account name closely resembles a standard Windows account or group name 'administrator'. This is potentially a rogue account created by an attacker, so named in order to avoid being noticed by a human administrator.</td>\n",
       "    </tr>\n",
       "    <tr>\n",
       "      <th>Severity</th>\n",
       "      <td>Medium</td>\n",
       "    </tr>\n",
       "    <tr>\n",
       "      <th>IsIncident</th>\n",
       "      <td>False</td>\n",
       "    </tr>\n",
       "    <tr>\n",
       "      <th>ExtendedProperties</th>\n",
       "      <td>{'Compromised Host': 'MSTICALERTSWIN1', 'User Name': 'adm1nistrator', 'Account Session Id': '0x0', 'Suspicious Process': 'c:\\windows\\system32\\net.exe', 'Suspicious Command Line': 'net  user adm1nistrator bob_testing /add', 'Parent Process': 'c:\\windows\\system32\\cmd.exe', 'Suspicious Process Id': '0x141c', 'Suspicious Account Name': 'adm1nistrator', 'Similar To Account Name': 'administrator', 'resourceType': 'Virtual Machine', 'ServiceId': '14fa08c7-c48e-4c18-950c-8148024b4398', 'ReportingSystem': 'Azure', 'OccuringDatacenter': 'eastus'}</td>\n",
       "    </tr>\n",
       "    <tr>\n",
       "      <th>Entities</th>\n",
       "      <td>[{'$id': '4', 'DnsDomain': '', 'NTDomain': '', 'HostName': 'MSTICALERTSWIN1', 'NetBiosName': 'MSTICALERTSWIN1', 'OSFamily': 'Windows', 'OSVersion': 'Windows', 'IsDomainJoined': False, 'Type': 'host'}, {'$id': '5', 'Name': 'adm1nistrator', 'Host': {'$ref': '4'}, 'Type': 'account', 'LogonId': '0x0'}, {'$id': '6', 'Directory': 'c:\\windows\\system32', 'Name': 'cmd.exe', 'Type': 'file'}, {'$id': '7', 'ProcessId': '0x165c', 'CommandLine': '', 'ImageFile': {'$ref': '6'}, 'Host': {'$ref': '4'}, 'Type': 'process'}, {'$id': '8', 'Name': 'MSTICAdmin', 'NTDomain': 'MSTICAlertsWin1', 'Sid': 'S-1-5-21-996632719-2361334927-4038480536-500', 'IsDomainJoined': False, 'Type': 'account', 'LogonId': '0x13bded7'}, {'$id': '9', 'Directory': 'c:\\windows\\system32', 'Name': 'net.exe', 'Type': 'file'}, {'$id': '10', 'ProcessId': '0x141c', 'CommandLine': 'net  user adm1nistrator bob_testing /add', 'ElevationToken': 'Default', 'CreationTimeUtc': '2019-01-15T09:15:03.3338239Z', 'ImageFile': {'$ref': '9'}, 'Account': {'$ref': '8'}, 'ParentProcess': {'$ref': '7'}, 'Host': {'$ref': '4'}, 'Type': 'process'}, {'$id': '11', 'SessionId': '0x0', 'StartTimeUtc': '2019-01-15T09:15:03.3338239Z', 'EndTimeUtc': '2019-01-15T09:15:03.3338239Z', 'Type': 'host-logon-session', 'Host': {'$ref': '4'}, 'Account': {'$ref': '5'}}]</td>\n",
       "    </tr>\n",
       "    <tr>\n",
       "      <th>ConfidenceLevel</th>\n",
       "      <td>Unknown</td>\n",
       "    </tr>\n",
       "    <tr>\n",
       "      <th>ConfidenceScore</th>\n",
       "      <td>NaN</td>\n",
       "    </tr>\n",
       "    <tr>\n",
       "      <th>ExtendedLinks</th>\n",
       "      <td>NaN</td>\n",
       "    </tr>\n",
       "    <tr>\n",
       "      <th>WorkspaceSubscriptionId</th>\n",
       "      <td>3c1bb38c-82e3-4f8d-a115-a7110ba70d05</td>\n",
       "    </tr>\n",
       "    <tr>\n",
       "      <th>WorkspaceResourceGroup</th>\n",
       "      <td>contoso77</td>\n",
       "    </tr>\n",
       "    <tr>\n",
       "      <th>TimeGenerated</th>\n",
       "      <td>2019-01-15 09:15:08</td>\n",
       "    </tr>\n",
       "    <tr>\n",
       "      <th>ResourceId</th>\n",
       "      <td>/subscriptions/40dcc8bf-0478-4f3b-b275-ed0a94f2c013/resourceGroups/ASIHuntOMSWorkspaceRG/providers/Microsoft.Compute/virtualMachines/MSTICAlertsWin1</td>\n",
       "    </tr>\n",
       "    <tr>\n",
       "      <th>SourceComputerId</th>\n",
       "      <td>46fe7078-61bb-4bed-9430-7ac01d91c273</td>\n",
       "    </tr>\n",
       "    <tr>\n",
       "      <th>CompromisedEntity</th>\n",
       "      <td>MSTICALERTSWIN1</td>\n",
       "    </tr>\n",
       "  </tbody>\n",
       "</table><br/><h3>ExtendedProperties:</h3><table border=\"1\" class=\"dataframe\">\n",
       "  <thead>\n",
       "    <tr style=\"text-align: right;\">\n",
       "      <th></th>\n",
       "      <th>0</th>\n",
       "    </tr>\n",
       "  </thead>\n",
       "  <tbody>\n",
       "    <tr>\n",
       "      <th>Compromised Host</th>\n",
       "      <td>MSTICALERTSWIN1</td>\n",
       "    </tr>\n",
       "    <tr>\n",
       "      <th>User Name</th>\n",
       "      <td>adm1nistrator</td>\n",
       "    </tr>\n",
       "    <tr>\n",
       "      <th>Account Session Id</th>\n",
       "      <td>0x0</td>\n",
       "    </tr>\n",
       "    <tr>\n",
       "      <th>Suspicious Process</th>\n",
       "      <td>c:\\windows\\system32\\net.exe</td>\n",
       "    </tr>\n",
       "    <tr>\n",
       "      <th>Suspicious Command Line</th>\n",
       "      <td>net  user adm1nistrator bob_testing /add</td>\n",
       "    </tr>\n",
       "    <tr>\n",
       "      <th>Parent Process</th>\n",
       "      <td>c:\\windows\\system32\\cmd.exe</td>\n",
       "    </tr>\n",
       "    <tr>\n",
       "      <th>Suspicious Process Id</th>\n",
       "      <td>0x141c</td>\n",
       "    </tr>\n",
       "    <tr>\n",
       "      <th>Suspicious Account Name</th>\n",
       "      <td>adm1nistrator</td>\n",
       "    </tr>\n",
       "    <tr>\n",
       "      <th>Similar To Account Name</th>\n",
       "      <td>administrator</td>\n",
       "    </tr>\n",
       "    <tr>\n",
       "      <th>resourceType</th>\n",
       "      <td>Virtual Machine</td>\n",
       "    </tr>\n",
       "    <tr>\n",
       "      <th>ServiceId</th>\n",
       "      <td>14fa08c7-c48e-4c18-950c-8148024b4398</td>\n",
       "    </tr>\n",
       "    <tr>\n",
       "      <th>ReportingSystem</th>\n",
       "      <td>Azure</td>\n",
       "    </tr>\n",
       "    <tr>\n",
       "      <th>OccuringDatacenter</th>\n",
       "      <td>eastus</td>\n",
       "    </tr>\n",
       "  </tbody>\n",
       "</table><br/><h3>Entities:</h3><br/>{ &#x27;AdditionalData&#x27;: {},,   &#x27;DnsDomain&#x27;: &#x27;&#x27;,,   &#x27;HostName&#x27;: &#x27;MSTICALERTSWIN1&#x27;,,   &#x27;IsDomainJoined&#x27;: False,,   &#x27;NTDomain&#x27;: &#x27;&#x27;,,   &#x27;NetBiosName&#x27;: &#x27;MSTICALERTSWIN1&#x27;,,   &#x27;OSFamily&#x27;: &#x27;Windows&#x27;,,   &#x27;Type&#x27;: &#x27;host&#x27;}<br/>{ &#x27;AdditionalData&#x27;: {},,   &#x27;Host&#x27;: { &#x27;AdditionalData&#x27;: {},,             &#x27;DnsDomain&#x27;: &#x27;&#x27;,,             &#x27;HostName&#x27;: &#x27;MSTICALERTSWIN1&#x27;,,             &#x27;IsDomainJoined&#x27;: False,,             &#x27;NTDomain&#x27;: &#x27;&#x27;,,             &#x27;NetBiosName&#x27;: &#x27;MSTICALERTSWIN1&#x27;,,             &#x27;OSFamily&#x27;: &#x27;Windows&#x27;,,             &#x27;Type&#x27;: &#x27;host&#x27;},,   &#x27;LogonId&#x27;: &#x27;0x0&#x27;,,   &#x27;Name&#x27;: &#x27;adm1nistrator&#x27;,,   &#x27;Type&#x27;: &#x27;account&#x27;}<br/>{ &#x27;AdditionalData&#x27;: {},,   &#x27;Directory&#x27;: &#x27;c:\\\\windows\\\\system32&#x27;,,   &#x27;FullPath&#x27;: &#x27;c:\\\\windows\\\\system32\\\\cmd.exe&#x27;,,   &#x27;Name&#x27;: &#x27;cmd.exe&#x27;,,   &#x27;Type&#x27;: &#x27;file&#x27;}<br/>{ &#x27;AdditionalData&#x27;: {},,   &#x27;CommandLine&#x27;: &#x27;&#x27;,,   &#x27;Host&#x27;: { &#x27;AdditionalData&#x27;: {},,             &#x27;DnsDomain&#x27;: &#x27;&#x27;,,             &#x27;HostName&#x27;: &#x27;MSTICALERTSWIN1&#x27;,,             &#x27;IsDomainJoined&#x27;: False,,             &#x27;NTDomain&#x27;: &#x27;&#x27;,,             &#x27;NetBiosName&#x27;: &#x27;MSTICALERTSWIN1&#x27;,,             &#x27;OSFamily&#x27;: &#x27;Windows&#x27;,,             &#x27;Type&#x27;: &#x27;host&#x27;},,   &#x27;ImageFile&#x27;: { &#x27;AdditionalData&#x27;: {},,                  &#x27;Directory&#x27;: &#x27;c:\\\\windows\\\\system32&#x27;,,                  &#x27;FullPath&#x27;: &#x27;c:\\\\windows\\\\system32\\\\cmd.exe&#x27;,,                  &#x27;Name&#x27;: &#x27;cmd.exe&#x27;,,                  &#x27;Type&#x27;: &#x27;file&#x27;},,   &#x27;ProcessId&#x27;: &#x27;0x165c&#x27;,,   &#x27;Type&#x27;: &#x27;process&#x27;}<br/>{ &#x27;AdditionalData&#x27;: {},,   &#x27;IsDomainJoined&#x27;: False,,   &#x27;LogonId&#x27;: &#x27;0x13bded7&#x27;,,   &#x27;NTDomain&#x27;: &#x27;MSTICAlertsWin1&#x27;,,   &#x27;Name&#x27;: &#x27;MSTICAdmin&#x27;,,   &#x27;Sid&#x27;: &#x27;S-1-5-21-996632719-2361334927-4038480536-500&#x27;,,   &#x27;Type&#x27;: &#x27;account&#x27;}<br/>{ &#x27;AdditionalData&#x27;: {},,   &#x27;Directory&#x27;: &#x27;c:\\\\windows\\\\system32&#x27;,,   &#x27;FullPath&#x27;: &#x27;c:\\\\windows\\\\system32\\\\net.exe&#x27;,,   &#x27;Name&#x27;: &#x27;net.exe&#x27;,,   &#x27;Type&#x27;: &#x27;file&#x27;}<br/>{ &#x27;Account&#x27;: { &#x27;AdditionalData&#x27;: {},,                &#x27;IsDomainJoined&#x27;: False,,                &#x27;LogonId&#x27;: &#x27;0x13bded7&#x27;,,                &#x27;NTDomain&#x27;: &#x27;MSTICAlertsWin1&#x27;,,                &#x27;Name&#x27;: &#x27;MSTICAdmin&#x27;,,                &#x27;Sid&#x27;: &#x27;S-1-5-21-996632719-2361334927-4038480536-500&#x27;,,                &#x27;Type&#x27;: &#x27;account&#x27;},,   &#x27;AdditionalData&#x27;: {},,   &#x27;CommandLine&#x27;: &#x27;net  user adm1nistrator bob_testing /add&#x27;,,   &#x27;CreationTimeUtc&#x27;: &#x27;2019-01-15T09:15:03.3338239Z&#x27;,,   &#x27;ElevationToken&#x27;: &#x27;Default&#x27;,,   &#x27;Host&#x27;: { &#x27;AdditionalData&#x27;: {},,             &#x27;DnsDomain&#x27;: &#x27;&#x27;,,             &#x27;HostName&#x27;: &#x27;MSTICALERTSWIN1&#x27;,,             &#x27;IsDomainJoined&#x27;: False,,             &#x27;NTDomain&#x27;: &#x27;&#x27;,,             &#x27;NetBiosName&#x27;: &#x27;MSTICALERTSWIN1&#x27;,,             &#x27;OSFamily&#x27;: &#x27;Windows&#x27;,,             &#x27;Type&#x27;: &#x27;host&#x27;},,   &#x27;ImageFile&#x27;: { &#x27;AdditionalData&#x27;: {},,                  &#x27;Directory&#x27;: &#x27;c:\\\\windows\\\\system32&#x27;,,                  &#x27;FullPath&#x27;: &#x27;c:\\\\windows\\\\system32\\\\net.exe&#x27;,,                  &#x27;Name&#x27;: &#x27;net.exe&#x27;,,                  &#x27;Type&#x27;: &#x27;file&#x27;},,   &#x27;ParentProcess&#x27;: { &#x27;AdditionalData&#x27;: {},,                      &#x27;CommandLine&#x27;: &#x27;&#x27;,,                      &#x27;Host&#x27;: { &#x27;AdditionalData&#x27;: {},,                                &#x27;DnsDomain&#x27;: &#x27;&#x27;,,                                &#x27;HostName&#x27;: &#x27;MSTICALERTSWIN1&#x27;,,                                &#x27;IsDomainJoined&#x27;: False,,                                &#x27;NTDomain&#x27;: &#x27;&#x27;,,                                &#x27;NetBiosName&#x27;: &#x27;MSTICALERTSWIN1&#x27;,,                                &#x27;OSFamily&#x27;: &#x27;Windows&#x27;,,                                &#x27;Type&#x27;: &#x27;host&#x27;},,                      &#x27;ImageFile&#x27;: { &#x27;AdditionalData&#x27;: {},,                                     &#x27;Directory&#x27;: &#x27;c:\\\\windows\\\\system32&#x27;,,                                     &#x27;FullPath&#x27;: &#x27;c:\\\\windows\\\\system32\\\\cmd.exe&#x27;,,                                     &#x27;Name&#x27;: &#x27;cmd.exe&#x27;,,                                     &#x27;Type&#x27;: &#x27;file&#x27;},,                      &#x27;ProcessId&#x27;: &#x27;0x165c&#x27;,,                      &#x27;Type&#x27;: &#x27;process&#x27;},,   &#x27;ProcessId&#x27;: &#x27;0x141c&#x27;,,   &#x27;Type&#x27;: &#x27;process&#x27;}<br/>{ &#x27;Account&#x27;: { &#x27;AdditionalData&#x27;: {},,                &#x27;Host&#x27;: { &#x27;AdditionalData&#x27;: {},,                          &#x27;DnsDomain&#x27;: &#x27;&#x27;,,                          &#x27;HostName&#x27;: &#x27;MSTICALERTSWIN1&#x27;,,                          &#x27;IsDomainJoined&#x27;: False,,                          &#x27;NTDomain&#x27;: &#x27;&#x27;,,                          &#x27;NetBiosName&#x27;: &#x27;MSTICALERTSWIN1&#x27;,,                          &#x27;OSFamily&#x27;: &#x27;Windows&#x27;,,                          &#x27;Type&#x27;: &#x27;host&#x27;},,                &#x27;LogonId&#x27;: &#x27;0x0&#x27;,,                &#x27;Name&#x27;: &#x27;adm1nistrator&#x27;,,                &#x27;Type&#x27;: &#x27;account&#x27;},,   &#x27;AdditionalData&#x27;: {},,   &#x27;EndTimeUtc&#x27;: &#x27;2019-01-15T09:15:03.3338239Z&#x27;,,   &#x27;Host&#x27;: { &#x27;AdditionalData&#x27;: {},,             &#x27;DnsDomain&#x27;: &#x27;&#x27;,,             &#x27;HostName&#x27;: &#x27;MSTICALERTSWIN1&#x27;,,             &#x27;IsDomainJoined&#x27;: False,,             &#x27;NTDomain&#x27;: &#x27;&#x27;,,             &#x27;NetBiosName&#x27;: &#x27;MSTICALERTSWIN1&#x27;,,             &#x27;OSFamily&#x27;: &#x27;Windows&#x27;,,             &#x27;Type&#x27;: &#x27;host&#x27;},,   &#x27;SessionId&#x27;: &#x27;0x0&#x27;,,   &#x27;StartTimeUtc&#x27;: &#x27;2019-01-15T09:15:03.3338239Z&#x27;,,   &#x27;Type&#x27;: &#x27;host-logon-session&#x27;}"
      ],
      "text/plain": [
       "<IPython.core.display.HTML object>"
      ]
     },
     "metadata": {},
     "output_type": "display_data"
    }
   ],
   "source": [
    "from IPython.display import HTML\n",
    "security_alert = None\n",
    "\n",
    "# create a function to get the displayable object\n",
    "def alert_with_entities(alert):\n",
    "    return HTML(SecurityAlert(alert).to_html(show_entities=True))\n",
    "                \n",
    "alert_select = nbwidgets.SelectAlert(alerts=alerts.query('CompromisedEntity == \"MSTICALERTSWIN1\"'), \n",
    "                                     action=alert_with_entities)\n",
    "display(Markdown('### Or a more detailed display with extracted entities'))\n",
    "alert_select"
   ]
  },
  {
   "cell_type": "markdown",
   "metadata": {},
   "source": [
    "<a id='SelectItem'></a>[Contents](#contents)\n",
    "## SelectItem\n",
    "\n",
    "Similar to AlertSelector but simpler and allows you to use any list or dictionary of items.\n",
    "\n",
    "```\n",
    "Selection list from list or dict.\n",
    "\n",
    "Attributes:\n",
    "    value : The selected value.\n",
    "Init docstring:\n",
    "Select an item from a list or dict.\n",
    "\n",
    "Parameters\n",
    "----------\n",
    "description : str, optional\n",
    "    The widget label to display (the default is None)\n",
    "item_list : List[str], optional\n",
    "    A `list` of items to select from (the default is None)\n",
    "item_dict : Mapping[str, str], optional\n",
    "    A `dict` of items to select from. When using `item_dict`\n",
    "    the keys are displayed as the selectable items and value\n",
    "    corresponding to the selected key is set as the `value`\n",
    "    property.\n",
    "    (the default is None)\n",
    "action : Callable[..., None], optional\n",
    "    function to call when item selected (passed a single\n",
    "    parameter - the value of the currently selected item)\n",
    "    (the default is None)\n",
    "auto_display : bool, optional\n",
    "    Whether to display on instantiation (the default is False)\n",
    "height : str, optional\n",
    "    Selection list height (the default is '100px')\n",
    "width : str, optional\n",
    "    Selection list width (the default is '50%')\n",
    "```"
   ]
  },
  {
   "cell_type": "code",
   "execution_count": 12,
   "metadata": {
    "ExecuteTime": {
     "end_time": "2019-12-19T22:40:00.225872Z",
     "start_time": "2019-12-19T22:40:00.198893Z"
    }
   },
   "outputs": [
    {
     "data": {
      "application/vnd.jupyter.widget-view+json": {
       "model_id": "7b1d2a743ef24147b628e1dbdffaf47d",
       "version_major": 2,
       "version_minor": 0
      },
      "text/plain": [
       "VBox(children=(Text(value='', description='Filter:', style=DescriptionStyle(description_width='initial')), Sel…"
      ]
     },
     "metadata": {},
     "output_type": "display_data"
    },
    {
     "data": {
      "text/html": [
       "<hr>"
      ],
      "text/plain": [
       "<IPython.core.display.HTML object>"
      ]
     },
     "metadata": {},
     "output_type": "display_data"
    },
    {
     "data": {
      "text/html": [
       "<h3>host</h3>{&nbsp;'AdditionalData':&nbsp;{},<br>&nbsp;&nbsp;'DnsDomain':&nbsp;'',<br>&nbsp;&nbsp;'HostName':&nbsp;'MSTICALERTSWIN1',<br>&nbsp;&nbsp;'IsDomainJoined':&nbsp;False,<br>&nbsp;&nbsp;'NTDomain':&nbsp;'',<br>&nbsp;&nbsp;'NetBiosName':&nbsp;'MSTICALERTSWIN1',<br>&nbsp;&nbsp;'OSFamily':&nbsp;'Windows',<br>&nbsp;&nbsp;'Type':&nbsp;'host'}"
      ],
      "text/plain": [
       "Host(Type=host, HostName=MSTICALERTSWIN1, NetBiosName=MSTICALERTSWIN1, OSFamily=Windo...)"
      ]
     },
     "metadata": {},
     "output_type": "display_data"
    }
   ],
   "source": [
    "# extract the entities from the previously selected alert\n",
    "security_alert = SecurityAlert(alert_select.selected_alert)\n",
    "if security_alert is None:\n",
    "    security_alert = SecurityAlert(alerts.iloc[1])\n",
    "ent_dict = {ent['Type']:ent for ent in security_alert.entities}\n",
    "\n",
    "# from IPython.display import HTML\n",
    "\n",
    "# # create a display function for the entities\n",
    "# def entity_to_html(entity):\n",
    "#     e_text = str(entity)\n",
    "#     e_type = entity.Type\n",
    "#     e_text = e_text.replace(\"\\n\", \"<br>\").replace(\" \", \"&nbsp;\")\n",
    "#     return HTML(f\"<h3>{e_type}</h3>{e_text}\")\n",
    "    \n",
    "nbwidgets.SelectItem(item_dict=ent_dict,\n",
    "                       description='Select an item',\n",
    "                       action=lambda x: x,\n",
    "                       auto_display=True);\n"
   ]
  },
  {
   "cell_type": "markdown",
   "metadata": {},
   "source": [
    "<a id='GetEnvironmentKey'></a>[Contents](#contents)\n",
    "## GetEnvironmentKey\n",
    "Get editable value of environment variable. Common use would be retrieving an API key from your environment or allowing you to paste in a value if the environment key isn't set.\n",
    "\n",
    "Note setting the variable only persists in the python kernel process running at the time. So you can retrieve it later in the notebook but not in other processes."
   ]
  },
  {
   "cell_type": "code",
   "execution_count": 13,
   "metadata": {
    "ExecuteTime": {
     "end_time": "2019-12-19T22:43:18.702480Z",
     "start_time": "2019-12-19T22:43:18.680497Z"
    },
    "scrolled": true
   },
   "outputs": [
    {
     "data": {
      "application/vnd.jupyter.widget-view+json": {
       "model_id": "fd4b3ef0bcc548678fce5340283aee12",
       "version_major": 2,
       "version_minor": 0
      },
      "text/plain": [
       "HBox(children=(Text(value='C:\\\\Users\\\\Ian', description='Enter the value: ', layout=Layout(width='50%'), style…"
      ]
     },
     "metadata": {},
     "output_type": "display_data"
    }
   ],
   "source": [
    "nbwidgets.GetEnvironmentKey(env_var='userprofile', auto_display=True);"
   ]
  },
  {
   "cell_type": "markdown",
   "metadata": {},
   "source": [
    "<a id='SelectSubset'></a>[Contents](#contents)\n",
    "## SelectSubset\n",
    "Allows you to select one or multiple items from a list to populate an output set.\n",
    "\n",
    "```\n",
    "Class to select a subset from an input list.\n",
    "\n",
    "    Attributes\n",
    "    ----------\n",
    "    selected_values : List[Any]\n",
    "        The selected item values.\n",
    "    selected_items : List[Any]\n",
    "        The selected items label and value\n",
    "        \n",
    "Init docstring:\n",
    "Create instance of SelectSubset widget.\n",
    "\n",
    "Parameters\n",
    "----------\n",
    "source_items : Union[Dict[str, str], List[Any]]\n",
    "    List of source items - either a dictionary(label, value),\n",
    "    a simple list or\n",
    "    a list of (label, value) tuples.\n",
    "default_selected : Union[Dict[str, str], List[Any]]\n",
    "    Populate the selected list with values - either\n",
    "    a dictionary(label, value),\n",
    "    a simple list or\n",
    "    a list of (label, value) tuples.\n",
    "```"
   ]
  },
  {
   "cell_type": "code",
   "execution_count": 14,
   "metadata": {
    "ExecuteTime": {
     "end_time": "2019-12-19T22:52:10.297759Z",
     "start_time": "2019-12-19T22:52:10.252790Z"
    }
   },
   "outputs": [
    {
     "data": {
      "application/vnd.jupyter.widget-view+json": {
       "model_id": "fc79fafaac3b4aa19d7dd4c35654902e",
       "version_major": 2,
       "version_minor": 0
      },
      "text/plain": [
       "VBox(children=(Text(value='', description='Filter:', style=DescriptionStyle(description_width='initial')), HBo…"
      ]
     },
     "metadata": {},
     "output_type": "display_data"
    }
   ],
   "source": [
    "# Simple list\n",
    "items = list(alerts[\"AlertName\"].values)\n",
    "sel_sub = nbwidgets.SelectSubset(source_items=items)"
   ]
  },
  {
   "cell_type": "code",
   "execution_count": 15,
   "metadata": {
    "ExecuteTime": {
     "end_time": "2019-12-19T22:52:37.922930Z",
     "start_time": "2019-12-19T22:52:37.880962Z"
    },
    "scrolled": true
   },
   "outputs": [
    {
     "data": {
      "application/vnd.jupyter.widget-view+json": {
       "model_id": "25dd3ad3aeb7493ca62127586ae59ae4",
       "version_major": 2,
       "version_minor": 0
      },
      "text/plain": [
       "VBox(children=(Text(value='', description='Filter:', style=DescriptionStyle(description_width='initial')), HBo…"
      ]
     },
     "metadata": {},
     "output_type": "display_data"
    }
   ],
   "source": [
    "# Label/Value pair items with a a subset of pre-selected items\n",
    "items = {v: k for k, v in alerts[\"AlertName\"].to_dict().items()}\n",
    "pre_selected = {v: k for k, v in alerts[\"AlertName\"].to_dict().items() if \"commandline\" in v}\n",
    "sel_sub = nbwidgets.SelectSubset(source_items=items, default_selected=pre_selected)\n"
   ]
  },
  {
   "cell_type": "code",
   "execution_count": 16,
   "metadata": {
    "ExecuteTime": {
     "end_time": "2019-09-02T23:54:08.581230Z",
     "start_time": "2019-09-02T23:54:08.577235Z"
    },
    "scrolled": true
   },
   "outputs": [
    {
     "name": "stdout",
     "output_type": "stream",
     "text": [
      "Values: [79, 109, 83] \n",
      "\n",
      "Items: [('Detected suspicious commandline arguments', 79), ('Detected suspicious commandline used to start all executables in a directory', 109), ('Detected suspicious credentials in commandline', 83)]\n"
     ]
    }
   ],
   "source": [
    "print(\"Values:\", sel_sub.selected_values, \"\\n\")\n",
    "print(\"Items:\", sel_sub.selected_items)"
   ]
  },
  {
   "cell_type": "markdown",
   "metadata": {},
   "source": [
    "## Progress Indicator"
   ]
  },
  {
   "cell_type": "code",
   "execution_count": 17,
   "metadata": {
    "ExecuteTime": {
     "end_time": "2019-12-19T23:04:17.717178Z",
     "start_time": "2019-12-19T23:04:14.399755Z"
    }
   },
   "outputs": [
    {
     "data": {
      "application/vnd.jupyter.widget-view+json": {
       "model_id": "b7e99221d8704729ba4c3e70db0d14bf",
       "version_major": 2,
       "version_minor": 0
      },
      "text/plain": [
       "HBox(children=(IntProgress(value=0, bar_style='info', description='Progress:'), Label(value='0%')))"
      ]
     },
     "metadata": {},
     "output_type": "display_data"
    },
    {
     "data": {
      "application/vnd.jupyter.widget-view+json": {
       "model_id": "c2d278e06d884b6088f3cdc4ad87f469",
       "version_major": 2,
       "version_minor": 0
      },
      "text/plain": [
       "HBox(children=(IntProgress(value=0, bar_style='info', description='Progress:'), Label(value='0%')))"
      ]
     },
     "metadata": {},
     "output_type": "display_data"
    },
    {
     "name": "stdout",
     "output_type": "stream",
     "text": [
      "Volume goes to eleven!\n"
     ]
    }
   ],
   "source": [
    "from time import sleep\n",
    "progress = nbwidgets.Progress(completed_len=2000)\n",
    "for i in range(0, 2100, 100):\n",
    "    progress.update_progress(new_total=i)\n",
    "    sleep(0.1)\n",
    "    \n",
    "inc_progress = nbwidgets.Progress(completed_len=10)\n",
    "for i in range(0, 11):\n",
    "    inc_progress.update_progress(delta=1)\n",
    "    sleep(0.1)\n",
    "print(\"Volume goes to eleven!\")"
   ]
  },
  {
   "cell_type": "markdown",
   "metadata": {},
   "source": [
    "## Logon Display\n",
    "Display logon details for a Windows or Linux logon"
   ]
  },
  {
   "cell_type": "code",
   "execution_count": 18,
   "metadata": {},
   "outputs": [
    {
     "data": {
      "application/vnd.jupyter.widget-view+json": {
       "model_id": "8cabd238f84b48159f6a22ef7cacded8",
       "version_major": 2,
       "version_minor": 0
      },
      "text/plain": [
       "VBox(children=(Text(value='', description='Filter:', style=DescriptionStyle(description_width='initial')), Sel…"
      ]
     },
     "metadata": {},
     "output_type": "display_data"
    },
    {
     "data": {
      "text/html": [
       "<hr>"
      ],
      "text/plain": [
       "<IPython.core.display.HTML object>"
      ]
     },
     "metadata": {},
     "output_type": "display_data"
    },
    {
     "data": {
      "text/html": [
       "\n",
       "        <style>\n",
       "            .table_logon {border-collapse: collapse; width: 50%;}\n",
       "            .cell_logon {border: 1px solid #ddd !important;\n",
       "                text-align: left !important; padding: 15px !important;}\n",
       "        </style>\n",
       "        <table class='table_logon'><tr class='cell_logon'><td class='cell_logon'><b>Account: </b>MSTICAdmin<br><b>Account Domain: </b>MSTICAlertsWin1<br><b>Logon Time: </b>2019-01-15 05:15:02.980<br><b>Logon type: </b>4(Batch)<br><b>User Id/SID: </b>S-1-5-21-996632719-2361334927-4038480536-500<br>&nbsp;&nbsp;SID S-1-5-21-996632719-2361334927-4038480536-500 is administrator<br>&nbsp;&nbsp;SID S-1-5-21-996632719-2361334927-4038480536-500 is local machine or domain account<br><br><b>Subject (source) account: </b>WORKGROUP/MSTICAlertsWin1$<br><b>Logon process: </b>Advapi  <br><b>Authentication: </b>Negotiate<br><b>Source IpAddress: </b>-<br><b>Source Host: </b>MSTICAlertsWin1<br><b>Logon status: </b>nan<br></td></tr></table>"
      ],
      "text/plain": [
       "<IPython.core.display.HTML object>"
      ]
     },
     "metadata": {},
     "output_type": "display_data"
    }
   ],
   "source": [
    "win_logons = pd.read_csv(\"data/host_logons.csv\")\n",
    "user_dict = win_logons.apply(lambda x: f\"{x.TargetDomainName}/{x.TargetUserName}   ({x.TimeGenerated})\", axis=1).to_dict()\n",
    "user_dict = {v: k for k, v in user_dict.items()}\n",
    "\n",
    "from msticpy.nbtools.nbdisplay import format_logon\n",
    "# create a display function for the entities\n",
    "def disp_logon(index):\n",
    "    print\n",
    "    logons = win_logons[win_logons.index == index]\n",
    "    return format_logon(logons)\n",
    "    \n",
    "acct_select = nbwidgets.SelectItem(item_dict=user_dict,\n",
    "                       description='Select an item',\n",
    "                       action=disp_logon,\n",
    "                       auto_display=True);"
   ]
  },
  {
   "cell_type": "markdown",
   "metadata": {},
   "source": [
    "#### Display a list of logons"
   ]
  },
  {
   "cell_type": "code",
   "execution_count": 19,
   "metadata": {},
   "outputs": [
    {
     "data": {
      "text/html": [
       "\n",
       "        <style>\n",
       "            .table_logon {border-collapse: collapse; width: 50%;}\n",
       "            .cell_logon {border: 1px solid #ddd !important;\n",
       "                text-align: left !important; padding: 15px !important;}\n",
       "        </style>\n",
       "        <table class='table_logon'><tr class='cell_logon'><td class='cell_logon'><b>Account: </b>MSTICAdmin<br><b>Account Domain: </b>MSTICAlertsWin1<br><b>Logon Time: </b>2019-01-15 05:15:02.980<br><b>Logon type: </b>4(Batch)<br><b>User Id/SID: </b>S-1-5-21-996632719-2361334927-4038480536-500<br>&nbsp;&nbsp;SID S-1-5-21-996632719-2361334927-4038480536-500 is administrator<br>&nbsp;&nbsp;SID S-1-5-21-996632719-2361334927-4038480536-500 is local machine or domain account<br><br><b>Subject (source) account: </b>WORKGROUP/MSTICAlertsWin1$<br><b>Logon process: </b>Advapi  <br><b>Authentication: </b>Negotiate<br><b>Source IpAddress: </b>-<br><b>Source Host: </b>MSTICAlertsWin1<br><b>Logon status: </b>nan<br></td></tr><tr class='cell_logon'><td class='cell_logon'><b>Account: </b>SYSTEM<br><b>Account Domain: </b>NT AUTHORITY<br><b>Logon Time: </b>2019-01-15 05:15:04.503<br><b>Logon type: </b>5(Service)<br><b>User Id/SID: </b>S-1-5-18<br>&nbsp;&nbsp;SID S-1-5-18 is LOCAL_SYSTEM<br><br><b>Subject (source) account: </b>WORKGROUP/MSTICAlertsWin1$<br><b>Logon process: </b>Advapi  <br><b>Authentication: </b>Negotiate<br><b>Source IpAddress: </b>-<br><b>Source Host: </b>-<br><b>Logon status: </b>nan<br></td></tr><tr class='cell_logon'><td class='cell_logon'><b>Account: </b>adm1nistrator<br><b>Account Domain: </b>MSTICAlertsWin1<br><b>Logon Time: </b>2019-01-15 05:15:06.363<br><b>Logon type: </b>3(Network)<br><b>User Id/SID: </b>S-1-5-21-996632719-2361334927-4038480536-1066<br>&nbsp;&nbsp;SID S-1-5-21-996632719-2361334927-4038480536-1066 is local machine or domain account<br><br><b>Subject (source) account: </b>-/-<br><b>Logon process: </b>NtLmSsp <br><b>Authentication: </b>NTLM<br><b>Source IpAddress: </b>fe80::38dc:e4a9:61bd:b458<br><b>Source Host: </b>MSTICAlertsWin1<br><b>Logon status: </b>nan<br></td></tr><tr class='cell_logon'><td class='cell_logon'><b>Account: </b>SYSTEM<br><b>Account Domain: </b>NT AUTHORITY<br><b>Logon Time: </b>2019-01-15 05:15:10.813<br><b>Logon type: </b>5(Service)<br><b>User Id/SID: </b>S-1-5-18<br>&nbsp;&nbsp;SID S-1-5-18 is LOCAL_SYSTEM<br><br><b>Subject (source) account: </b>WORKGROUP/MSTICAlertsWin1$<br><b>Logon process: </b>Advapi  <br><b>Authentication: </b>Negotiate<br><b>Source IpAddress: </b>-<br><b>Source Host: </b>-<br><b>Logon status: </b>nan<br></td></tr><tr class='cell_logon'><td class='cell_logon'><b>Account: </b>SYSTEM<br><b>Account Domain: </b>NT AUTHORITY<br><b>Logon Time: </b>2019-01-15 05:15:14.453<br><b>Logon type: </b>5(Service)<br><b>User Id/SID: </b>S-1-5-18<br>&nbsp;&nbsp;SID S-1-5-18 is LOCAL_SYSTEM<br><br><b>Subject (source) account: </b>WORKGROUP/MSTICAlertsWin1$<br><b>Logon process: </b>Advapi  <br><b>Authentication: </b>Negotiate<br><b>Source IpAddress: </b>-<br><b>Source Host: </b>-<br><b>Logon status: </b>nan<br></td></tr></table>"
      ],
      "text/plain": [
       "<IPython.core.display.HTML object>"
      ]
     },
     "metadata": {},
     "output_type": "display_data"
    }
   ],
   "source": [
    "# display a list of logons\n",
    "display(format_logon(win_logons.head(5)))"
   ]
  }
 ],
 "metadata": {
  "hide_input": false,
  "kernelspec": {
   "display_name": "Python 3.6.7 64-bit",
   "language": "python",
   "name": "python36764bit5248c27440094c529a61105b4d9945f7"
  },
  "language_info": {
   "codemirror_mode": {
    "name": "ipython",
    "version": 3
   },
   "file_extension": ".py",
   "mimetype": "text/x-python",
   "name": "python",
   "nbconvert_exporter": "python",
   "pygments_lexer": "ipython3",
   "version": "3.6.7"
  },
  "latex_envs": {
   "LaTeX_envs_menu_present": true,
   "autoclose": false,
   "autocomplete": true,
   "bibliofile": "biblio.bib",
   "cite_by": "apalike",
   "current_citInitial": 1,
   "eqLabelWithNumbers": true,
   "eqNumInitial": 1,
   "hotkeys": {
    "equation": "Ctrl-E",
    "itemize": "Ctrl-I"
   },
   "labels_anchors": false,
   "latex_user_defs": false,
   "report_style_numbering": false,
   "user_envs_cfg": false
  },
  "toc": {
   "base_numbering": 1,
   "nav_menu": {},
   "number_sections": false,
   "sideBar": true,
   "skip_h1_title": false,
   "title_cell": "Table of Contents",
   "title_sidebar": "Contents",
   "toc_cell": false,
   "toc_position": {},
   "toc_section_display": true,
   "toc_window_display": false
  },
  "varInspector": {
   "cols": {
    "lenName": 16,
    "lenType": 16,
    "lenVar": 40
   },
   "kernels_config": {
    "python": {
     "delete_cmd_postfix": "",
     "delete_cmd_prefix": "del ",
     "library": "var_list.py",
     "varRefreshCmd": "print(var_dic_list())"
    },
    "r": {
     "delete_cmd_postfix": ") ",
     "delete_cmd_prefix": "rm(",
     "library": "var_list.r",
     "varRefreshCmd": "cat(var_dic_list()) "
    }
   },
   "types_to_exclude": [
    "module",
    "function",
    "builtin_function_or_method",
    "instance",
    "_Feature"
   ],
   "window_display": false
  },
  "widgets": {
   "application/vnd.jupyter.widget-state+json": {
    "state": {
     "006870fa17bc40cdbd948628acd4ac86": {
      "model_module": "@jupyter-widgets/controls",
      "model_module_version": "1.5.0",
      "model_name": "DatePickerModel",
      "state": {
       "description": "Origin Date",
       "disabled": false,
       "layout": "IPY_MODEL_52a817f83c2f4224befe10a541606a04",
       "style": "IPY_MODEL_cee900205a0f4a63acba06c1fbd480ec",
       "value": {
        "date": 28,
        "month": 4,
        "year": 2020
       }
      }
     },
     "0124de572b974f04a91ee537da9ffe38": {
      "model_module": "@jupyter-widgets/controls",
      "model_module_version": "1.5.0",
      "model_name": "DescriptionStyleModel",
      "state": {
       "description_width": ""
      }
     },
     "0167cd6060ab42dc8a43f574d4cd2d47": {
      "model_module": "@jupyter-widgets/controls",
      "model_module_version": "1.5.0",
      "model_name": "HBoxModel",
      "state": {
       "children": [
        "IPY_MODEL_884fcae989914080b07c69739bc5cb1f",
        "IPY_MODEL_cef071cb62f04d718b58796120231324",
        "IPY_MODEL_7b956aaef01d4446a81b2e8336e6ac6f"
       ],
       "layout": "IPY_MODEL_043d4c0d6ed14bc4b15939e7f844f8fd"
      }
     },
     "01ef00d957984eb885e12115ae6c5db0": {
      "model_module": "@jupyter-widgets/base",
      "model_module_version": "1.2.0",
      "model_name": "LayoutModel",
      "state": {
       "width": "80%"
      }
     },
     "043d4c0d6ed14bc4b15939e7f844f8fd": {
      "model_module": "@jupyter-widgets/base",
      "model_module_version": "1.2.0",
      "model_name": "LayoutModel",
      "state": {}
     },
     "046b4c62ee494dddb86b7f36f383a78e": {
      "model_module": "@jupyter-widgets/base",
      "model_module_version": "1.2.0",
      "model_name": "LayoutModel",
      "state": {}
     },
     "05470ad669ec44619a4f545c6d262c00": {
      "model_module": "@jupyter-widgets/base",
      "model_module_version": "1.2.0",
      "model_name": "LayoutModel",
      "state": {}
     },
     "078e92c6ee6c43dd8475d4344020dd3a": {
      "model_module": "@jupyter-widgets/controls",
      "model_module_version": "1.5.0",
      "model_name": "SelectMultipleModel",
      "state": {
       "_options_labels": [
        "Detected suspicious commandline arguments",
        "Detected suspicious commandline used to start all executables in a directory",
        "Detected suspicious credentials in commandline"
       ],
       "description": "Selected: ",
       "index": [],
       "layout": "IPY_MODEL_2c1a950642c54b588250d851ca6d0546",
       "rows": 5,
       "style": "IPY_MODEL_b06ce70bbd6245578b160dcfa82b72ef"
      }
     },
     "08329aed75a84aa19bcd446d23b214b5": {
      "model_module": "@jupyter-widgets/base",
      "model_module_version": "1.2.0",
      "model_name": "LayoutModel",
      "state": {}
     },
     "0a74b18eb4d040d38a6dbeb88aaeada3": {
      "model_module": "@jupyter-widgets/controls",
      "model_module_version": "1.5.0",
      "model_name": "DescriptionStyleModel",
      "state": {
       "description_width": "initial"
      }
     },
     "0bc9e7e8f3684d42be111f2decad3232": {
      "model_module": "@jupyter-widgets/controls",
      "model_module_version": "1.5.0",
      "model_name": "VBoxModel",
      "state": {
       "children": [
        "IPY_MODEL_544038b16bbc4682a8b5b70d0518e1c4",
        "IPY_MODEL_e6cd0ce71d6e459da5ea0ade3259716e"
       ],
       "layout": "IPY_MODEL_471e97f7c1014aa09bc953ae2b08f26c"
      }
     },
     "0bf8799263b04f239e03cedf9c1af0ed": {
      "model_module": "@jupyter-widgets/base",
      "model_module_version": "1.2.0",
      "model_name": "LayoutModel",
      "state": {}
     },
     "0cc9e954a38b4b13aeb42c2863c63fd4": {
      "model_module": "@jupyter-widgets/controls",
      "model_module_version": "1.5.0",
      "model_name": "DatePickerModel",
      "state": {
       "description": "Origin Date",
       "disabled": false,
       "layout": "IPY_MODEL_d63dadf2939447908fbf28ddc5a64ca3",
       "style": "IPY_MODEL_d5afd5830cf1461aa3e20435ce696905",
       "value": {
        "date": 12,
        "month": 5,
        "year": 2020
       }
      }
     },
     "0e7d1ab947bb401eb85870ead62bc5bc": {
      "model_module": "@jupyter-widgets/base",
      "model_module_version": "1.2.0",
      "model_name": "LayoutModel",
      "state": {}
     },
     "0fad3c9e1c1c4027ae5c09d1e423508b": {
      "model_module": "@jupyter-widgets/base",
      "model_module_version": "1.2.0",
      "model_name": "LayoutModel",
      "state": {}
     },
     "0fd1ab3d294c4ae69d26949a0f7ffa84": {
      "model_module": "@jupyter-widgets/controls",
      "model_module_version": "1.5.0",
      "model_name": "ButtonModel",
      "state": {
       "description": "⇽ Remove",
       "layout": "IPY_MODEL_2dedec4c113f425dbd6656524c9cf0f8",
       "style": "IPY_MODEL_8a6d6f462a604cafbc214820209d93e6"
      }
     },
     "10315eb9da76444c8dc3c8390cf5690c": {
      "model_module": "@jupyter-widgets/controls",
      "model_module_version": "1.5.0",
      "model_name": "TextModel",
      "state": {
       "description": "Query start time (UTC):",
       "layout": "IPY_MODEL_5725596d58d34ffda9e74d6299e483fa",
       "style": "IPY_MODEL_56fd5cefe4d1416db63126527bedf0fc",
       "value": "2020-05-28 19:42:15.218230"
      }
     },
     "112d325aeede473b8c1a44f6d1382a02": {
      "model_module": "@jupyter-widgets/controls",
      "model_module_version": "1.5.0",
      "model_name": "DescriptionStyleModel",
      "state": {
       "description_width": "initial"
      }
     },
     "136179e31478428babe00a908d058dc6": {
      "model_module": "@jupyter-widgets/base",
      "model_module_version": "1.2.0",
      "model_name": "LayoutModel",
      "state": {}
     },
     "15c7508073414cd787ef112bce85de48": {
      "model_module": "@jupyter-widgets/controls",
      "model_module_version": "1.5.0",
      "model_name": "TextModel",
      "state": {
       "description": "Query start time (UTC):",
       "layout": "IPY_MODEL_d942825be126471283fe693d15a6a94f",
       "style": "IPY_MODEL_b6f73152fcdf4a2f9679fa63a7765437",
       "value": "2020-06-12 19:42:15.345503"
      }
     },
     "15d40a9cbb754a10b44ad0c0b0dc5131": {
      "model_module": "@jupyter-widgets/controls",
      "model_module_version": "1.5.0",
      "model_name": "IntRangeSliderModel",
      "state": {
       "_model_name": "IntRangeSliderModel",
       "_view_name": "IntRangeSliderView",
       "description": "Time Range (hour):",
       "layout": "IPY_MODEL_6f0c27b8a3144767b378259a974ac93c",
       "max": 1,
       "min": -20,
       "style": "IPY_MODEL_76a148c19ced4c00a3f71e17f70398a3",
       "value": [
        -1,
        1
       ]
      }
     },
     "1643ecc67b7d4bd3922e4e9117d2d08c": {
      "model_module": "@jupyter-widgets/base",
      "model_module_version": "1.2.0",
      "model_name": "LayoutModel",
      "state": {}
     },
     "17fe4ea0e180469d8ddf4fb135f2ab47": {
      "model_module": "@jupyter-widgets/controls",
      "model_module_version": "1.5.0",
      "model_name": "ButtonStyleModel",
      "state": {}
     },
     "19b525b643ae408fad921ae34434a05d": {
      "model_module": "@jupyter-widgets/controls",
      "model_module_version": "1.5.0",
      "model_name": "ButtonStyleModel",
      "state": {}
     },
     "1e54e245ea68464a9b13476eea4a65de": {
      "model_module": "@jupyter-widgets/controls",
      "model_module_version": "1.5.0",
      "model_name": "DescriptionStyleModel",
      "state": {
       "description_width": "initial"
      }
     },
     "1edff57f007046f3904d2ecb8824bd82": {
      "model_module": "@jupyter-widgets/controls",
      "model_module_version": "1.5.0",
      "model_name": "ButtonModel",
      "state": {
       "description": "Add All ⇾",
       "layout": "IPY_MODEL_6b894dcccb1b42e4b22c2c7960ae17da",
       "style": "IPY_MODEL_70a085cf64d741d4a98a280445d9633b"
      }
     },
     "1f3ca170aaba4f3b8f8204d93bcb8a1c": {
      "model_module": "@jupyter-widgets/base",
      "model_module_version": "1.2.0",
      "model_name": "LayoutModel",
      "state": {}
     },
     "2427db6c43934d06983521cebe977cf6": {
      "model_module": "@jupyter-widgets/controls",
      "model_module_version": "1.5.0",
      "model_name": "HTMLModel",
      "state": {
       "layout": "IPY_MODEL_ac279b14e17644329f06edfa20591e62",
       "style": "IPY_MODEL_c8b8a3310133425a816eafebc059ba2a",
       "value": "<h4>Set query time boundaries</h4>"
      }
     },
     "257e24a183ed4bafa0892c22eba033e5": {
      "model_module": "@jupyter-widgets/base",
      "model_module_version": "1.2.0",
      "model_name": "LayoutModel",
      "state": {
       "height": "200px",
       "width": "40%"
      }
     },
     "25dd3ad3aeb7493ca62127586ae59ae4": {
      "model_module": "@jupyter-widgets/controls",
      "model_module_version": "1.5.0",
      "model_name": "VBoxModel",
      "state": {
       "children": [
        "IPY_MODEL_b3535890d81541e680ca806e709d0fae",
        "IPY_MODEL_c3dcdef50b0040ea8bef69deba22df62"
       ],
       "layout": "IPY_MODEL_fbbc6cf6a836452e88b96182dfe6ff6c"
      }
     },
     "26f0c1e4462b4d2389c6fa9f0902a446": {
      "model_module": "@jupyter-widgets/base",
      "model_module_version": "1.2.0",
      "model_name": "LayoutModel",
      "state": {}
     },
     "2706d79d81534cddab9d36b165613177": {
      "model_module": "@jupyter-widgets/controls",
      "model_module_version": "1.5.0",
      "model_name": "DescriptionStyleModel",
      "state": {
       "description_width": "initial"
      }
     },
     "2c1a950642c54b588250d851ca6d0546": {
      "model_module": "@jupyter-widgets/base",
      "model_module_version": "1.2.0",
      "model_name": "LayoutModel",
      "state": {
       "height": "200px",
       "width": "40%"
      }
     },
     "2c54927c144d44779c292f10313fc986": {
      "model_module": "@jupyter-widgets/controls",
      "model_module_version": "1.5.0",
      "model_name": "DescriptionStyleModel",
      "state": {
       "description_width": "initial"
      }
     },
     "2dedec4c113f425dbd6656524c9cf0f8": {
      "model_module": "@jupyter-widgets/base",
      "model_module_version": "1.2.0",
      "model_name": "LayoutModel",
      "state": {}
     },
     "30dd58884a3e491496a7db2778490958": {
      "model_module": "@jupyter-widgets/base",
      "model_module_version": "1.2.0",
      "model_name": "LayoutModel",
      "state": {}
     },
     "39bc3f1934ff4bd980bdb3fa1d11e896": {
      "model_module": "@jupyter-widgets/controls",
      "model_module_version": "1.5.0",
      "model_name": "ButtonStyleModel",
      "state": {}
     },
     "3a65d1f191e749708e27fe4ba9079c3d": {
      "model_module": "@jupyter-widgets/controls",
      "model_module_version": "1.5.0",
      "model_name": "DescriptionStyleModel",
      "state": {
       "description_width": "initial"
      }
     },
     "3b30b46bbf13407ea6b26cadb2792b70": {
      "model_module": "@jupyter-widgets/controls",
      "model_module_version": "1.5.0",
      "model_name": "HBoxModel",
      "state": {
       "children": [
        "IPY_MODEL_006870fa17bc40cdbd948628acd4ac86",
        "IPY_MODEL_b12827a5c4b4467191ef056ff447f0d4"
       ],
       "layout": "IPY_MODEL_30dd58884a3e491496a7db2778490958"
      }
     },
     "3c593c9b579c4e4785e49946421b267e": {
      "model_module": "@jupyter-widgets/controls",
      "model_module_version": "1.5.0",
      "model_name": "VBoxModel",
      "state": {
       "children": [
        "IPY_MODEL_42e212a2ea104c9783384221eceac49e",
        "IPY_MODEL_542809c90dbb4f2eac8ad2a081163e93"
       ],
       "layout": "IPY_MODEL_a7301d867dad4f72910bf7be5dd854c4"
      }
     },
     "3cb159c2862d43baaf548f73bb721eaa": {
      "model_module": "@jupyter-widgets/controls",
      "model_module_version": "1.5.0",
      "model_name": "VBoxModel",
      "state": {
       "children": [
        "IPY_MODEL_e6565fb18d8d46289f35fe4ba5c3420e",
        "IPY_MODEL_c75cb58429674d34a3db46d6886494ee",
        "IPY_MODEL_ab1e372878bd4d20b65661a3243d9ec1"
       ],
       "layout": "IPY_MODEL_c3873c3d5a7c4c988b2c8175025ff4a9"
      }
     },
     "4024594f02d544f1b9b8c8a2b88c2d46": {
      "model_module": "@jupyter-widgets/controls",
      "model_module_version": "1.5.0",
      "model_name": "VBoxModel",
      "state": {
       "children": [
        "IPY_MODEL_8b5c8473c6334e4a910802ab256cce90",
        "IPY_MODEL_e6ddfb2c5bf342ac9204b216c3c1c9d1",
        "IPY_MODEL_afeb2986f23b456998ee0d242be4d40f"
       ],
       "layout": "IPY_MODEL_75f367aeb5c44e3facf2b2e90bd2c01b"
      }
     },
     "407a75285d744ee1afef41d30084be11": {
      "model_module": "@jupyter-widgets/controls",
      "model_module_version": "1.5.0",
      "model_name": "DescriptionStyleModel",
      "state": {
       "description_width": ""
      }
     },
     "410bd88c76ad4421b21f93e2e172b460": {
      "model_module": "@jupyter-widgets/controls",
      "model_module_version": "1.5.0",
      "model_name": "VBoxModel",
      "state": {
       "children": [
        "IPY_MODEL_6fae8f8099ae4e878de8dc75c61246a0",
        "IPY_MODEL_f7226a3adda3407caffbe6979ab6f6b6",
        "IPY_MODEL_0fd1ab3d294c4ae69d26949a0f7ffa84",
        "IPY_MODEL_c38792f00c624e6f80f1fe782f14ae8c"
       ],
       "layout": "IPY_MODEL_c81a547b662c4d10aca203f8870e2065"
      }
     },
     "42e212a2ea104c9783384221eceac49e": {
      "model_module": "@jupyter-widgets/controls",
      "model_module_version": "1.5.0",
      "model_name": "TextModel",
      "state": {
       "description": "Filter alerts by title:",
       "layout": "IPY_MODEL_613e950ed5c840779e0a1a486205a82a",
       "style": "IPY_MODEL_6225208ddbe644709c01809a4f842f57"
      }
     },
     "471e97f7c1014aa09bc953ae2b08f26c": {
      "model_module": "@jupyter-widgets/base",
      "model_module_version": "1.2.0",
      "model_name": "LayoutModel",
      "state": {}
     },
     "47be30256a7d4c2598c671b433cf7b9e": {
      "model_module": "@jupyter-widgets/controls",
      "model_module_version": "1.5.0",
      "model_name": "DescriptionStyleModel",
      "state": {
       "description_width": ""
      }
     },
     "4cc5a2a3875c4422a9540bc1120f7dc4": {
      "model_module": "@jupyter-widgets/controls",
      "model_module_version": "1.5.0",
      "model_name": "DescriptionStyleModel",
      "state": {
       "description_width": ""
      }
     },
     "4eac054517f64a0fbaa769dd3f085fac": {
      "model_module": "@jupyter-widgets/base",
      "model_module_version": "1.2.0",
      "model_name": "LayoutModel",
      "state": {
       "width": "50%"
      }
     },
     "5002307c501648879de39909ec4eeaee": {
      "model_module": "@jupyter-widgets/base",
      "model_module_version": "1.2.0",
      "model_name": "LayoutModel",
      "state": {}
     },
     "52a817f83c2f4224befe10a541606a04": {
      "model_module": "@jupyter-widgets/base",
      "model_module_version": "1.2.0",
      "model_name": "LayoutModel",
      "state": {}
     },
     "52f71b5d922a4cae8cf27dbd7f9cd373": {
      "model_module": "@jupyter-widgets/controls",
      "model_module_version": "1.5.0",
      "model_name": "DescriptionStyleModel",
      "state": {
       "description_width": "initial"
      }
     },
     "542809c90dbb4f2eac8ad2a081163e93": {
      "model_module": "@jupyter-widgets/controls",
      "model_module_version": "1.5.0",
      "model_name": "SelectModel",
      "state": {
       "_options_labels": [
        "2018-12-30 00:02:00 - Network communication with a malicious machine detected - (nan)  - [id:a511e1bb-69e1-41a2-8054-c6fcb6aa2362]",
        "2019-01-01 00:02:00 - Possible compromised machine detected - (nan)  - [id:62ded865-938b-4bb3-afef-605d692607f1]",
        "2019-01-01 00:02:00 - An event log was cleared - (nan)  - [id:48facfa1-fe35-45ff-8c91-7a710cd462b9]",
        "2019-01-03 00:02:00 - Suspicious process executed - (nan)  - [id:a32adc3f-43f7-4e5d-b833-98baa71c2f51]",
        "2019-01-03 00:02:00 - Suspicious double extension file executed - (nan)  - [id:112dc225-bc2d-4328-97fd-a99e0b000b1f]",
        "2019-01-05 01:02:00 - SQL injection blocked - (nan)  - [id:0c68e539-f060-401f-b967-6b64b8f49198]",
        "2019-01-05 02:02:00 - Failed RDP Brute Force Attack - (nan)  - [id:8832e816-d634-4214-bb48-7a6678fdf0b7]",
        "2019-01-06 02:02:00 - Successful RDP brute force attack - (nan)  - [id:3b2b5ecc-ec29-4703-9450-29b29b937fd8]",
        "2019-01-06 03:02:00 - Suspicious SVCHOST process executed - (nan)  - [id:614ae18e-cd79-4d4c-97dc-24431be12b5b]",
        "2019-01-06 04:02:00 - Multiple Domain Accounts Queried - (vm1)  - [id:7b27ffab-7204-4856-a013-908de6c1804e]",
        "2019-01-06 05:02:00 - Network communication with a malicious machine detected - (nan)  - [id:98a6dea6-1b64-41d0-938e-0dec24b234ec]",
        "2019-01-07 05:02:00 - Modified system binary discovered in dump file 5bd767e4-2d08-4714-b744-aaed04b57107__391365252.hdmp - (nan)  - [id:775505ce-0ef9-4945-b697-303f7666d1b6]",
        "2019-01-08 05:02:00 - Possible outgoing spam activity detected - (vm1lin)  - [id:28f9b83a-33e6-44da-a002-0f48bff46a67]",
        "2019-01-09 05:02:00 - Deep Security Agent detected a malware - (nan)  - [id:5fc4f6a0-0687-4b93-998e-a230af39c10b]",
        "2019-01-09 05:38:06 - Global domain trust creation - Demo - (nan)  - [id:9740fe80-b642-4a38-8e86-05fa4d35508b]",
        "2019-01-09 06:25:57 - Maliciuos IP communication - (nan)  - [id:04e14d6f-6d4f-46d4-a5f6-2a26bcd34ce8]",
        "2019-01-09 06:31:40 - DC local group addition - Demo - (nan)  - [id:ace7fb98-ef96-46df-ba7b-9a15a141d368]",
        "2019-01-09 06:31:42 - Palo Alto admin logged on via SSH - Demo - (nan)  - [id:40a5916b-9697-423a-a5e4-95cca7c735e7]",
        "2019-01-09 06:33:55 - DC with MS AM engine failure - Demo - (nan)  - [id:78cc7e02-6116-459d-9cdc-a6dcc40ba937]",
        "2019-01-10 05:02:00 - Potential SQL Injection - (nan)  - [id:5365ee7a-f730-42d2-bcdf-b2e898ab98d7]",
        "2019-01-10 05:38:06 - Global domain trust creation - Demo - (nan)  - [id:401f2680-cc05-4e6f-a1f6-69cff2055cd9]",
        "2019-01-10 06:25:57 - Maliciuos IP communication - (nan)  - [id:b5786d68-7f5e-4be1-92e6-e255010d1d8c]",
        "2019-01-10 06:31:40 - DC local group addition - Demo - (nan)  - [id:01659bf1-1228-4e46-b73b-e7d173d365eb]",
        "2019-01-10 06:31:42 - Palo Alto admin logged on via SSH - Demo - (nan)  - [id:0ce6ad61-302a-4142-8eaa-4da9dfad9ca9]",
        "2019-01-10 06:33:55 - DC with MS AM engine failure - Demo - (nan)  - [id:df9f92cb-6fd2-469b-9b72-28f128df1adf]",
        "2019-01-10 19:18:10 - Suspicious Account Added - (nan)  - [id:b3f02c05-e844-4161-81d6-d736548d91ae]",
        "2019-01-11 05:38:06 - Global domain trust creation - Demo - (nan)  - [id:6b56aa8c-da76-4caf-b09d-8706292a8b89]",
        "2019-01-11 06:25:57 - Maliciuos IP communication - (nan)  - [id:4586bd9e-5c1e-4229-9a01-ecd84ad51448]",
        "2019-01-11 06:31:40 - DC local group addition - Demo - (nan)  - [id:047f47d6-79b7-4502-824b-97abc4905a73]",
        "2019-01-11 06:31:42 - Palo Alto admin logged on via SSH - Demo - (nan)  - [id:2d06cb42-bdff-426d-8091-ccc151bcbc94]",
        "2019-01-11 06:33:55 - DC with MS AM engine failure - Demo - (nan)  - [id:412ca580-63c8-4fd2-87e4-87b1ba4260b3]",
        "2019-01-11 19:18:10 - Suspicious Account Added - (nan)  - [id:42a8b425-1c41-4355-8343-18ad563c43b6]",
        "2019-01-12 05:38:06 - Global domain trust creation - Demo - (nan)  - [id:bc44b302-78c7-4be8-bf70-d39d6935fd74]",
        "2019-01-12 06:25:57 - Maliciuos IP communication - (nan)  - [id:c76f17e2-e739-4e7e-bf17-4dd163fc831f]",
        "2019-01-12 06:31:40 - DC local group addition - Demo - (nan)  - [id:07be11df-3dbf-49a5-8b5a-dcea75d89993]",
        "2019-01-12 06:31:42 - Palo Alto admin logged on via SSH - Demo - (nan)  - [id:09ec519f-96b0-4332-be30-b0379c8cbd04]",
        "2019-01-12 06:33:55 - DC with MS AM engine failure - Demo - (nan)  - [id:6a7aaa2e-a575-4e8b-87ed-0d964bf1005e]",
        "2019-01-12 19:18:10 - Suspicious Account Added - (nan)  - [id:d4638075-fed2-4031-8e52-d37c220b0fe4]",
        "2019-01-13 05:38:06 - Global domain trust creation - Demo - (nan)  - [id:5d733fc8-ff32-436d-a595-beaf8943bd63]",
        "2019-01-13 06:25:57 - Maliciuos IP communication - (nan)  - [id:54a8f6d8-f69b-4872-96f8-ef274d5fc8d4]",
        "2019-01-13 06:31:40 - DC local group addition - Demo - (nan)  - [id:47445dca-b87d-45f5-9073-b713e3c69a56]",
        "2019-01-13 06:31:42 - Palo Alto admin logged on via SSH - Demo - (nan)  - [id:45176796-d3f9-40ce-a8f2-aba9bb3c8063]",
        "2019-01-13 06:33:55 - DC with MS AM engine failure - Demo - (nan)  - [id:985be534-6f40-4b0c-a951-8f3915eacd61]",
        "2019-01-13 19:18:10 - Suspicious Account Added - (nan)  - [id:790217fc-9597-4159-b469-bb383c747435]",
        "2019-01-14 05:38:06 - Global domain trust creation - Demo - (nan)  - [id:fbaf48de-152a-4aa6-8a69-902b219bf972]",
        "2019-01-14 06:25:57 - Maliciuos IP communication - (nan)  - [id:1828afac-b4c2-41d9-acbd-7d23b7219557]",
        "2019-01-14 06:31:40 - DC local group addition - Demo - (nan)  - [id:b34d24c9-2223-4887-af93-7598abf28763]",
        "2019-01-14 06:31:42 - Palo Alto admin logged on via SSH - Demo - (nan)  - [id:9442245d-eaf6-47c5-b715-1c16b2c54fc4]",
        "2019-01-14 06:33:55 - DC with MS AM engine failure - Demo - (nan)  - [id:edc4065d-886f-4aff-b17d-f1397ce4baec]",
        "2019-01-14 21:18:10 - Suspicious Account Added - (nan)  - [id:1cca38a9-e0c5-4165-a78d-491ca2641c1c]",
        "2019-01-15 05:15:03 - Suspicious Account Creation Detected - (MSTICALERTSWIN1)  - [id:2518547714966107270_3c380601-b5ad-4fff-9cdb-24528a3a19fd]",
        "2019-01-15 05:15:03 - Anomalous account creation detected - (nan)  - [id:2518547714966107270_90beedae-1285-43d6-8f33-16bc542af39b]",
        "2019-01-15 05:15:10 - Potential attempt to bypass AppLocker detected - (MSTICALERTSWIN1)  - [id:2518547714892475358_9e449abd-e67b-4ec8-a191-e688d7d63e26]",
        "2019-01-15 05:15:11 - Detected decoding of an executable using built-in certutil.exe tool - (MSTICALERTSWIN1)  - [id:2518547714882331861_5c56421d-d894-4437-9b9a-a3b5c6b7e1df]",
        "2019-01-15 05:15:11 - Detected suspicious credentials in commandline - (MSTICALERTSWIN1)  - [id:2518547714880519889_9d6d471a-c94f-4706-b0ff-b2f0301495aa]",
        "2019-01-15 05:15:11 - Digital currency mining related behavior detected - (MSTICALERTSWIN1)  - [id:2518547714887413669_4fa0022e-f431-4ba1-ae5f-ee23247e0853]",
        "2019-01-15 05:15:11 - Suspiciously named process detected - (MSTICALERTSWIN1)  - [id:2518547714887413669_1c680842-2a1d-40c0-a6e4-32e5dd144647]",
        "2019-01-15 05:15:11 - Detected encoded executable in command line data - (MSTICALERTSWIN1)  - [id:2518547714885867955_290559aa-a3d0-425b-8ed2-e98ccc9f0aa0]",
        "2019-01-15 05:15:12 - Detected suspicious commandline arguments - (MSTICALERTSWIN1)  - [id:2518547714879317674_226cc394-fccf-483d-888a-beafad2ed4a4]",
        "2019-01-15 05:15:12 - Detected suspicious document credentials - (MSTICALERTSWIN1)  - [id:2518547714879970078_b080127b-d5c1-425e-a7ca-e4bbd873009d]",
        "2019-01-15 05:15:12 - Detected obfuscated command line. - (MSTICALERTSWIN1)  - [id:2518547714871530079_77211491-86de-4295-82bc-38e332fe1112]",
        "2019-01-15 05:15:12 - Suspicious powershell cmdlets executed - (MSTICALERTSWIN1)  - [id:2518547714874872692_3eb0eb4b-0536-430c-8ab6-cd48524c14b1]",
        "2019-01-15 05:15:12 - Suspicious Powershell Activity Detected - (MSTICALERTSWIN1)  - [id:2518547714874872692_30d988ff-b8d9-45df-8217-e56b0d4d591c]",
        "2019-01-15 05:15:12 - Suspicious Powershell Activity Detected - (MSTICALERTSWIN1)  - [id:2518547714873290756_df1b9eb2-05c4-4f7c-8540-cbb18ec5c608]",
        "2019-01-15 05:15:12 - Suspicious Powershell Activity Detected - (MSTICALERTSWIN1)  - [id:2518547714876077067_953def48-a24b-42a9-bd02-7221be90f84a]",
        "2019-01-15 05:15:13 - Suspicious Powershell Activity Detected - (MSTICALERTSWIN1)  - [id:2518547714867787710_76336679-bddf-460f-90fb-35a1386de7a6]",
        "2019-01-15 05:15:14 - Executable found running from a suspicious location - (MSTICALERTSWIN1)  - [id:2518547714857061520_f4324711-aeae-4912-a634-331b7e7456b6]",
        "2019-01-15 05:15:14 - Suspicious system process executed - (nan)  - [id:2518547714857061520_28f9a2e6-1925-455e-ad97-7af7f92f521d]",
        "2019-01-15 05:15:14 - Suspicious WindowPosition registry value detected - (MSTICALERTSWIN1)  - [id:2518547714858429362_9bfd0e4b-ec93-46bb-8eea-f72e8f1262f1]",
        "2019-01-15 05:15:14 - Suspicious process executed - (MSTICALERTSWIN1)  - [id:2518547714854375707_e2a60bd1-d7c8-466d-a176-4333d4e0d1d5]",
        "2019-01-15 05:15:14 - Detected suspicious named pipe communications - (MSTICALERTSWIN1)  - [id:2518547714859677078_9b4e4942-d564-4755-862c-7171d52921e3]",
        "2019-01-15 05:15:14 - Executable found running from a suspicious location - (MSTICALERTSWIN1)  - [id:2518547714853062206_f9ddd8b3-5fa8-4f2f-b811-bdca90091195]",
        "2019-01-15 05:15:15 - Detected change to a registry key that can be abused to bypass UAC - (MSTICALERTSWIN1)  - [id:2518547714844291280_8f71e695-ba9b-4c97-9770-63cdeb34b7b4]",
        "2019-01-15 05:15:15 - Detected anomalous mix of upper and lower case characters in command-line - (MSTICALERTSWIN1)  - [id:2518547714844457503_55cd3e12-3a91-4b06-9be6-833df3365142]",
        "2019-01-15 05:15:15 - Detected suspicious use of FTP -s Switch - (MSTICALERTSWIN1)  - [id:2518547714843218505_265472ff-3820-4dad-8da7-00e39e1a99fd]",
        "2019-01-15 05:15:15 - Sticky keys attack detected - (MSTICALERTSWIN1)  - [id:2518547714843796759_b3737297-038c-4514-a957-d591384b4256]",
        "2019-01-15 05:15:15 - Suspicious process executed - (MSTICALERTSWIN1)  - [id:2518547714842732992_ad5981a5-fdcc-406a-8742-e50bd7f84917]",
        "2019-01-15 05:15:16 - Detected suspicious new firewall rule - (MSTICALERTSWIN1)  - [id:2518547714839319574_33edaa83-fe35-47de-9486-fc9792c5b65b]",
        "2019-01-15 05:15:16 - Detected suspicious execution via rundll32.exe - (MSTICALERTSWIN1)  - [id:2518547714834806864_4bb2ecc3-f4aa-40cd-a3d7-802fc9086e89]",
        "2019-01-15 05:15:16 - Detected suspicious execution via rundll32.exe - (MSTICALERTSWIN1)  - [id:2518547714835690929_8e73946b-ebea-4625-aa60-d97b82dcfb07]",
        "2019-01-15 05:15:16 - Detected possible local reconnaissance activity - (MSTICALERTSWIN1)  - [id:2518547714837217151_f0d023fb-376f-46ab-9976-a5825d826bea]",
        "2019-01-15 05:15:16 - Detected suspicious Set-ExecutionPolicy and WinRM changes - (MSTICALERTSWIN1)  - [id:2518547714832788202_b56b9e61-fefb-47a3-a34f-7c1b44f8268a]",
        "2019-01-15 05:15:16 - Detected suspicious commandline used to start all executables in a directory - (MSTICALERTSWIN1)  - [id:2518547714833232927_0e8db234-9727-41f3-a6e0-0773519603d2]",
        "2019-01-15 05:15:16 - Detected potentially suspicious use of Telegram tool - (MSTICALERTSWIN1)  - [id:2518547714833859291_4fa26308-1daf-49ee-8880-b194f950d8b0]",
        "2019-01-15 05:15:16 - Suspected Kerberos Golden Ticket attack parameters observed - (MSTICALERTSWIN1)  - [id:2518547714838326136_e776fca2-4c01-43eb-ab97-b9845af3529c]",
        "2019-01-15 05:15:16 - Detected actions indicative of disabling and deleting IIS log files. - (MSTICALERTSWIN1)  - [id:2518547714831067013_8df27789-fb10-4035-ac48-cd0883b2e6b0]",
        "2019-01-15 05:15:17 - Azure Security Center test alert (not a threat) - (MSTICALERTSWIN1)  - [id:2518547714824290520_b2d9be9f-58e2-4174-8658-419670393253]",
        "2019-01-15 05:15:17 - Suspicious SVCHOST process executed - (nan)  - [id:2518547714825902697_fcbb6bb7-4c7c-488e-903c-f625e98db7c4]",
        "2019-01-15 05:15:17 - Random process name detected - (MSTICALERTSWIN1)  - [id:2518547714829244584_9984a237-2dd7-4932-bb8d-23ca535a6254]",
        "2019-01-15 05:15:17 - Rare SVCHOST service group executed - (nan)  - [id:2518547714825070946_58694b54-2bee-4160-9595-30903b466f6e]",
        "2019-01-15 05:15:17 - Suspicious double extension file executed - (nan)  - [id:2518547714828736209_2b2ff728-1a2a-46e8-a49a-6991e074a740]",
        "2019-01-15 05:15:17 - Suspicious Volume Shadow Copy Activity - (nan)  - [id:2518547714828638992_6c6836bb-23cd-4b31-b78e-08360c5a4f83]",
        "2019-01-15 05:15:18 - Detected suspicious execution of VBScript.Encode command - (MSTICALERTSWIN1)  - [id:2518547714811804858_5b42a152-64c2-4f16-8cc3-887b8b0161fc]",
        "2019-01-15 05:15:18 - Detected suspicious file cleanup commands - (MSTICALERTSWIN1)  - [id:2518547714814450855_c0822e2b-785b-41a8-8136-21b7430a0078]",
        "2019-01-15 05:15:18 - Detected Petya ransomware indicators - (MSTICALERTSWIN1)  - [id:2518547714812938298_fa4939d4-a20c-440a-839c-89c0c43e1ccc]",
        "2019-01-15 05:15:18 - Detected suspicious file creation - (MSTICALERTSWIN1)  - [id:2518547714816637303_3252483f-2fdb-411a-93f5-e268d5e56abf]",
        "2019-01-15 05:15:18 - Detected suspicious use of Pcalua.exe to launch executable code - (MSTICALERTSWIN1)  - [id:2518547714811337754_ad1fd62a-9565-41e4-b94a-6264942033f6]",
        "2019-01-15 05:15:18 - Detected possible execution of keygen executable - (MSTICALERTSWIN1)  - [id:2518547714814533914_38d53571-e98a-4bb6-a17f-0361a561019e]",
        "2019-01-15 05:15:18 - Detected suspicious use of Cacls to lower the security state of the system. - (MSTICALERTSWIN1)  - [id:2518547714815952205_1ba5718e-529b-441b-8036-ad06ee862e76]",
        "2019-01-15 05:15:18 - Detected the disabling of critical services - (MSTICALERTSWIN1)  - [id:2518547714813299511_a5df127a-f7e8-44ff-b404-6d5b37d06488]",
        "2019-01-15 05:15:18 - Ransomware indicators detected - (MSTICALERTSWIN1)  - [id:2518547714812286467_d5e026fa-6687-495e-878d-c4c93477cc78]",
        "2019-01-15 05:15:18 - Detected possible execution of malware dropper - (MSTICALERTSWIN1)  - [id:2518547714815009424_9a34d332-2fb6-4f3f-beb0-d9817dc9b7cd]",
        "2019-01-15 05:15:18 - High risk software detected - (MSTICALERTSWIN1)  - [id:2518547714813699414_d12ed618-567b-4b8f-8241-82ad4c1cb28e]",
        "2019-01-15 05:15:19 - Possible credential dumping detected - (MSTICALERTSWIN1)  - [id:2518547714809416002_76bf04a5-71fa-487a-9742-d54941a7a194]",
        "2019-01-15 05:15:19 - Suspicious download using Certutil detected - (MSTICALERTSWIN1)  - [id:2518547714805546049_03e7bf17-8f77-42ca-8ac1-af8258f4d1ca]",
        "2019-01-15 09:15:03 - Suspicious Account Creation Detected - (MSTICALERTSWIN1)  - [id:2518547570966661760_526e34b6-6578-4fc0-9db6-e126b4d673f0]",
        "2019-01-15 09:15:07 - Potential attempt to bypass AppLocker detected - (MSTICALERTSWIN1)  - [id:2518547570924760670_9868ed7d-397e-4aa4-8dbd-5a1c5f736c1e]",
        "2019-01-15 09:15:10 - Suspiciously named process detected - (MSTICALERTSWIN1)  - [id:2518547570895430544_4ea6c432-6d20-4986-9679-ecf58ac4854d]",
        "2019-01-15 09:15:10 - Digital currency mining related behavior detected - (MSTICALERTSWIN1)  - [id:2518547570895430544_72351be4-ae78-4cc6-9f6a-1ff87c31baeb]",
        "2019-01-15 09:15:11 - Detected obfuscated command line. - (MSTICALERTSWIN1)  - [id:2518547570880067443_c1a9004f-7f64-4144-8ce0-8f76f9041703]",
        "2019-01-15 09:15:11 - Suspicious Powershell Activity Detected - (MSTICALERTSWIN1)  - [id:2518547570883109415_c762b0f7-a0f5-4dda-ab48-54b5ae6eade4]",
        "2019-01-15 09:15:11 - Suspicious Powershell Activity Detected - (MSTICALERTSWIN1)  - [id:2518547570884378777_92a2f884-5827-4fb6-acf8-b0087b76aa73]",
        "2019-01-15 09:15:11 - Suspicious Powershell Activity Detected - (MSTICALERTSWIN1)  - [id:2518547570881721037_4ca5c629-673c-4372-9bd3-ab7bf6d6e6f0]",
        "2019-01-15 09:15:12 - Suspicious Powershell Activity Detected - (MSTICALERTSWIN1)  - [id:2518547570876432155_ce7c7361-8ac9-47be-b8fb-7a87c87ee178]",
        "2019-01-15 09:15:13 - Suspicious system process executed - (nan)  - [id:2518547570865502616_9d5e263f-55d2-441f-acf4-bf569b4cd976]",
        "2019-01-15 09:15:13 - Executable found running from a suspicious location - (MSTICALERTSWIN1)  - [id:2518547570865502616_c6f3dea2-fe36-4e65-b161-1b1cd1104eb3]",
        "2019-01-15 09:15:13 - Suspicious WindowPosition registry value detected - (MSTICALERTSWIN1)  - [id:2518547570866947129_1b074412-133c-4ac9-8e3f-24103159b03e]",
        "2019-01-15 09:15:13 - Executable found running from a suspicious location - (MSTICALERTSWIN1)  - [id:2518547570860979996_bddac8c5-cba5-4da2-a6dd-c0a39fc2b256]",
        "2019-01-15 09:15:13 - Suspicious process executed - (MSTICALERTSWIN1)  - [id:2518547570862568702_029c9c95-c1fe-4419-bc3b-a6d832c87e65]",
        "2019-01-15 09:15:14 - Suspicious process executed - (MSTICALERTSWIN1)  - [id:2518547570851316041_43f7d8f3-fea5-4fca-a884-713c2d65203c]",
        "2019-01-15 09:15:14 - Detected anomalous mix of upper and lower case characters in command-line - (MSTICALERTSWIN1)  - [id:2518547570852901341_3ca6ca5a-8bf2-417f-b8c9-3cea37c84f4b]",
        "2019-01-15 09:15:16 - Suspicious double extension file executed - (nan)  - [id:2518547570836535349_c45bcb62-9d89-44e8-bea9-7a9e35205576]",
        "2019-01-15 09:15:16 - Rare SVCHOST service group executed - (nan)  - [id:2518547570834399134_26ccc2ad-8ce0-4f60-8215-18f99377b547]",
        "2019-01-15 09:15:16 - Suspicious Volume Shadow Copy Activity - (nan)  - [id:2518547570836431794_b9d79b27-d725-4a87-b7ec-6fc9ec591e8c]",
        "2019-01-15 09:15:16 - Azure Security Center test alert (not a threat) - (MSTICALERTSWIN1)  - [id:2518547570833725387_2df8ae94-03fe-4b9f-a3a9-f3c6dab95c05]",
        "2019-01-15 09:15:16 - Suspicious SVCHOST process executed - (nan)  - [id:2518547570835168086_117b7a02-d1d0-4cf2-bc04-0b19a796b4d3]",
        "2019-01-15 09:15:17 - Ransomware indicators detected - (MSTICALERTSWIN1)  - [id:2518547570821365949_48327b74-c904-402d-a1d8-2b3a882924e7]",
        "2019-01-15 09:15:17 - Detected Petya ransomware indicators - (MSTICALERTSWIN1)  - [id:2518547570821871899_e647375c-9979-47b5-9f78-f414a1aad26d]",
        "2019-01-15 11:45:00 - Suspicious Account Creation Detected - (MSTICALERTSWIN1)  - [id:2518547480991748435_836318d1-0fa0-4cfe-a3d0-2b1fdbaf2216]",
        "2019-01-15 11:45:01 - Suspiciously named process detected - (MSTICALERTSWIN1)  - [id:2518547480988516756_54bb943e-7fe9-4146-a43e-4064c8e0049f]",
        "2019-01-15 11:45:01 - Digital currency mining related behavior detected - (MSTICALERTSWIN1)  - [id:2518547480988516756_668ed54c-9e73-4d4f-a9c2-b88fd1b13db0]",
        "2019-01-15 11:45:01 - Potential attempt to bypass AppLocker detected - (MSTICALERTSWIN1)  - [id:2518547480989617678_f3490cf7-a303-4001-b7d6-8acf7e83f191]",
        "2019-01-15 11:45:01 - Suspicious Powershell Activity Detected - (MSTICALERTSWIN1)  - [id:2518547480982973701_24a6d6f3-acf1-41bd-a11f-01a1369bac02]",
        "2019-01-15 11:45:01 - Suspicious Powershell Activity Detected - (MSTICALERTSWIN1)  - [id:2518547480984263491_d46877bd-e04d-401a-99bd-eec2a6b25663]",
        "2019-01-15 11:45:01 - Detected obfuscated command line. - (MSTICALERTSWIN1)  - [id:2518547480982511513_adfabbe0-fce0-44f3-be4b-17283bd03bed]",
        "2019-01-15 11:45:01 - Suspicious Powershell Activity Detected - (MSTICALERTSWIN1)  - [id:2518547480980813134_5cb7ab95-6017-4031-afb2-e11518b0f5cc]",
        "2019-01-15 11:45:01 - Suspicious Powershell Activity Detected - (MSTICALERTSWIN1)  - [id:2518547480983467170_9da8e3df-9c3b-4e20-8bd0-ace00aff9def]",
        "2019-01-15 11:45:02 - Executable found running from a suspicious location - (MSTICALERTSWIN1)  - [id:2518547480975043692_7e663699-5412-496f-ac91-e21a7b6f0be5]",
        "2019-01-15 11:45:02 - Executable found running from a suspicious location - (MSTICALERTSWIN1)  - [id:2518547480977057409_ed9d92ac-0ab8-4a2e-a1dd-f70ee30a9af1]",
        "2019-01-15 11:45:02 - Suspicious WindowPosition registry value detected - (MSTICALERTSWIN1)  - [id:2518547480977469312_e9ff6947-fd12-42d2-bb63-2d814f04482a]",
        "2019-01-15 11:45:02 - Suspicious process executed - (MSTICALERTSWIN1)  - [id:2518547480976076338_2a106d12-acd8-4dd7-9e1c-3c20b4eaa320]",
        "2019-01-15 11:45:02 - Suspicious system process executed - (nan)  - [id:2518547480977057409_492fbb97-a1fc-4880-95d2-e55ab2f142b6]",
        "2019-01-15 11:45:02 - Detected anomalous mix of upper and lower case characters in command-line - (MSTICALERTSWIN1)  - [id:2518547480970182118_c0558adc-b4a9-4289-b9ad-7e7260f1cde0]",
        "2019-01-15 11:45:03 - Suspicious process executed - (MSTICALERTSWIN1)  - [id:2518547480968677354_88eb8a87-a876-46aa-b8ed-be7298929ea8]",
        "2019-01-15 11:45:04 - Random process name detected - (MSTICALERTSWIN1)  - [id:2518547480956885358_b66e93d7-b38b-4785-baa5-093edc18e649]",
        "2019-01-15 11:45:04 - Suspicious Volume Shadow Copy Activity - (nan)  - [id:2518547480955968326_fa350f8b-2c81-478c-a383-debe0ab0c892]",
        "2019-01-15 11:45:04 - Suspicious double extension file executed - (nan)  - [id:2518547480956378190_2b59c1d5-a815-4562-a8d4-36d9777e6546]",
        "2019-01-15 11:45:05 - Rare SVCHOST service group executed - (nan)  - [id:2518547480946682289_f83c0705-d2ff-4355-a25d-ae858ee39b2d]",
        "2019-01-15 11:45:05 - Suspicious SVCHOST process executed - (nan)  - [id:2518547480947565906_5c82cd9c-60f8-4056-bd39-8ccb2cdb7678]",
        "2019-01-15 11:45:05 - Azure Security Center test alert (not a threat) - (MSTICALERTSWIN1)  - [id:2518547480945920380_00d33245-c643-4155-8c05-6abc4ee3b3cd]",
        "2019-01-15 11:45:06 - Ransomware indicators detected - (MSTICALERTSWIN1)  - [id:2518547480937987105_ec1678a1-0fe8-44c5-91b5-621c40d2bb8c]",
        "2019-01-15 11:45:06 - Detected Petya ransomware indicators - (MSTICALERTSWIN1)  - [id:2518547480938543829_91a4f9a7-70ad-433b-a568-34314e3f467f]",
        "2019-01-15 13:15:10 - Suspiciously named process detected - (MSTICALERTSWIN1)  - [id:2518547426892072407_171b74b2-a431-4b55-8d69-128e5fb95329]",
        "2019-01-15 13:15:13 - Suspicious WindowPosition registry value detected - (MSTICALERTSWIN1)  - [id:2518547426863814510_75495c57-4fd6-4e27-b94c-c6f81f78bcb5]",
        "2019-01-15 13:15:13 - Suspicious system process executed - (nan)  - [id:2518547426862437699_184c075e-64ee-4901-bc37-6eb999e81a11]",
        "2019-01-15 13:15:14 - Suspicious process executed - (MSTICALERTSWIN1)  - [id:2518547426859453218_89d1850f-dccd-4d45-b194-650819d358d9]",
        "2019-01-15 13:15:14 - Executable found running from a suspicious location - (MSTICALERTSWIN1)  - [id:2518547426858055460_51b74398-40e2-4b1b-9d92-89c0004738c9]",
        "2019-01-15 13:15:15 - Suspicious process executed - (MSTICALERTSWIN1)  - [id:2518547426847947731_caa12d6c-4928-4787-90d4-cb27ff94373c]",
        "2019-01-15 13:15:16 - Suspicious SVCHOST process executed - (nan)  - [id:2518547426831794607_a513ab17-2b6a-4b1a-a925-a0b3c21ec38c]",
        "2019-01-15 13:15:16 - Rare SVCHOST service group executed - (nan)  - [id:2518547426830640211_88f9ae7a-e6b5-4b54-b967-08f3fc503d91]",
        "2019-01-15 13:15:16 - Suspicious Volume Shadow Copy Activity - (nan)  - [id:2518547426833434810_b6e594ea-16d3-480e-81a7-2f8fe3af64ba]",
        "2019-01-15 13:15:16 - Suspicious double extension file executed - (nan)  - [id:2518547426833838523_7b30c978-28d5-4a28-a4c2-0985f08ab1c6]",
        "2019-01-15 13:15:17 - Azure Security Center test alert (not a threat) - (MSTICALERTSWIN1)  - [id:2518547426829675756_846ec406-bb3e-451b-bf6f-9e1e17a69bd6]",
        "2019-01-15 13:15:18 - Ransomware indicators detected - (MSTICALERTSWIN1)  - [id:2518547426817428483_636ab38f-2528-4356-8602-d0910f8ac600]",
        "2019-01-15 13:15:18 - Detected Petya ransomware indicators - (MSTICALERTSWIN1)  - [id:2518547426817928329_a4aa878d-93b5-4cd1-931f-30f85b9e6db2]",
        "2019-01-15 17:15:03 - Suspicious Account Creation Detected - (MSTICALERTSWIN1)  - [id:2518547282966696689_3db7e1e7-2edc-4dd9-8c1d-d908f5b8a904]",
        "2019-01-15 17:15:10 - Potential attempt to bypass AppLocker detected - (MSTICALERTSWIN1)  - [id:2518547282896095305_82730ffa-b9ce-43f4-bf3c-a97113107cc5]",
        "2019-01-15 17:15:10 - Suspiciously named process detected - (MSTICALERTSWIN1)  - [id:2518547282892925953_0073e6d8-6c2e-42e4-8966-d1f5a3dd3517]",
        "2019-01-15 17:15:10 - Digital currency mining related behavior detected - (MSTICALERTSWIN1)  - [id:2518547282892925953_35c8d588-ddf7-46b5-a0bf-f47023f9343c]",
        "2019-01-15 17:15:11 - Suspicious Powershell Activity Detected - (MSTICALERTSWIN1)  - [id:2518547282880013417_d65aa787-e867-43b1-9182-025a1a38173a]",
        "2019-01-15 17:15:11 - Suspicious Powershell Activity Detected - (MSTICALERTSWIN1)  - [id:2518547282881581273_ed5bcf39-ffd3-468a-82e3-28e108d4f06f]",
        "2019-01-15 17:15:11 - Suspicious Powershell Activity Detected - (MSTICALERTSWIN1)  - [id:2518547282883193041_31ae6eeb-bd1d-4018-8df9-eeedd60bf1ab]",
        "2019-01-15 17:15:12 - Suspicious Powershell Activity Detected - (MSTICALERTSWIN1)  - [id:2518547282874783943_bd1a0865-a507-4e2b-b8df-613238a950df]",
        "2019-01-15 17:15:12 - Detected obfuscated command line. - (MSTICALERTSWIN1)  - [id:2518547282878855119_d89d1ab7-e5b7-426c-a98f-eab95deea3ad]",
        "2019-01-15 17:15:13 - Suspicious system process executed - (nan)  - [id:2518547282863799328_7e169933-4275-4b94-b37f-490417bcfc98]",
        "2019-01-15 17:15:13 - Suspicious WindowPosition registry value detected - (MSTICALERTSWIN1)  - [id:2518547282865194453_9895a5cc-6f49-45f5-a0eb-f05c1f11f264]",
        "2019-01-15 17:15:13 - Executable found running from a suspicious location - (MSTICALERTSWIN1)  - [id:2518547282863799328_84ea8dcd-9436-4b4d-82b2-36114028bd61]",
        "2019-01-15 17:15:14 - Suspicious process executed - (MSTICALERTSWIN1)  - [id:2518547282859754476_0c3ae402-a9ea-4d5c-9c09-4274b7847c2c]",
        "2019-01-15 17:15:14 - Detected anomalous mix of upper and lower case characters in command-line - (MSTICALERTSWIN1)  - [id:2518547282850984831_7f983018-fd59-4e9e-ba70-295f6beb0e9c]",
        "2019-01-15 17:15:14 - Executable found running from a suspicious location - (MSTICALERTSWIN1)  - [id:2518547282858353938_58851b10-8f5c-48f1-aade-b1529f4e2c7f]",
        "2019-01-15 17:15:15 - Suspicious process executed - (MSTICALERTSWIN1)  - [id:2518547282845656644_c7318da8-368f-47f8-bff5-e15600a3fb80]",
        "2019-01-15 17:15:17 - Suspicious double extension file executed - (nan)  - [id:2518547282825853773_e6c85135-2b91-4537-b9a0-dae7eabb8e9d]",
        "2019-01-15 17:15:17 - Suspicious Volume Shadow Copy Activity - (nan)  - [id:2518547282825448815_6a71b543-4832-4658-8467-825aeafbe031]",
        "2019-01-15 17:15:18 - Rare SVCHOST service group executed - (nan)  - [id:2518547282813841329_a7e8e8c1-4561-48ea-bf75-a22c7bfc2257]",
        "2019-01-15 17:15:18 - Azure Security Center test alert (not a threat) - (MSTICALERTSWIN1)  - [id:2518547282812706885_12ae1e22-347e-454c-ae0d-ebb48cdf189b]",
        "2019-01-15 17:15:18 - Suspicious SVCHOST process executed - (nan)  - [id:2518547282814913644_34cc156e-9179-44c4-bd60-89dd1812e9e7]",
        "2019-01-15 17:15:19 - Detected Petya ransomware indicators - (MSTICALERTSWIN1)  - [id:2518547282803821916_c76cdb6c-cea0-4b2b-9ab6-1442a5857ed8]",
        "2019-01-15 17:15:19 - Ransomware indicators detected - (MSTICALERTSWIN1)  - [id:2518547282802847718_4a524cc8-7613-4c42-93a9-8c1e466a4476]",
        "2019-01-15 21:18:10 - Suspicious Account Added - (nan)  - [id:cbdce694-666c-4844-a29c-e7f4b66e27d1]"
       ],
       "description": "Select alert :",
       "index": 0,
       "layout": "IPY_MODEL_a70a1f7b0b59456c957c22af521e8714",
       "style": "IPY_MODEL_1e54e245ea68464a9b13476eea4a65de"
      }
     },
     "544038b16bbc4682a8b5b70d0518e1c4": {
      "model_module": "@jupyter-widgets/controls",
      "model_module_version": "1.5.0",
      "model_name": "TextModel",
      "state": {
       "description": "Filter alerts by title:",
       "layout": "IPY_MODEL_1f3ca170aaba4f3b8f8204d93bcb8a1c",
       "style": "IPY_MODEL_52f71b5d922a4cae8cf27dbd7f9cd373"
      }
     },
     "545e42c3ae90457ba753e9da5693c9dc": {
      "model_module": "@jupyter-widgets/controls",
      "model_module_version": "1.5.0",
      "model_name": "IntSliderModel",
      "state": {
       "description": "Select time (hour) to look back",
       "layout": "IPY_MODEL_91b3891423eb424581641e0d78aba63d",
       "max": 48,
       "min": 1,
       "style": "IPY_MODEL_905519fcf7cd4edb8c41fdb51ac216e2",
       "value": 4
      }
     },
     "54f239fb47fb4b57bf853380f49e5794": {
      "model_module": "@jupyter-widgets/base",
      "model_module_version": "1.2.0",
      "model_name": "LayoutModel",
      "state": {}
     },
     "55b6d8fa7bb748aa81b62834a78f7175": {
      "model_module": "@jupyter-widgets/controls",
      "model_module_version": "1.5.0",
      "model_name": "DescriptionStyleModel",
      "state": {
       "description_width": "initial"
      }
     },
     "56fd5cefe4d1416db63126527bedf0fc": {
      "model_module": "@jupyter-widgets/controls",
      "model_module_version": "1.5.0",
      "model_name": "DescriptionStyleModel",
      "state": {
       "description_width": "initial"
      }
     },
     "5725596d58d34ffda9e74d6299e483fa": {
      "model_module": "@jupyter-widgets/base",
      "model_module_version": "1.2.0",
      "model_name": "LayoutModel",
      "state": {
       "width": "50%"
      }
     },
     "59dad62ea9464f94aebe383a9a110b96": {
      "model_module": "@jupyter-widgets/controls",
      "model_module_version": "1.5.0",
      "model_name": "DescriptionStyleModel",
      "state": {
       "description_width": ""
      }
     },
     "5a726337926c4faea6d4f6fd86a611bf": {
      "model_module": "@jupyter-widgets/base",
      "model_module_version": "1.2.0",
      "model_name": "LayoutModel",
      "state": {}
     },
     "5ac5d5c151074b898c8aa5f82ee02672": {
      "model_module": "@jupyter-widgets/base",
      "model_module_version": "1.2.0",
      "model_name": "LayoutModel",
      "state": {}
     },
     "5b590bf721414066892675b2214f2c3c": {
      "model_module": "@jupyter-widgets/base",
      "model_module_version": "1.2.0",
      "model_name": "LayoutModel",
      "state": {}
     },
     "5b765c8ecddf4431ae9958036075361e": {
      "model_module": "@jupyter-widgets/controls",
      "model_module_version": "1.5.0",
      "model_name": "TextModel",
      "state": {
       "description": "Query end time (UTC) :  ",
       "layout": "IPY_MODEL_d17c2998b6804794bdb065e3ff631b82",
       "style": "IPY_MODEL_881a7689b2034ab6b6f9d7e675eab4d3",
       "value": "2020-06-12 21:42:15.345503"
      }
     },
     "5b9651fdbf22475d8d5c3fa7c409cbd5": {
      "model_module": "@jupyter-widgets/base",
      "model_module_version": "1.2.0",
      "model_name": "LayoutModel",
      "state": {}
     },
     "5d1aa8c4526f4202824981d758e681d4": {
      "model_module": "@jupyter-widgets/controls",
      "model_module_version": "1.5.0",
      "model_name": "DescriptionStyleModel",
      "state": {
       "description_width": "initial"
      }
     },
     "5e7e87c839364ba7be8c8b1d3e3ed213": {
      "model_module": "@jupyter-widgets/base",
      "model_module_version": "1.2.0",
      "model_name": "LayoutModel",
      "state": {
       "width": "80%"
      }
     },
     "5e865fcf13d24f2daf1ed9dc55288879": {
      "model_module": "@jupyter-widgets/controls",
      "model_module_version": "1.5.0",
      "model_name": "DescriptionStyleModel",
      "state": {
       "description_width": "initial"
      }
     },
     "5fdf837dc2ec4e93b4e1ce008f8b5817": {
      "model_module": "@jupyter-widgets/controls",
      "model_module_version": "1.5.0",
      "model_name": "CheckboxModel",
      "state": {
       "description": "Save as environment var",
       "disabled": false,
       "layout": "IPY_MODEL_69893ac3a6bb413c93f326f7a408c1d1",
       "style": "IPY_MODEL_9682419f95974d2685e1e8be5e4e21d7",
       "value": true
      }
     },
     "5fe7c89e34dc4d58bcea7b136d8f39e9": {
      "model_module": "@jupyter-widgets/controls",
      "model_module_version": "1.5.0",
      "model_name": "TextModel",
      "state": {
       "description": "Query end time (UTC) :  ",
       "layout": "IPY_MODEL_feb38daa744f47cdb71fd35bb87c225f",
       "style": "IPY_MODEL_6cd2c8204de54370a052812307278218",
       "value": "2020-05-28 21:42:15.218230"
      }
     },
     "613e950ed5c840779e0a1a486205a82a": {
      "model_module": "@jupyter-widgets/base",
      "model_module_version": "1.2.0",
      "model_name": "LayoutModel",
      "state": {}
     },
     "616e16f91d3c4b34b92b58ddd6a71898": {
      "model_module": "@jupyter-widgets/controls",
      "model_module_version": "1.5.0",
      "model_name": "LabelModel",
      "state": {
       "layout": "IPY_MODEL_c99f4e816ebb44f29d7fe79b55093898",
       "style": "IPY_MODEL_cfd91ccbf1e74add8276eeedba6b0376",
       "value": "100%"
      }
     },
     "6225208ddbe644709c01809a4f842f57": {
      "model_module": "@jupyter-widgets/controls",
      "model_module_version": "1.5.0",
      "model_name": "DescriptionStyleModel",
      "state": {
       "description_width": "initial"
      }
     },
     "64298d92cad844f0b5934c024e3661eb": {
      "model_module": "@jupyter-widgets/controls",
      "model_module_version": "1.5.0",
      "model_name": "DescriptionStyleModel",
      "state": {
       "description_width": ""
      }
     },
     "68eba84fbd9a4e24b4848f656ef4dd17": {
      "model_module": "@jupyter-widgets/base",
      "model_module_version": "1.2.0",
      "model_name": "LayoutModel",
      "state": {}
     },
     "69893ac3a6bb413c93f326f7a408c1d1": {
      "model_module": "@jupyter-widgets/base",
      "model_module_version": "1.2.0",
      "model_name": "LayoutModel",
      "state": {}
     },
     "6b1f72772646431bb54dafa8f9865a2c": {
      "model_module": "@jupyter-widgets/base",
      "model_module_version": "1.2.0",
      "model_name": "LayoutModel",
      "state": {}
     },
     "6b894dcccb1b42e4b22c2c7960ae17da": {
      "model_module": "@jupyter-widgets/base",
      "model_module_version": "1.2.0",
      "model_name": "LayoutModel",
      "state": {}
     },
     "6c0bd15681324cfb82c95f0787b0637f": {
      "model_module": "@jupyter-widgets/base",
      "model_module_version": "1.2.0",
      "model_name": "LayoutModel",
      "state": {}
     },
     "6cd2c8204de54370a052812307278218": {
      "model_module": "@jupyter-widgets/controls",
      "model_module_version": "1.5.0",
      "model_name": "DescriptionStyleModel",
      "state": {
       "description_width": "initial"
      }
     },
     "6d3e2178847444f488514c2b198de715": {
      "model_module": "@jupyter-widgets/controls",
      "model_module_version": "1.5.0",
      "model_name": "ButtonModel",
      "state": {
       "description": "Set",
       "layout": "IPY_MODEL_f2b1f57cbd0844d88f681f551430830e",
       "style": "IPY_MODEL_a8f3f07e96c247dd954a193a9ae50b0a"
      }
     },
     "6f0c27b8a3144767b378259a974ac93c": {
      "model_module": "@jupyter-widgets/base",
      "model_module_version": "1.2.0",
      "model_name": "LayoutModel",
      "state": {
       "width": "80%"
      }
     },
     "6f31a5ddbe7a425eb5eb6c6963aec633": {
      "model_module": "@jupyter-widgets/controls",
      "model_module_version": "1.5.0",
      "model_name": "ProgressStyleModel",
      "state": {
       "description_width": ""
      }
     },
     "6fae8f8099ae4e878de8dc75c61246a0": {
      "model_module": "@jupyter-widgets/controls",
      "model_module_version": "1.5.0",
      "model_name": "ButtonModel",
      "state": {
       "description": "Add All ⇾",
       "layout": "IPY_MODEL_05470ad669ec44619a4f545c6d262c00",
       "style": "IPY_MODEL_b2137cfdd20d49c0914bb7066d18e815"
      }
     },
     "70a085cf64d741d4a98a280445d9633b": {
      "model_module": "@jupyter-widgets/controls",
      "model_module_version": "1.5.0",
      "model_name": "ButtonStyleModel",
      "state": {}
     },
     "73d866c5bd9748969a70ba2271c49545": {
      "model_module": "@jupyter-widgets/controls",
      "model_module_version": "1.5.0",
      "model_name": "TextModel",
      "state": {
       "description": "Time (24hr)",
       "layout": "IPY_MODEL_89c6016375b74f47a4e6c37410395247",
       "style": "IPY_MODEL_59dad62ea9464f94aebe383a9a110b96",
       "value": "20:42:15.345503"
      }
     },
     "75a66720bc1747bb86be8793e083c8bd": {
      "model_module": "@jupyter-widgets/controls",
      "model_module_version": "1.5.0",
      "model_name": "SliderStyleModel",
      "state": {
       "description_width": "initial"
      }
     },
     "75f367aeb5c44e3facf2b2e90bd2c01b": {
      "model_module": "@jupyter-widgets/base",
      "model_module_version": "1.2.0",
      "model_name": "LayoutModel",
      "state": {}
     },
     "76a148c19ced4c00a3f71e17f70398a3": {
      "model_module": "@jupyter-widgets/controls",
      "model_module_version": "1.5.0",
      "model_name": "SliderStyleModel",
      "state": {
       "description_width": "initial"
      }
     },
     "783044452875464fbc72662637c5910e": {
      "model_module": "@jupyter-widgets/controls",
      "model_module_version": "1.5.0",
      "model_name": "DescriptionStyleModel",
      "state": {
       "description_width": ""
      }
     },
     "798cf66c158946c2a6d9eac67ad43830": {
      "model_module": "@jupyter-widgets/base",
      "model_module_version": "1.2.0",
      "model_name": "LayoutModel",
      "state": {}
     },
     "7b1d2a743ef24147b628e1dbdffaf47d": {
      "model_module": "@jupyter-widgets/controls",
      "model_module_version": "1.5.0",
      "model_name": "VBoxModel",
      "state": {
       "children": [
        "IPY_MODEL_864957aa409b4575b6c1298dd5536f97",
        "IPY_MODEL_d2d52c759eda4e8cb2a1f344b64ac3a6"
       ],
       "layout": "IPY_MODEL_fdcdd2ffa97548878bde2ac6d368235a"
      }
     },
     "7b90c1b4ffc04d3abb881a296870069d": {
      "model_module": "@jupyter-widgets/base",
      "model_module_version": "1.2.0",
      "model_name": "LayoutModel",
      "state": {}
     },
     "7b956aaef01d4446a81b2e8336e6ac6f": {
      "model_module": "@jupyter-widgets/controls",
      "model_module_version": "1.5.0",
      "model_name": "SelectMultipleModel",
      "state": {
       "description": "Selected: ",
       "index": [],
       "layout": "IPY_MODEL_257e24a183ed4bafa0892c22eba033e5",
       "rows": 5,
       "style": "IPY_MODEL_64298d92cad844f0b5934c024e3661eb"
      }
     },
     "7d0ba715e3ad4b0288d33a9526c703d1": {
      "model_module": "@jupyter-widgets/controls",
      "model_module_version": "1.5.0",
      "model_name": "DescriptionStyleModel",
      "state": {
       "description_width": ""
      }
     },
     "7de41748f8124cbca7a6f59fa2d4ab3f": {
      "model_module": "@jupyter-widgets/controls",
      "model_module_version": "1.5.0",
      "model_name": "SelectMultipleModel",
      "state": {
       "_options_labels": [
        "An event log was cleared",
        "Anomalous account creation detected",
        "Azure Security Center test alert (not a threat)",
        "DC local group addition - Demo",
        "DC with MS AM engine failure - Demo",
        "Deep Security Agent detected a malware",
        "Detected Petya ransomware indicators",
        "Detected actions indicative of disabling and deleting IIS log files.",
        "Detected anomalous mix of upper and lower case characters in command-line",
        "Detected change to a registry key that can be abused to bypass UAC",
        "Detected decoding of an executable using built-in certutil.exe tool",
        "Detected encoded executable in command line data",
        "Detected obfuscated command line.",
        "Detected possible execution of keygen executable",
        "Detected possible execution of malware dropper",
        "Detected possible local reconnaissance activity",
        "Detected potentially suspicious use of Telegram tool",
        "Detected suspicious Set-ExecutionPolicy and WinRM changes",
        "Detected suspicious commandline arguments",
        "Detected suspicious commandline used to start all executables in a directory",
        "Detected suspicious credentials in commandline",
        "Detected suspicious document credentials",
        "Detected suspicious execution of VBScript.Encode command",
        "Detected suspicious execution via rundll32.exe",
        "Detected suspicious file cleanup commands",
        "Detected suspicious file creation",
        "Detected suspicious named pipe communications",
        "Detected suspicious new firewall rule",
        "Detected suspicious use of Cacls to lower the security state of the system.",
        "Detected suspicious use of FTP -s Switch",
        "Detected suspicious use of Pcalua.exe to launch executable code",
        "Detected the disabling of critical services",
        "Digital currency mining related behavior detected",
        "Executable found running from a suspicious location",
        "Failed RDP Brute Force Attack",
        "Global domain trust creation - Demo",
        "High risk software detected",
        "Maliciuos IP communication",
        "Modified system binary discovered in dump file 5bd767e4-2d08-4714-b744-aaed04b57107__391365252.hdmp",
        "Multiple Domain Accounts Queried",
        "Network communication with a malicious machine detected",
        "Palo Alto admin logged on via SSH - Demo",
        "Possible compromised machine detected",
        "Possible credential dumping detected",
        "Possible outgoing spam activity detected",
        "Potential SQL Injection",
        "Potential attempt to bypass AppLocker detected",
        "Random process name detected",
        "Ransomware indicators detected",
        "Rare SVCHOST service group executed",
        "SQL injection blocked",
        "Sticky keys attack detected",
        "Successful RDP brute force attack",
        "Suspected Kerberos Golden Ticket attack parameters observed",
        "Suspicious Account Added",
        "Suspicious Account Creation Detected",
        "Suspicious Powershell Activity Detected",
        "Suspicious SVCHOST process executed",
        "Suspicious Volume Shadow Copy Activity",
        "Suspicious WindowPosition registry value detected",
        "Suspicious double extension file executed",
        "Suspicious download using Certutil detected",
        "Suspicious powershell cmdlets executed",
        "Suspicious process executed",
        "Suspicious system process executed",
        "Suspiciously named process detected"
       ],
       "description": "Source: ",
       "index": [],
       "layout": "IPY_MODEL_2c1a950642c54b588250d851ca6d0546",
       "rows": 5,
       "style": "IPY_MODEL_978977462de54b0bad9f71830c392574"
      }
     },
     "7df3506aafa84d9faa8ea39c7bbaab6d": {
      "model_module": "@jupyter-widgets/controls",
      "model_module_version": "1.5.0",
      "model_name": "ButtonModel",
      "state": {
       "description": "⇽ Remove",
       "layout": "IPY_MODEL_1643ecc67b7d4bd3922e4e9117d2d08c",
       "style": "IPY_MODEL_39bc3f1934ff4bd980bdb3fa1d11e896"
      }
     },
     "7fc7c9ccdd6448888bc9a27687b71d33": {
      "model_module": "@jupyter-widgets/controls",
      "model_module_version": "1.5.0",
      "model_name": "DescriptionStyleModel",
      "state": {
       "description_width": ""
      }
     },
     "819a36c6f8414f748157f2faef1b6a6f": {
      "model_module": "@jupyter-widgets/base",
      "model_module_version": "1.2.0",
      "model_name": "LayoutModel",
      "state": {
       "width": "50%"
      }
     },
     "84ac541bbfd94179b5852c20bc07f874": {
      "model_module": "@jupyter-widgets/base",
      "model_module_version": "1.2.0",
      "model_name": "LayoutModel",
      "state": {}
     },
     "84cc277f660945ffa208070dd67becf3": {
      "model_module": "@jupyter-widgets/controls",
      "model_module_version": "1.5.0",
      "model_name": "VBoxModel",
      "state": {
       "children": [
        "IPY_MODEL_8b19d3496adf4e5ca70ad242c721bd57",
        "IPY_MODEL_b1b04859a5b74296a2c56d82e567189c"
       ],
       "layout": "IPY_MODEL_0fad3c9e1c1c4027ae5c09d1e423508b"
      }
     },
     "84f12e6880164cdb8e27f0c391f84655": {
      "model_module": "@jupyter-widgets/base",
      "model_module_version": "1.2.0",
      "model_name": "LayoutModel",
      "state": {}
     },
     "864957aa409b4575b6c1298dd5536f97": {
      "model_module": "@jupyter-widgets/controls",
      "model_module_version": "1.5.0",
      "model_name": "TextModel",
      "state": {
       "description": "Filter:",
       "layout": "IPY_MODEL_965d4b922de64b10b0fa564f87c08c4e",
       "style": "IPY_MODEL_ba5749ac1b264efba7122027e67415d7"
      }
     },
     "881a7689b2034ab6b6f9d7e675eab4d3": {
      "model_module": "@jupyter-widgets/controls",
      "model_module_version": "1.5.0",
      "model_name": "DescriptionStyleModel",
      "state": {
       "description_width": "initial"
      }
     },
     "884fcae989914080b07c69739bc5cb1f": {
      "model_module": "@jupyter-widgets/controls",
      "model_module_version": "1.5.0",
      "model_name": "SelectMultipleModel",
      "state": {
       "_options_labels": [
        "An event log was cleared",
        "Anomalous account creation detected",
        "Azure Security Center test alert (not a threat)",
        "DC local group addition - Demo",
        "DC with MS AM engine failure - Demo",
        "Deep Security Agent detected a malware",
        "Detected Petya ransomware indicators",
        "Detected actions indicative of disabling and deleting IIS log files.",
        "Detected anomalous mix of upper and lower case characters in command-line",
        "Detected change to a registry key that can be abused to bypass UAC",
        "Detected decoding of an executable using built-in certutil.exe tool",
        "Detected encoded executable in command line data",
        "Detected obfuscated command line.",
        "Detected possible execution of keygen executable",
        "Detected possible execution of malware dropper",
        "Detected possible local reconnaissance activity",
        "Detected potentially suspicious use of Telegram tool",
        "Detected suspicious Set-ExecutionPolicy and WinRM changes",
        "Detected suspicious commandline arguments",
        "Detected suspicious commandline used to start all executables in a directory",
        "Detected suspicious credentials in commandline",
        "Detected suspicious document credentials",
        "Detected suspicious execution of VBScript.Encode command",
        "Detected suspicious execution via rundll32.exe",
        "Detected suspicious file cleanup commands",
        "Detected suspicious file creation",
        "Detected suspicious named pipe communications",
        "Detected suspicious new firewall rule",
        "Detected suspicious use of Cacls to lower the security state of the system.",
        "Detected suspicious use of FTP -s Switch",
        "Detected suspicious use of Pcalua.exe to launch executable code",
        "Detected the disabling of critical services",
        "Digital currency mining related behavior detected",
        "Executable found running from a suspicious location",
        "Failed RDP Brute Force Attack",
        "Global domain trust creation - Demo",
        "High risk software detected",
        "Maliciuos IP communication",
        "Modified system binary discovered in dump file 5bd767e4-2d08-4714-b744-aaed04b57107__391365252.hdmp",
        "Multiple Domain Accounts Queried",
        "Network communication with a malicious machine detected",
        "Palo Alto admin logged on via SSH - Demo",
        "Possible compromised machine detected",
        "Possible credential dumping detected",
        "Possible outgoing spam activity detected",
        "Potential SQL Injection",
        "Potential attempt to bypass AppLocker detected",
        "Random process name detected",
        "Ransomware indicators detected",
        "Rare SVCHOST service group executed",
        "SQL injection blocked",
        "Sticky keys attack detected",
        "Successful RDP brute force attack",
        "Suspected Kerberos Golden Ticket attack parameters observed",
        "Suspicious Account Added",
        "Suspicious Account Creation Detected",
        "Suspicious Powershell Activity Detected",
        "Suspicious SVCHOST process executed",
        "Suspicious Volume Shadow Copy Activity",
        "Suspicious WindowPosition registry value detected",
        "Suspicious double extension file executed",
        "Suspicious download using Certutil detected",
        "Suspicious powershell cmdlets executed",
        "Suspicious process executed",
        "Suspicious system process executed",
        "Suspiciously named process detected"
       ],
       "description": "Source: ",
       "index": [],
       "layout": "IPY_MODEL_257e24a183ed4bafa0892c22eba033e5",
       "rows": 5,
       "style": "IPY_MODEL_9c07b5260bee4fc58ff183d86bbef217"
      }
     },
     "88c0fabd96524cce9e6917354db9dcf2": {
      "model_module": "@jupyter-widgets/base",
      "model_module_version": "1.2.0",
      "model_name": "LayoutModel",
      "state": {
       "height": "100px",
       "width": "50%"
      }
     },
     "89a5b80370564ce5899323f90c22ce14": {
      "model_module": "@jupyter-widgets/base",
      "model_module_version": "1.2.0",
      "model_name": "LayoutModel",
      "state": {
       "width": "80%"
      }
     },
     "89c6016375b74f47a4e6c37410395247": {
      "model_module": "@jupyter-widgets/base",
      "model_module_version": "1.2.0",
      "model_name": "LayoutModel",
      "state": {}
     },
     "8a6d6f462a604cafbc214820209d93e6": {
      "model_module": "@jupyter-widgets/controls",
      "model_module_version": "1.5.0",
      "model_name": "ButtonStyleModel",
      "state": {}
     },
     "8b19d3496adf4e5ca70ad242c721bd57": {
      "model_module": "@jupyter-widgets/controls",
      "model_module_version": "1.5.0",
      "model_name": "TextModel",
      "state": {
       "description": "Filter alerts by title:",
       "layout": "IPY_MODEL_84ac541bbfd94179b5852c20bc07f874",
       "style": "IPY_MODEL_0a74b18eb4d040d38a6dbeb88aaeada3"
      }
     },
     "8b5c8473c6334e4a910802ab256cce90": {
      "model_module": "@jupyter-widgets/controls",
      "model_module_version": "1.5.0",
      "model_name": "IntRangeSliderModel",
      "state": {
       "_model_name": "IntRangeSliderModel",
       "_view_name": "IntRangeSliderView",
       "description": "Time Range (day):",
       "layout": "IPY_MODEL_b828b9cc38b44aa88220780ee469b05c",
       "max": 1,
       "min": -20,
       "style": "IPY_MODEL_dd0df715bdc24c91911dd7c3b39c3d62",
       "value": [
        -5,
        1
       ]
      }
     },
     "8cabd238f84b48159f6a22ef7cacded8": {
      "model_module": "@jupyter-widgets/controls",
      "model_module_version": "1.5.0",
      "model_name": "VBoxModel",
      "state": {
       "children": [
        "IPY_MODEL_e92096c8f1d54daf9d9fa2a86fea4015",
        "IPY_MODEL_d5fba5e7fbba4327b1a490b730755ec8"
       ],
       "layout": "IPY_MODEL_54f239fb47fb4b57bf853380f49e5794"
      }
     },
     "8cd527471af4484b8bc597d6a5d7aeea": {
      "model_module": "@jupyter-widgets/controls",
      "model_module_version": "1.5.0",
      "model_name": "HBoxModel",
      "state": {
       "children": [
        "IPY_MODEL_0cc9e954a38b4b13aeb42c2863c63fd4",
        "IPY_MODEL_f4b832d27cce4163ac4636bdf876015b"
       ],
       "layout": "IPY_MODEL_046b4c62ee494dddb86b7f36f383a78e"
      }
     },
     "8cf30b3d3fe24deab877b93239897e43": {
      "model_module": "@jupyter-widgets/controls",
      "model_module_version": "1.5.0",
      "model_name": "SliderStyleModel",
      "state": {
       "description_width": "initial"
      }
     },
     "8d6902d3dede4dd09680ce5026ac8c12": {
      "model_module": "@jupyter-widgets/controls",
      "model_module_version": "1.5.0",
      "model_name": "HTMLModel",
      "state": {
       "layout": "IPY_MODEL_ca3c84ce4f8640ebb2856ad9824f8b4c",
       "style": "IPY_MODEL_eabf798f21194f3c979cb17d5518598d",
       "value": "<h4>Set query time boundaries</h4>"
      }
     },
     "8fa11a486d3c4d7f87eced821babc21a": {
      "model_module": "@jupyter-widgets/controls",
      "model_module_version": "1.5.0",
      "model_name": "DatePickerModel",
      "state": {
       "description": "Origin Date",
       "disabled": false,
       "layout": "IPY_MODEL_136179e31478428babe00a908d058dc6",
       "style": "IPY_MODEL_407a75285d744ee1afef41d30084be11",
       "value": {
        "date": 12,
        "month": 5,
        "year": 2020
       }
      }
     },
     "905519fcf7cd4edb8c41fdb51ac216e2": {
      "model_module": "@jupyter-widgets/controls",
      "model_module_version": "1.5.0",
      "model_name": "SliderStyleModel",
      "state": {
       "description_width": "initial"
      }
     },
     "91b3891423eb424581641e0d78aba63d": {
      "model_module": "@jupyter-widgets/base",
      "model_module_version": "1.2.0",
      "model_name": "LayoutModel",
      "state": {
       "height": "50px",
       "width": "60%"
      }
     },
     "965d4b922de64b10b0fa564f87c08c4e": {
      "model_module": "@jupyter-widgets/base",
      "model_module_version": "1.2.0",
      "model_name": "LayoutModel",
      "state": {}
     },
     "9682419f95974d2685e1e8be5e4e21d7": {
      "model_module": "@jupyter-widgets/controls",
      "model_module_version": "1.5.0",
      "model_name": "DescriptionStyleModel",
      "state": {
       "description_width": ""
      }
     },
     "978977462de54b0bad9f71830c392574": {
      "model_module": "@jupyter-widgets/controls",
      "model_module_version": "1.5.0",
      "model_name": "DescriptionStyleModel",
      "state": {
       "description_width": ""
      }
     },
     "9806636bf71845f0bfc46f65d5538cd0": {
      "model_module": "@jupyter-widgets/base",
      "model_module_version": "1.2.0",
      "model_name": "LayoutModel",
      "state": {}
     },
     "997803ca203f4a33ba2e6e923f05b249": {
      "model_module": "@jupyter-widgets/controls",
      "model_module_version": "1.5.0",
      "model_name": "DatePickerModel",
      "state": {
       "description": "Origin Date",
       "disabled": false,
       "layout": "IPY_MODEL_c870075ad4d14af9977eb14eadef9cdf",
       "style": "IPY_MODEL_7fc7c9ccdd6448888bc9a27687b71d33",
       "value": {
        "date": 28,
        "month": 4,
        "year": 2020
       }
      }
     },
     "9abeabb6a2c4401b964f43ba57a58abd": {
      "model_module": "@jupyter-widgets/base",
      "model_module_version": "1.2.0",
      "model_name": "LayoutModel",
      "state": {}
     },
     "9b818a11c58141039814c5df41f81bfe": {
      "model_module": "@jupyter-widgets/base",
      "model_module_version": "1.2.0",
      "model_name": "LayoutModel",
      "state": {}
     },
     "9c07b5260bee4fc58ff183d86bbef217": {
      "model_module": "@jupyter-widgets/controls",
      "model_module_version": "1.5.0",
      "model_name": "DescriptionStyleModel",
      "state": {
       "description_width": ""
      }
     },
     "9cb22483c3094a65b04b496acdca122b": {
      "model_module": "@jupyter-widgets/base",
      "model_module_version": "1.2.0",
      "model_name": "LayoutModel",
      "state": {
       "width": "50%"
      }
     },
     "9cb788930ada425c9c6a03d4826c6664": {
      "model_module": "@jupyter-widgets/controls",
      "model_module_version": "1.5.0",
      "model_name": "DescriptionStyleModel",
      "state": {
       "description_width": ""
      }
     },
     "a0b46001f4e446a48be84c5d1e9d0980": {
      "model_module": "@jupyter-widgets/controls",
      "model_module_version": "1.5.0",
      "model_name": "DescriptionStyleModel",
      "state": {
       "description_width": "initial"
      }
     },
     "a12ccec5b28f4ec4bf8cf8ef499a1388": {
      "model_module": "@jupyter-widgets/base",
      "model_module_version": "1.2.0",
      "model_name": "LayoutModel",
      "state": {
       "width": "50%"
      }
     },
     "a25a1009b8944bb8866d2ae00e1edd7a": {
      "model_module": "@jupyter-widgets/base",
      "model_module_version": "1.2.0",
      "model_name": "LayoutModel",
      "state": {}
     },
     "a54c7c8f7d4442c6945c1dc375506aa8": {
      "model_module": "@jupyter-widgets/controls",
      "model_module_version": "1.5.0",
      "model_name": "DatePickerModel",
      "state": {
       "description": "Origin Date",
       "disabled": false,
       "layout": "IPY_MODEL_be9382f23292480db3cb3a98c8f4f297",
       "style": "IPY_MODEL_0124de572b974f04a91ee537da9ffe38",
       "value": {
        "date": 28,
        "month": 4,
        "year": 2020
       }
      }
     },
     "a70a1f7b0b59456c957c22af521e8714": {
      "model_module": "@jupyter-widgets/base",
      "model_module_version": "1.2.0",
      "model_name": "LayoutModel",
      "state": {
       "height": "300px",
       "width": "95%"
      }
     },
     "a7301d867dad4f72910bf7be5dd854c4": {
      "model_module": "@jupyter-widgets/base",
      "model_module_version": "1.2.0",
      "model_name": "LayoutModel",
      "state": {}
     },
     "a86b27882d364e9488efe466d9ab2f09": {
      "model_module": "@jupyter-widgets/base",
      "model_module_version": "1.2.0",
      "model_name": "LayoutModel",
      "state": {}
     },
     "a8f3f07e96c247dd954a193a9ae50b0a": {
      "model_module": "@jupyter-widgets/controls",
      "model_module_version": "1.5.0",
      "model_name": "ButtonStyleModel",
      "state": {}
     },
     "ab1e372878bd4d20b65661a3243d9ec1": {
      "model_module": "@jupyter-widgets/controls",
      "model_module_version": "1.5.0",
      "model_name": "TextModel",
      "state": {
       "description": "Query end time (UTC) :  ",
       "layout": "IPY_MODEL_9cb22483c3094a65b04b496acdca122b",
       "style": "IPY_MODEL_3a65d1f191e749708e27fe4ba9079c3d",
       "value": "2020-05-28 22:42:15.218230"
      }
     },
     "ac279b14e17644329f06edfa20591e62": {
      "model_module": "@jupyter-widgets/base",
      "model_module_version": "1.2.0",
      "model_name": "LayoutModel",
      "state": {}
     },
     "af65547d4c0e4836933232775f814eb8": {
      "model_module": "@jupyter-widgets/controls",
      "model_module_version": "1.5.0",
      "model_name": "ButtonModel",
      "state": {
       "description": "Add ⇾",
       "layout": "IPY_MODEL_5ac5d5c151074b898c8aa5f82ee02672",
       "style": "IPY_MODEL_19b525b643ae408fad921ae34434a05d"
      }
     },
     "afeb2986f23b456998ee0d242be4d40f": {
      "model_module": "@jupyter-widgets/controls",
      "model_module_version": "1.5.0",
      "model_name": "TextModel",
      "state": {
       "description": "Query end time (UTC) :  ",
       "layout": "IPY_MODEL_cae1e0264cfd494cb4ad092786f30ff4",
       "style": "IPY_MODEL_5d1aa8c4526f4202824981d758e681d4",
       "value": "2020-06-13 20:42:15.137356"
      }
     },
     "b06ce70bbd6245578b160dcfa82b72ef": {
      "model_module": "@jupyter-widgets/controls",
      "model_module_version": "1.5.0",
      "model_name": "DescriptionStyleModel",
      "state": {
       "description_width": ""
      }
     },
     "b12827a5c4b4467191ef056ff447f0d4": {
      "model_module": "@jupyter-widgets/controls",
      "model_module_version": "1.5.0",
      "model_name": "TextModel",
      "state": {
       "description": "Time (24hr)",
       "layout": "IPY_MODEL_0bf8799263b04f239e03cedf9c1af0ed",
       "style": "IPY_MODEL_783044452875464fbc72662637c5910e",
       "value": "20:42:15.218230"
      }
     },
     "b1b04859a5b74296a2c56d82e567189c": {
      "model_module": "@jupyter-widgets/controls",
      "model_module_version": "1.5.0",
      "model_name": "SelectModel",
      "state": {
       "_options_labels": [
        "2019-01-15 05:15:03 - Suspicious Account Creation Detected - (MSTICALERTSWIN1)  - [id:2518547714966107270_3c380601-b5ad-4fff-9cdb-24528a3a19fd]",
        "2019-01-15 05:15:10 - Potential attempt to bypass AppLocker detected - (MSTICALERTSWIN1)  - [id:2518547714892475358_9e449abd-e67b-4ec8-a191-e688d7d63e26]",
        "2019-01-15 05:15:11 - Detected suspicious credentials in commandline - (MSTICALERTSWIN1)  - [id:2518547714880519889_9d6d471a-c94f-4706-b0ff-b2f0301495aa]",
        "2019-01-15 05:15:11 - Detected encoded executable in command line data - (MSTICALERTSWIN1)  - [id:2518547714885867955_290559aa-a3d0-425b-8ed2-e98ccc9f0aa0]",
        "2019-01-15 05:15:11 - Digital currency mining related behavior detected - (MSTICALERTSWIN1)  - [id:2518547714887413669_4fa0022e-f431-4ba1-ae5f-ee23247e0853]",
        "2019-01-15 05:15:11 - Suspiciously named process detected - (MSTICALERTSWIN1)  - [id:2518547714887413669_1c680842-2a1d-40c0-a6e4-32e5dd144647]",
        "2019-01-15 05:15:11 - Detected decoding of an executable using built-in certutil.exe tool - (MSTICALERTSWIN1)  - [id:2518547714882331861_5c56421d-d894-4437-9b9a-a3b5c6b7e1df]",
        "2019-01-15 05:15:12 - Detected suspicious commandline arguments - (MSTICALERTSWIN1)  - [id:2518547714879317674_226cc394-fccf-483d-888a-beafad2ed4a4]",
        "2019-01-15 05:15:12 - Detected suspicious document credentials - (MSTICALERTSWIN1)  - [id:2518547714879970078_b080127b-d5c1-425e-a7ca-e4bbd873009d]",
        "2019-01-15 05:15:12 - Suspicious Powershell Activity Detected - (MSTICALERTSWIN1)  - [id:2518547714874872692_30d988ff-b8d9-45df-8217-e56b0d4d591c]",
        "2019-01-15 05:15:12 - Suspicious powershell cmdlets executed - (MSTICALERTSWIN1)  - [id:2518547714874872692_3eb0eb4b-0536-430c-8ab6-cd48524c14b1]",
        "2019-01-15 05:15:12 - Suspicious Powershell Activity Detected - (MSTICALERTSWIN1)  - [id:2518547714876077067_953def48-a24b-42a9-bd02-7221be90f84a]",
        "2019-01-15 05:15:12 - Suspicious Powershell Activity Detected - (MSTICALERTSWIN1)  - [id:2518547714873290756_df1b9eb2-05c4-4f7c-8540-cbb18ec5c608]",
        "2019-01-15 05:15:12 - Detected obfuscated command line. - (MSTICALERTSWIN1)  - [id:2518547714871530079_77211491-86de-4295-82bc-38e332fe1112]",
        "2019-01-15 05:15:13 - Suspicious Powershell Activity Detected - (MSTICALERTSWIN1)  - [id:2518547714867787710_76336679-bddf-460f-90fb-35a1386de7a6]",
        "2019-01-15 05:15:14 - Executable found running from a suspicious location - (MSTICALERTSWIN1)  - [id:2518547714853062206_f9ddd8b3-5fa8-4f2f-b811-bdca90091195]",
        "2019-01-15 05:15:14 - Detected suspicious named pipe communications - (MSTICALERTSWIN1)  - [id:2518547714859677078_9b4e4942-d564-4755-862c-7171d52921e3]",
        "2019-01-15 05:15:14 - Suspicious process executed - (MSTICALERTSWIN1)  - [id:2518547714854375707_e2a60bd1-d7c8-466d-a176-4333d4e0d1d5]",
        "2019-01-15 05:15:14 - Suspicious WindowPosition registry value detected - (MSTICALERTSWIN1)  - [id:2518547714858429362_9bfd0e4b-ec93-46bb-8eea-f72e8f1262f1]",
        "2019-01-15 05:15:14 - Executable found running from a suspicious location - (MSTICALERTSWIN1)  - [id:2518547714857061520_f4324711-aeae-4912-a634-331b7e7456b6]",
        "2019-01-15 05:15:15 - Suspicious process executed - (MSTICALERTSWIN1)  - [id:2518547714842732992_ad5981a5-fdcc-406a-8742-e50bd7f84917]",
        "2019-01-15 05:15:15 - Detected anomalous mix of upper and lower case characters in command-line - (MSTICALERTSWIN1)  - [id:2518547714844457503_55cd3e12-3a91-4b06-9be6-833df3365142]",
        "2019-01-15 05:15:15 - Detected change to a registry key that can be abused to bypass UAC - (MSTICALERTSWIN1)  - [id:2518547714844291280_8f71e695-ba9b-4c97-9770-63cdeb34b7b4]",
        "2019-01-15 05:15:15 - Sticky keys attack detected - (MSTICALERTSWIN1)  - [id:2518547714843796759_b3737297-038c-4514-a957-d591384b4256]",
        "2019-01-15 05:15:15 - Detected suspicious use of FTP -s Switch - (MSTICALERTSWIN1)  - [id:2518547714843218505_265472ff-3820-4dad-8da7-00e39e1a99fd]",
        "2019-01-15 05:15:16 - Suspected Kerberos Golden Ticket attack parameters observed - (MSTICALERTSWIN1)  - [id:2518547714838326136_e776fca2-4c01-43eb-ab97-b9845af3529c]",
        "2019-01-15 05:15:16 - Detected suspicious new firewall rule - (MSTICALERTSWIN1)  - [id:2518547714839319574_33edaa83-fe35-47de-9486-fc9792c5b65b]",
        "2019-01-15 05:15:16 - Detected suspicious execution via rundll32.exe - (MSTICALERTSWIN1)  - [id:2518547714834806864_4bb2ecc3-f4aa-40cd-a3d7-802fc9086e89]",
        "2019-01-15 05:15:16 - Detected suspicious execution via rundll32.exe - (MSTICALERTSWIN1)  - [id:2518547714835690929_8e73946b-ebea-4625-aa60-d97b82dcfb07]",
        "2019-01-15 05:15:16 - Detected possible local reconnaissance activity - (MSTICALERTSWIN1)  - [id:2518547714837217151_f0d023fb-376f-46ab-9976-a5825d826bea]",
        "2019-01-15 05:15:16 - Detected suspicious Set-ExecutionPolicy and WinRM changes - (MSTICALERTSWIN1)  - [id:2518547714832788202_b56b9e61-fefb-47a3-a34f-7c1b44f8268a]",
        "2019-01-15 05:15:16 - Detected suspicious commandline used to start all executables in a directory - (MSTICALERTSWIN1)  - [id:2518547714833232927_0e8db234-9727-41f3-a6e0-0773519603d2]",
        "2019-01-15 05:15:16 - Detected potentially suspicious use of Telegram tool - (MSTICALERTSWIN1)  - [id:2518547714833859291_4fa26308-1daf-49ee-8880-b194f950d8b0]",
        "2019-01-15 05:15:16 - Detected actions indicative of disabling and deleting IIS log files. - (MSTICALERTSWIN1)  - [id:2518547714831067013_8df27789-fb10-4035-ac48-cd0883b2e6b0]",
        "2019-01-15 05:15:17 - Random process name detected - (MSTICALERTSWIN1)  - [id:2518547714829244584_9984a237-2dd7-4932-bb8d-23ca535a6254]",
        "2019-01-15 05:15:17 - Azure Security Center test alert (not a threat) - (MSTICALERTSWIN1)  - [id:2518547714824290520_b2d9be9f-58e2-4174-8658-419670393253]",
        "2019-01-15 05:15:18 - Detected suspicious file creation - (MSTICALERTSWIN1)  - [id:2518547714816637303_3252483f-2fdb-411a-93f5-e268d5e56abf]",
        "2019-01-15 05:15:18 - High risk software detected - (MSTICALERTSWIN1)  - [id:2518547714813699414_d12ed618-567b-4b8f-8241-82ad4c1cb28e]",
        "2019-01-15 05:15:18 - Detected possible execution of malware dropper - (MSTICALERTSWIN1)  - [id:2518547714815009424_9a34d332-2fb6-4f3f-beb0-d9817dc9b7cd]",
        "2019-01-15 05:15:18 - Ransomware indicators detected - (MSTICALERTSWIN1)  - [id:2518547714812286467_d5e026fa-6687-495e-878d-c4c93477cc78]",
        "2019-01-15 05:15:18 - Detected possible execution of keygen executable - (MSTICALERTSWIN1)  - [id:2518547714814533914_38d53571-e98a-4bb6-a17f-0361a561019e]",
        "2019-01-15 05:15:18 - Detected suspicious use of Pcalua.exe to launch executable code - (MSTICALERTSWIN1)  - [id:2518547714811337754_ad1fd62a-9565-41e4-b94a-6264942033f6]",
        "2019-01-15 05:15:18 - Detected the disabling of critical services - (MSTICALERTSWIN1)  - [id:2518547714813299511_a5df127a-f7e8-44ff-b404-6d5b37d06488]",
        "2019-01-15 05:15:18 - Detected suspicious file cleanup commands - (MSTICALERTSWIN1)  - [id:2518547714814450855_c0822e2b-785b-41a8-8136-21b7430a0078]",
        "2019-01-15 05:15:18 - Detected Petya ransomware indicators - (MSTICALERTSWIN1)  - [id:2518547714812938298_fa4939d4-a20c-440a-839c-89c0c43e1ccc]",
        "2019-01-15 05:15:18 - Detected suspicious execution of VBScript.Encode command - (MSTICALERTSWIN1)  - [id:2518547714811804858_5b42a152-64c2-4f16-8cc3-887b8b0161fc]",
        "2019-01-15 05:15:18 - Detected suspicious use of Cacls to lower the security state of the system. - (MSTICALERTSWIN1)  - [id:2518547714815952205_1ba5718e-529b-441b-8036-ad06ee862e76]",
        "2019-01-15 05:15:19 - Possible credential dumping detected - (MSTICALERTSWIN1)  - [id:2518547714809416002_76bf04a5-71fa-487a-9742-d54941a7a194]",
        "2019-01-15 05:15:19 - Suspicious download using Certutil detected - (MSTICALERTSWIN1)  - [id:2518547714805546049_03e7bf17-8f77-42ca-8ac1-af8258f4d1ca]",
        "2019-01-15 09:15:03 - Suspicious Account Creation Detected - (MSTICALERTSWIN1)  - [id:2518547570966661760_526e34b6-6578-4fc0-9db6-e126b4d673f0]",
        "2019-01-15 09:15:07 - Potential attempt to bypass AppLocker detected - (MSTICALERTSWIN1)  - [id:2518547570924760670_9868ed7d-397e-4aa4-8dbd-5a1c5f736c1e]",
        "2019-01-15 09:15:10 - Suspiciously named process detected - (MSTICALERTSWIN1)  - [id:2518547570895430544_4ea6c432-6d20-4986-9679-ecf58ac4854d]",
        "2019-01-15 09:15:10 - Digital currency mining related behavior detected - (MSTICALERTSWIN1)  - [id:2518547570895430544_72351be4-ae78-4cc6-9f6a-1ff87c31baeb]",
        "2019-01-15 09:15:11 - Suspicious Powershell Activity Detected - (MSTICALERTSWIN1)  - [id:2518547570884378777_92a2f884-5827-4fb6-acf8-b0087b76aa73]",
        "2019-01-15 09:15:11 - Suspicious Powershell Activity Detected - (MSTICALERTSWIN1)  - [id:2518547570881721037_4ca5c629-673c-4372-9bd3-ab7bf6d6e6f0]",
        "2019-01-15 09:15:11 - Suspicious Powershell Activity Detected - (MSTICALERTSWIN1)  - [id:2518547570883109415_c762b0f7-a0f5-4dda-ab48-54b5ae6eade4]",
        "2019-01-15 09:15:11 - Detected obfuscated command line. - (MSTICALERTSWIN1)  - [id:2518547570880067443_c1a9004f-7f64-4144-8ce0-8f76f9041703]",
        "2019-01-15 09:15:12 - Suspicious Powershell Activity Detected - (MSTICALERTSWIN1)  - [id:2518547570876432155_ce7c7361-8ac9-47be-b8fb-7a87c87ee178]",
        "2019-01-15 09:15:13 - Suspicious WindowPosition registry value detected - (MSTICALERTSWIN1)  - [id:2518547570866947129_1b074412-133c-4ac9-8e3f-24103159b03e]",
        "2019-01-15 09:15:13 - Executable found running from a suspicious location - (MSTICALERTSWIN1)  - [id:2518547570865502616_c6f3dea2-fe36-4e65-b161-1b1cd1104eb3]",
        "2019-01-15 09:15:13 - Executable found running from a suspicious location - (MSTICALERTSWIN1)  - [id:2518547570860979996_bddac8c5-cba5-4da2-a6dd-c0a39fc2b256]",
        "2019-01-15 09:15:13 - Suspicious process executed - (MSTICALERTSWIN1)  - [id:2518547570862568702_029c9c95-c1fe-4419-bc3b-a6d832c87e65]",
        "2019-01-15 09:15:14 - Detected anomalous mix of upper and lower case characters in command-line - (MSTICALERTSWIN1)  - [id:2518547570852901341_3ca6ca5a-8bf2-417f-b8c9-3cea37c84f4b]",
        "2019-01-15 09:15:14 - Suspicious process executed - (MSTICALERTSWIN1)  - [id:2518547570851316041_43f7d8f3-fea5-4fca-a884-713c2d65203c]",
        "2019-01-15 09:15:16 - Azure Security Center test alert (not a threat) - (MSTICALERTSWIN1)  - [id:2518547570833725387_2df8ae94-03fe-4b9f-a3a9-f3c6dab95c05]",
        "2019-01-15 09:15:17 - Ransomware indicators detected - (MSTICALERTSWIN1)  - [id:2518547570821365949_48327b74-c904-402d-a1d8-2b3a882924e7]",
        "2019-01-15 09:15:17 - Detected Petya ransomware indicators - (MSTICALERTSWIN1)  - [id:2518547570821871899_e647375c-9979-47b5-9f78-f414a1aad26d]",
        "2019-01-15 11:45:00 - Suspicious Account Creation Detected - (MSTICALERTSWIN1)  - [id:2518547480991748435_836318d1-0fa0-4cfe-a3d0-2b1fdbaf2216]",
        "2019-01-15 11:45:01 - Detected obfuscated command line. - (MSTICALERTSWIN1)  - [id:2518547480982511513_adfabbe0-fce0-44f3-be4b-17283bd03bed]",
        "2019-01-15 11:45:01 - Suspiciously named process detected - (MSTICALERTSWIN1)  - [id:2518547480988516756_54bb943e-7fe9-4146-a43e-4064c8e0049f]",
        "2019-01-15 11:45:01 - Digital currency mining related behavior detected - (MSTICALERTSWIN1)  - [id:2518547480988516756_668ed54c-9e73-4d4f-a9c2-b88fd1b13db0]",
        "2019-01-15 11:45:01 - Potential attempt to bypass AppLocker detected - (MSTICALERTSWIN1)  - [id:2518547480989617678_f3490cf7-a303-4001-b7d6-8acf7e83f191]",
        "2019-01-15 11:45:01 - Suspicious Powershell Activity Detected - (MSTICALERTSWIN1)  - [id:2518547480982973701_24a6d6f3-acf1-41bd-a11f-01a1369bac02]",
        "2019-01-15 11:45:01 - Suspicious Powershell Activity Detected - (MSTICALERTSWIN1)  - [id:2518547480984263491_d46877bd-e04d-401a-99bd-eec2a6b25663]",
        "2019-01-15 11:45:01 - Suspicious Powershell Activity Detected - (MSTICALERTSWIN1)  - [id:2518547480983467170_9da8e3df-9c3b-4e20-8bd0-ace00aff9def]",
        "2019-01-15 11:45:01 - Suspicious Powershell Activity Detected - (MSTICALERTSWIN1)  - [id:2518547480980813134_5cb7ab95-6017-4031-afb2-e11518b0f5cc]",
        "2019-01-15 11:45:02 - Executable found running from a suspicious location - (MSTICALERTSWIN1)  - [id:2518547480975043692_7e663699-5412-496f-ac91-e21a7b6f0be5]",
        "2019-01-15 11:45:02 - Suspicious WindowPosition registry value detected - (MSTICALERTSWIN1)  - [id:2518547480977469312_e9ff6947-fd12-42d2-bb63-2d814f04482a]",
        "2019-01-15 11:45:02 - Executable found running from a suspicious location - (MSTICALERTSWIN1)  - [id:2518547480977057409_ed9d92ac-0ab8-4a2e-a1dd-f70ee30a9af1]",
        "2019-01-15 11:45:02 - Detected anomalous mix of upper and lower case characters in command-line - (MSTICALERTSWIN1)  - [id:2518547480970182118_c0558adc-b4a9-4289-b9ad-7e7260f1cde0]",
        "2019-01-15 11:45:02 - Suspicious process executed - (MSTICALERTSWIN1)  - [id:2518547480976076338_2a106d12-acd8-4dd7-9e1c-3c20b4eaa320]",
        "2019-01-15 11:45:03 - Suspicious process executed - (MSTICALERTSWIN1)  - [id:2518547480968677354_88eb8a87-a876-46aa-b8ed-be7298929ea8]",
        "2019-01-15 11:45:04 - Random process name detected - (MSTICALERTSWIN1)  - [id:2518547480956885358_b66e93d7-b38b-4785-baa5-093edc18e649]",
        "2019-01-15 11:45:05 - Azure Security Center test alert (not a threat) - (MSTICALERTSWIN1)  - [id:2518547480945920380_00d33245-c643-4155-8c05-6abc4ee3b3cd]",
        "2019-01-15 11:45:06 - Ransomware indicators detected - (MSTICALERTSWIN1)  - [id:2518547480937987105_ec1678a1-0fe8-44c5-91b5-621c40d2bb8c]",
        "2019-01-15 11:45:06 - Detected Petya ransomware indicators - (MSTICALERTSWIN1)  - [id:2518547480938543829_91a4f9a7-70ad-433b-a568-34314e3f467f]",
        "2019-01-15 13:15:10 - Suspiciously named process detected - (MSTICALERTSWIN1)  - [id:2518547426892072407_171b74b2-a431-4b55-8d69-128e5fb95329]",
        "2019-01-15 13:15:13 - Suspicious WindowPosition registry value detected - (MSTICALERTSWIN1)  - [id:2518547426863814510_75495c57-4fd6-4e27-b94c-c6f81f78bcb5]",
        "2019-01-15 13:15:14 - Suspicious process executed - (MSTICALERTSWIN1)  - [id:2518547426859453218_89d1850f-dccd-4d45-b194-650819d358d9]",
        "2019-01-15 13:15:14 - Executable found running from a suspicious location - (MSTICALERTSWIN1)  - [id:2518547426858055460_51b74398-40e2-4b1b-9d92-89c0004738c9]",
        "2019-01-15 13:15:15 - Suspicious process executed - (MSTICALERTSWIN1)  - [id:2518547426847947731_caa12d6c-4928-4787-90d4-cb27ff94373c]",
        "2019-01-15 13:15:17 - Azure Security Center test alert (not a threat) - (MSTICALERTSWIN1)  - [id:2518547426829675756_846ec406-bb3e-451b-bf6f-9e1e17a69bd6]",
        "2019-01-15 13:15:18 - Ransomware indicators detected - (MSTICALERTSWIN1)  - [id:2518547426817428483_636ab38f-2528-4356-8602-d0910f8ac600]",
        "2019-01-15 13:15:18 - Detected Petya ransomware indicators - (MSTICALERTSWIN1)  - [id:2518547426817928329_a4aa878d-93b5-4cd1-931f-30f85b9e6db2]",
        "2019-01-15 17:15:03 - Suspicious Account Creation Detected - (MSTICALERTSWIN1)  - [id:2518547282966696689_3db7e1e7-2edc-4dd9-8c1d-d908f5b8a904]",
        "2019-01-15 17:15:10 - Suspiciously named process detected - (MSTICALERTSWIN1)  - [id:2518547282892925953_0073e6d8-6c2e-42e4-8966-d1f5a3dd3517]",
        "2019-01-15 17:15:10 - Digital currency mining related behavior detected - (MSTICALERTSWIN1)  - [id:2518547282892925953_35c8d588-ddf7-46b5-a0bf-f47023f9343c]",
        "2019-01-15 17:15:10 - Potential attempt to bypass AppLocker detected - (MSTICALERTSWIN1)  - [id:2518547282896095305_82730ffa-b9ce-43f4-bf3c-a97113107cc5]",
        "2019-01-15 17:15:11 - Suspicious Powershell Activity Detected - (MSTICALERTSWIN1)  - [id:2518547282883193041_31ae6eeb-bd1d-4018-8df9-eeedd60bf1ab]",
        "2019-01-15 17:15:11 - Suspicious Powershell Activity Detected - (MSTICALERTSWIN1)  - [id:2518547282880013417_d65aa787-e867-43b1-9182-025a1a38173a]",
        "2019-01-15 17:15:11 - Suspicious Powershell Activity Detected - (MSTICALERTSWIN1)  - [id:2518547282881581273_ed5bcf39-ffd3-468a-82e3-28e108d4f06f]",
        "2019-01-15 17:15:12 - Suspicious Powershell Activity Detected - (MSTICALERTSWIN1)  - [id:2518547282874783943_bd1a0865-a507-4e2b-b8df-613238a950df]",
        "2019-01-15 17:15:12 - Detected obfuscated command line. - (MSTICALERTSWIN1)  - [id:2518547282878855119_d89d1ab7-e5b7-426c-a98f-eab95deea3ad]",
        "2019-01-15 17:15:13 - Suspicious WindowPosition registry value detected - (MSTICALERTSWIN1)  - [id:2518547282865194453_9895a5cc-6f49-45f5-a0eb-f05c1f11f264]",
        "2019-01-15 17:15:13 - Executable found running from a suspicious location - (MSTICALERTSWIN1)  - [id:2518547282863799328_84ea8dcd-9436-4b4d-82b2-36114028bd61]",
        "2019-01-15 17:15:14 - Suspicious process executed - (MSTICALERTSWIN1)  - [id:2518547282859754476_0c3ae402-a9ea-4d5c-9c09-4274b7847c2c]",
        "2019-01-15 17:15:14 - Executable found running from a suspicious location - (MSTICALERTSWIN1)  - [id:2518547282858353938_58851b10-8f5c-48f1-aade-b1529f4e2c7f]",
        "2019-01-15 17:15:14 - Detected anomalous mix of upper and lower case characters in command-line - (MSTICALERTSWIN1)  - [id:2518547282850984831_7f983018-fd59-4e9e-ba70-295f6beb0e9c]",
        "2019-01-15 17:15:15 - Suspicious process executed - (MSTICALERTSWIN1)  - [id:2518547282845656644_c7318da8-368f-47f8-bff5-e15600a3fb80]",
        "2019-01-15 17:15:18 - Azure Security Center test alert (not a threat) - (MSTICALERTSWIN1)  - [id:2518547282812706885_12ae1e22-347e-454c-ae0d-ebb48cdf189b]",
        "2019-01-15 17:15:19 - Detected Petya ransomware indicators - (MSTICALERTSWIN1)  - [id:2518547282803821916_c76cdb6c-cea0-4b2b-9ab6-1442a5857ed8]",
        "2019-01-15 17:15:19 - Ransomware indicators detected - (MSTICALERTSWIN1)  - [id:2518547282802847718_4a524cc8-7613-4c42-93a9-8c1e466a4476]"
       ],
       "description": "Select alert :",
       "index": 0,
       "layout": "IPY_MODEL_b5c7fbeb35fd4431947e501f1468d2b4",
       "style": "IPY_MODEL_db6d7e8aa8dc46fe8e2468ed2a7e0636"
      }
     },
     "b2137cfdd20d49c0914bb7066d18e815": {
      "model_module": "@jupyter-widgets/controls",
      "model_module_version": "1.5.0",
      "model_name": "ButtonStyleModel",
      "state": {}
     },
     "b3535890d81541e680ca806e709d0fae": {
      "model_module": "@jupyter-widgets/controls",
      "model_module_version": "1.5.0",
      "model_name": "TextModel",
      "state": {
       "description": "Filter:",
       "layout": "IPY_MODEL_6c0bd15681324cfb82c95f0787b0637f",
       "style": "IPY_MODEL_f745127a813c47f9b71d67717268e73c"
      }
     },
     "b40e870a79c74b0f8ced87b506626c66": {
      "model_module": "@jupyter-widgets/controls",
      "model_module_version": "1.5.0",
      "model_name": "TextModel",
      "state": {
       "description": "Query start time (UTC):",
       "layout": "IPY_MODEL_a12ccec5b28f4ec4bf8cf8ef499a1388",
       "style": "IPY_MODEL_2c54927c144d44779c292f10313fc986",
       "value": "2020-05-28 16:42:15.218230"
      }
     },
     "b48c36d3105d414196b8b1bebfc962c3": {
      "model_module": "@jupyter-widgets/controls",
      "model_module_version": "1.5.0",
      "model_name": "SliderStyleModel",
      "state": {
       "description_width": "initial"
      }
     },
     "b4b9a074e8774652bae7e7ec65e6b2b8": {
      "model_module": "@jupyter-widgets/controls",
      "model_module_version": "1.5.0",
      "model_name": "ButtonStyleModel",
      "state": {}
     },
     "b5c7fbeb35fd4431947e501f1468d2b4": {
      "model_module": "@jupyter-widgets/base",
      "model_module_version": "1.2.0",
      "model_name": "LayoutModel",
      "state": {
       "height": "300px",
       "width": "95%"
      }
     },
     "b6f73152fcdf4a2f9679fa63a7765437": {
      "model_module": "@jupyter-widgets/controls",
      "model_module_version": "1.5.0",
      "model_name": "DescriptionStyleModel",
      "state": {
       "description_width": "initial"
      }
     },
     "b7b224a7cbc549bc8a51bd443ef631c7": {
      "model_module": "@jupyter-widgets/controls",
      "model_module_version": "1.5.0",
      "model_name": "IntRangeSliderModel",
      "state": {
       "_model_name": "IntRangeSliderModel",
       "_view_name": "IntRangeSliderView",
       "description": "Time Range (hour):",
       "layout": "IPY_MODEL_5e7e87c839364ba7be8c8b1d3e3ed213",
       "max": 2,
       "min": -20,
       "style": "IPY_MODEL_8cf30b3d3fe24deab877b93239897e43",
       "value": [
        -4,
        2
       ]
      }
     },
     "b7e99221d8704729ba4c3e70db0d14bf": {
      "model_module": "@jupyter-widgets/controls",
      "model_module_version": "1.5.0",
      "model_name": "HBoxModel",
      "state": {
       "children": [
        "IPY_MODEL_c1ff330899454c2b872862ac3b8a231a",
        "IPY_MODEL_616e16f91d3c4b34b92b58ddd6a71898"
       ],
       "layout": "IPY_MODEL_a86b27882d364e9488efe466d9ab2f09"
      }
     },
     "b828b9cc38b44aa88220780ee469b05c": {
      "model_module": "@jupyter-widgets/base",
      "model_module_version": "1.2.0",
      "model_name": "LayoutModel",
      "state": {
       "width": "80%"
      }
     },
     "b89eafc950da45bbb48be52f061fff55": {
      "model_module": "@jupyter-widgets/controls",
      "model_module_version": "1.5.0",
      "model_name": "ButtonStyleModel",
      "state": {}
     },
     "ba43f0fe790b4cf1acc463b1674c8874": {
      "model_module": "@jupyter-widgets/controls",
      "model_module_version": "1.5.0",
      "model_name": "VBoxModel",
      "state": {
       "children": [
        "IPY_MODEL_bf35ca100baf4c84a4aacd2357f72045",
        "IPY_MODEL_10315eb9da76444c8dc3c8390cf5690c",
        "IPY_MODEL_5fe7c89e34dc4d58bcea7b136d8f39e9"
       ],
       "layout": "IPY_MODEL_f22ab78821f140ad9897117b47db9f9d"
      }
     },
     "ba5749ac1b264efba7122027e67415d7": {
      "model_module": "@jupyter-widgets/controls",
      "model_module_version": "1.5.0",
      "model_name": "DescriptionStyleModel",
      "state": {
       "description_width": "initial"
      }
     },
     "bad48e390dd74a16a4ff9044f9e4044c": {
      "model_module": "@jupyter-widgets/controls",
      "model_module_version": "1.5.0",
      "model_name": "HBoxModel",
      "state": {
       "children": [
        "IPY_MODEL_8fa11a486d3c4d7f87eced821babc21a",
        "IPY_MODEL_73d866c5bd9748969a70ba2271c49545"
       ],
       "layout": "IPY_MODEL_5002307c501648879de39909ec4eeaee"
      }
     },
     "be9382f23292480db3cb3a98c8f4f297": {
      "model_module": "@jupyter-widgets/base",
      "model_module_version": "1.2.0",
      "model_name": "LayoutModel",
      "state": {}
     },
     "bf35ca100baf4c84a4aacd2357f72045": {
      "model_module": "@jupyter-widgets/controls",
      "model_module_version": "1.5.0",
      "model_name": "IntRangeSliderModel",
      "state": {
       "_model_name": "IntRangeSliderModel",
       "_view_name": "IntRangeSliderView",
       "description": "Time Range (hour):",
       "layout": "IPY_MODEL_01ef00d957984eb885e12115ae6c5db0",
       "max": 1,
       "min": -20,
       "style": "IPY_MODEL_75a66720bc1747bb86be8793e083c8bd",
       "value": [
        -1,
        1
       ]
      }
     },
     "c052b32e164f43b7bfa73104fe201e05": {
      "model_module": "@jupyter-widgets/controls",
      "model_module_version": "1.5.0",
      "model_name": "LabelModel",
      "state": {
       "layout": "IPY_MODEL_e5f37c7dc2c54a3a976febe6af972c93",
       "style": "IPY_MODEL_47be30256a7d4c2598c671b433cf7b9e",
       "value": "110%"
      }
     },
     "c1ff330899454c2b872862ac3b8a231a": {
      "model_module": "@jupyter-widgets/controls",
      "model_module_version": "1.5.0",
      "model_name": "IntProgressModel",
      "state": {
       "bar_style": "info",
       "description": "Progress:",
       "layout": "IPY_MODEL_da5d70edbdab488c9dee4ab3977bef18",
       "style": "IPY_MODEL_ffbe0ed216b546608b214d773876f1f4",
       "value": 100
      }
     },
     "c2b31e205bb3489aa32d128416f4c588": {
      "model_module": "@jupyter-widgets/controls",
      "model_module_version": "1.5.0",
      "model_name": "DescriptionStyleModel",
      "state": {
       "description_width": ""
      }
     },
     "c2d278e06d884b6088f3cdc4ad87f469": {
      "model_module": "@jupyter-widgets/controls",
      "model_module_version": "1.5.0",
      "model_name": "HBoxModel",
      "state": {
       "children": [
        "IPY_MODEL_d17005b4f8eb4371a9aa20b59a6fac59",
        "IPY_MODEL_c052b32e164f43b7bfa73104fe201e05"
       ],
       "layout": "IPY_MODEL_d5ab90498db34aa2997af5b3f770fd58"
      }
     },
     "c3873c3d5a7c4c988b2c8175025ff4a9": {
      "model_module": "@jupyter-widgets/base",
      "model_module_version": "1.2.0",
      "model_name": "LayoutModel",
      "state": {}
     },
     "c38792f00c624e6f80f1fe782f14ae8c": {
      "model_module": "@jupyter-widgets/controls",
      "model_module_version": "1.5.0",
      "model_name": "ButtonModel",
      "state": {
       "description": "⇽ Remove All",
       "layout": "IPY_MODEL_68eba84fbd9a4e24b4848f656ef4dd17",
       "style": "IPY_MODEL_b4b9a074e8774652bae7e7ec65e6b2b8"
      }
     },
     "c3dcdef50b0040ea8bef69deba22df62": {
      "model_module": "@jupyter-widgets/controls",
      "model_module_version": "1.5.0",
      "model_name": "HBoxModel",
      "state": {
       "children": [
        "IPY_MODEL_7de41748f8124cbca7a6f59fa2d4ab3f",
        "IPY_MODEL_410bd88c76ad4421b21f93e2e172b460",
        "IPY_MODEL_078e92c6ee6c43dd8475d4344020dd3a"
       ],
       "layout": "IPY_MODEL_c7f57fbb676a4dd9902fa6bfbc59bf09"
      }
     },
     "c75cb58429674d34a3db46d6886494ee": {
      "model_module": "@jupyter-widgets/controls",
      "model_module_version": "1.5.0",
      "model_name": "TextModel",
      "state": {
       "description": "Query start time (UTC):",
       "layout": "IPY_MODEL_819a36c6f8414f748157f2faef1b6a6f",
       "style": "IPY_MODEL_e185582f6e784c87974cae325bc72b5d",
       "value": "2020-05-28 16:42:15.218230"
      }
     },
     "c7f57fbb676a4dd9902fa6bfbc59bf09": {
      "model_module": "@jupyter-widgets/base",
      "model_module_version": "1.2.0",
      "model_name": "LayoutModel",
      "state": {}
     },
     "c81a547b662c4d10aca203f8870e2065": {
      "model_module": "@jupyter-widgets/base",
      "model_module_version": "1.2.0",
      "model_name": "LayoutModel",
      "state": {}
     },
     "c870075ad4d14af9977eb14eadef9cdf": {
      "model_module": "@jupyter-widgets/base",
      "model_module_version": "1.2.0",
      "model_name": "LayoutModel",
      "state": {}
     },
     "c8b8a3310133425a816eafebc059ba2a": {
      "model_module": "@jupyter-widgets/controls",
      "model_module_version": "1.5.0",
      "model_name": "DescriptionStyleModel",
      "state": {
       "description_width": ""
      }
     },
     "c99f4e816ebb44f29d7fe79b55093898": {
      "model_module": "@jupyter-widgets/base",
      "model_module_version": "1.2.0",
      "model_name": "LayoutModel",
      "state": {}
     },
     "c9e2ccfa0eca4299abc8d13bce7e5202": {
      "model_module": "@jupyter-widgets/base",
      "model_module_version": "1.2.0",
      "model_name": "LayoutModel",
      "state": {
       "height": "300px",
       "width": "95%"
      }
     },
     "ca3c84ce4f8640ebb2856ad9824f8b4c": {
      "model_module": "@jupyter-widgets/base",
      "model_module_version": "1.2.0",
      "model_name": "LayoutModel",
      "state": {}
     },
     "cae1e0264cfd494cb4ad092786f30ff4": {
      "model_module": "@jupyter-widgets/base",
      "model_module_version": "1.2.0",
      "model_name": "LayoutModel",
      "state": {
       "width": "50%"
      }
     },
     "cc66426de32441a9acb1dc089861d7da": {
      "model_module": "@jupyter-widgets/controls",
      "model_module_version": "1.5.0",
      "model_name": "HTMLModel",
      "state": {
       "layout": "IPY_MODEL_798cf66c158946c2a6d9eac67ad43830",
       "style": "IPY_MODEL_9cb788930ada425c9c6a03d4826c6664",
       "value": "<h4>Set query time boundaries</h4>"
      }
     },
     "cc8e138bed6c4bbfb6ccefa00d37c41f": {
      "model_module": "@jupyter-widgets/controls",
      "model_module_version": "1.5.0",
      "model_name": "DescriptionStyleModel",
      "state": {
       "description_width": "initial"
      }
     },
     "cee900205a0f4a63acba06c1fbd480ec": {
      "model_module": "@jupyter-widgets/controls",
      "model_module_version": "1.5.0",
      "model_name": "DescriptionStyleModel",
      "state": {
       "description_width": ""
      }
     },
     "cef071cb62f04d718b58796120231324": {
      "model_module": "@jupyter-widgets/controls",
      "model_module_version": "1.5.0",
      "model_name": "VBoxModel",
      "state": {
       "children": [
        "IPY_MODEL_1edff57f007046f3904d2ecb8824bd82",
        "IPY_MODEL_af65547d4c0e4836933232775f814eb8",
        "IPY_MODEL_7df3506aafa84d9faa8ea39c7bbaab6d",
        "IPY_MODEL_dfe125e954084b87a0497559f293fba5"
       ],
       "layout": "IPY_MODEL_7b90c1b4ffc04d3abb881a296870069d"
      }
     },
     "cfd91ccbf1e74add8276eeedba6b0376": {
      "model_module": "@jupyter-widgets/controls",
      "model_module_version": "1.5.0",
      "model_name": "DescriptionStyleModel",
      "state": {
       "description_width": ""
      }
     },
     "d17005b4f8eb4371a9aa20b59a6fac59": {
      "model_module": "@jupyter-widgets/controls",
      "model_module_version": "1.5.0",
      "model_name": "IntProgressModel",
      "state": {
       "bar_style": "info",
       "description": "Progress:",
       "layout": "IPY_MODEL_84f12e6880164cdb8e27f0c391f84655",
       "style": "IPY_MODEL_6f31a5ddbe7a425eb5eb6c6963aec633",
       "value": 100
      }
     },
     "d17c2998b6804794bdb065e3ff631b82": {
      "model_module": "@jupyter-widgets/base",
      "model_module_version": "1.2.0",
      "model_name": "LayoutModel",
      "state": {
       "width": "50%"
      }
     },
     "d2b8cd33aac6445d828d56c4e1070de9": {
      "model_module": "@jupyter-widgets/controls",
      "model_module_version": "1.5.0",
      "model_name": "HBoxModel",
      "state": {
       "children": [
        "IPY_MODEL_a54c7c8f7d4442c6945c1dc375506aa8",
        "IPY_MODEL_f39e50f8282a4bc4b301d297e4c5f8b8"
       ],
       "layout": "IPY_MODEL_08329aed75a84aa19bcd446d23b214b5"
      }
     },
     "d2d52c759eda4e8cb2a1f344b64ac3a6": {
      "model_module": "@jupyter-widgets/controls",
      "model_module_version": "1.5.0",
      "model_name": "SelectModel",
      "state": {
       "_options_labels": [
        "host",
        "account",
        "file",
        "process",
        "host-logon-session"
       ],
       "description": "Select an item",
       "index": 0,
       "layout": "IPY_MODEL_eaaff937e6614a4dbc893b6021cb1466",
       "style": "IPY_MODEL_55b6d8fa7bb748aa81b62834a78f7175"
      }
     },
     "d3373a8420fe4aeeb74738a8674f1de5": {
      "model_module": "@jupyter-widgets/controls",
      "model_module_version": "1.5.0",
      "model_name": "TextModel",
      "state": {
       "description": "Enter the value: ",
       "layout": "IPY_MODEL_da8dd7fb3ba847948194eacaca69da38",
       "style": "IPY_MODEL_f8eaae4cb42a4d4f95a0730a5757836e",
       "value": "C:\\Users\\Ian"
      }
     },
     "d458c541cabd4e78b481b949b5371dac": {
      "model_module": "@jupyter-widgets/controls",
      "model_module_version": "1.5.0",
      "model_name": "HBoxModel",
      "state": {
       "children": [
        "IPY_MODEL_997803ca203f4a33ba2e6e923f05b249",
        "IPY_MODEL_d596f5e5bbc64fe1af08409acb4a931e"
       ],
       "layout": "IPY_MODEL_26f0c1e4462b4d2389c6fa9f0902a446"
      }
     },
     "d596f5e5bbc64fe1af08409acb4a931e": {
      "model_module": "@jupyter-widgets/controls",
      "model_module_version": "1.5.0",
      "model_name": "TextModel",
      "state": {
       "description": "Time (24hr)",
       "layout": "IPY_MODEL_9b818a11c58141039814c5df41f81bfe",
       "style": "IPY_MODEL_f1b7f671f6ae49af9a5d11ec941cb569",
       "value": "20:42:15.218230"
      }
     },
     "d5ab90498db34aa2997af5b3f770fd58": {
      "model_module": "@jupyter-widgets/base",
      "model_module_version": "1.2.0",
      "model_name": "LayoutModel",
      "state": {}
     },
     "d5afd5830cf1461aa3e20435ce696905": {
      "model_module": "@jupyter-widgets/controls",
      "model_module_version": "1.5.0",
      "model_name": "DescriptionStyleModel",
      "state": {
       "description_width": ""
      }
     },
     "d5e0e6a54a4b4fe9938a2f4e489f6867": {
      "model_module": "@jupyter-widgets/controls",
      "model_module_version": "1.5.0",
      "model_name": "VBoxModel",
      "state": {
       "children": [
        "IPY_MODEL_15d40a9cbb754a10b44ad0c0b0dc5131",
        "IPY_MODEL_15c7508073414cd787ef112bce85de48",
        "IPY_MODEL_5b765c8ecddf4431ae9958036075361e"
       ],
       "layout": "IPY_MODEL_0e7d1ab947bb401eb85870ead62bc5bc"
      }
     },
     "d5fba5e7fbba4327b1a490b730755ec8": {
      "model_module": "@jupyter-widgets/controls",
      "model_module_version": "1.5.0",
      "model_name": "SelectModel",
      "state": {
       "_options_labels": [
        "MSTICAlertsWin1/MSTICAdmin   (2019-01-15 05:15:02.980)",
        "NT AUTHORITY/SYSTEM   (2019-01-15 05:15:04.503)",
        "MSTICAlertsWin1/adm1nistrator   (2019-01-15 05:15:06.363)",
        "NT AUTHORITY/SYSTEM   (2019-01-15 05:15:10.813)",
        "NT AUTHORITY/SYSTEM   (2019-01-15 05:15:14.453)",
        "MSTICAlertsWin1/MSTICAdmin   (2019-01-15 04:28:33.090)",
        "NT AUTHORITY/SYSTEM   (2019-01-15 03:21:49.617)",
        "NT AUTHORITY/SYSTEM   (2019-01-15 03:21:51.957)",
        "NT AUTHORITY/SYSTEM   (2019-01-15 02:45:49.393)",
        "NT AUTHORITY/SYSTEM   (2019-01-15 02:45:51.727)",
        "NT AUTHORITY/SYSTEM   (2019-01-15 01:42:28.340)",
        "NT AUTHORITY/SYSTEM   (2019-01-15 01:45:23.610)",
        "NT AUTHORITY/SYSTEM   (2019-01-15 03:09:49.353)",
        "NT AUTHORITY/SYSTEM   (2019-01-15 03:09:51.707)"
       ],
       "description": "Select an item",
       "index": 0,
       "layout": "IPY_MODEL_88c0fabd96524cce9e6917354db9dcf2",
       "style": "IPY_MODEL_a0b46001f4e446a48be84c5d1e9d0980"
      }
     },
     "d63dadf2939447908fbf28ddc5a64ca3": {
      "model_module": "@jupyter-widgets/base",
      "model_module_version": "1.2.0",
      "model_name": "LayoutModel",
      "state": {}
     },
     "d83e1bd74bc04fd3a3ccdbb300bb7092": {
      "model_module": "@jupyter-widgets/base",
      "model_module_version": "1.2.0",
      "model_name": "LayoutModel",
      "state": {}
     },
     "d942825be126471283fe693d15a6a94f": {
      "model_module": "@jupyter-widgets/base",
      "model_module_version": "1.2.0",
      "model_name": "LayoutModel",
      "state": {
       "width": "50%"
      }
     },
     "da5d70edbdab488c9dee4ab3977bef18": {
      "model_module": "@jupyter-widgets/base",
      "model_module_version": "1.2.0",
      "model_name": "LayoutModel",
      "state": {}
     },
     "da8dd7fb3ba847948194eacaca69da38": {
      "model_module": "@jupyter-widgets/base",
      "model_module_version": "1.2.0",
      "model_name": "LayoutModel",
      "state": {
       "width": "50%"
      }
     },
     "db6d7e8aa8dc46fe8e2468ed2a7e0636": {
      "model_module": "@jupyter-widgets/controls",
      "model_module_version": "1.5.0",
      "model_name": "DescriptionStyleModel",
      "state": {
       "description_width": "initial"
      }
     },
     "dd0df715bdc24c91911dd7c3b39c3d62": {
      "model_module": "@jupyter-widgets/controls",
      "model_module_version": "1.5.0",
      "model_name": "SliderStyleModel",
      "state": {
       "description_width": "initial"
      }
     },
     "dfe125e954084b87a0497559f293fba5": {
      "model_module": "@jupyter-widgets/controls",
      "model_module_version": "1.5.0",
      "model_name": "ButtonModel",
      "state": {
       "description": "⇽ Remove All",
       "layout": "IPY_MODEL_d83e1bd74bc04fd3a3ccdbb300bb7092",
       "style": "IPY_MODEL_b89eafc950da45bbb48be52f061fff55"
      }
     },
     "e0029c03c0b242ab8f2556cd46d2a8af": {
      "model_module": "@jupyter-widgets/controls",
      "model_module_version": "1.5.0",
      "model_name": "TextModel",
      "state": {
       "description": "Query end time (UTC) :  ",
       "layout": "IPY_MODEL_e3810936df2a4a95833d60572d4caa4d",
       "style": "IPY_MODEL_5e865fcf13d24f2daf1ed9dc55288879",
       "value": "2020-05-28 22:42:15.218230"
      }
     },
     "e185582f6e784c87974cae325bc72b5d": {
      "model_module": "@jupyter-widgets/controls",
      "model_module_version": "1.5.0",
      "model_name": "DescriptionStyleModel",
      "state": {
       "description_width": "initial"
      }
     },
     "e25471faab184429800f402de8648c11": {
      "model_module": "@jupyter-widgets/controls",
      "model_module_version": "1.5.0",
      "model_name": "HTMLModel",
      "state": {
       "layout": "IPY_MODEL_a25a1009b8944bb8866d2ae00e1edd7a",
       "style": "IPY_MODEL_ebe6aec060bb42c880c8a87808972641",
       "value": "<h4>Set query time boundaries</h4>"
      }
     },
     "e3810936df2a4a95833d60572d4caa4d": {
      "model_module": "@jupyter-widgets/base",
      "model_module_version": "1.2.0",
      "model_name": "LayoutModel",
      "state": {
       "width": "50%"
      }
     },
     "e5f37c7dc2c54a3a976febe6af972c93": {
      "model_module": "@jupyter-widgets/base",
      "model_module_version": "1.2.0",
      "model_name": "LayoutModel",
      "state": {}
     },
     "e6565fb18d8d46289f35fe4ba5c3420e": {
      "model_module": "@jupyter-widgets/controls",
      "model_module_version": "1.5.0",
      "model_name": "IntRangeSliderModel",
      "state": {
       "_model_name": "IntRangeSliderModel",
       "_view_name": "IntRangeSliderView",
       "description": "Time Range (hour):",
       "layout": "IPY_MODEL_89a5b80370564ce5899323f90c22ce14",
       "max": 2,
       "min": -20,
       "style": "IPY_MODEL_b48c36d3105d414196b8b1bebfc962c3",
       "value": [
        -4,
        2
       ]
      }
     },
     "e6cd0ce71d6e459da5ea0ade3259716e": {
      "model_module": "@jupyter-widgets/controls",
      "model_module_version": "1.5.0",
      "model_name": "SelectModel",
      "state": {
       "_options_labels": [
        "2018-12-30 00:02:00 - Network communication with a malicious machine detected - (nan)  - [id:a511e1bb-69e1-41a2-8054-c6fcb6aa2362]",
        "2019-01-01 00:02:00 - Possible compromised machine detected - (nan)  - [id:62ded865-938b-4bb3-afef-605d692607f1]",
        "2019-01-01 00:02:00 - An event log was cleared - (nan)  - [id:48facfa1-fe35-45ff-8c91-7a710cd462b9]",
        "2019-01-03 00:02:00 - Suspicious process executed - (nan)  - [id:a32adc3f-43f7-4e5d-b833-98baa71c2f51]",
        "2019-01-03 00:02:00 - Suspicious double extension file executed - (nan)  - [id:112dc225-bc2d-4328-97fd-a99e0b000b1f]",
        "2019-01-05 01:02:00 - SQL injection blocked - (nan)  - [id:0c68e539-f060-401f-b967-6b64b8f49198]",
        "2019-01-05 02:02:00 - Failed RDP Brute Force Attack - (nan)  - [id:8832e816-d634-4214-bb48-7a6678fdf0b7]",
        "2019-01-06 02:02:00 - Successful RDP brute force attack - (nan)  - [id:3b2b5ecc-ec29-4703-9450-29b29b937fd8]",
        "2019-01-06 03:02:00 - Suspicious SVCHOST process executed - (nan)  - [id:614ae18e-cd79-4d4c-97dc-24431be12b5b]",
        "2019-01-06 04:02:00 - Multiple Domain Accounts Queried - (vm1)  - [id:7b27ffab-7204-4856-a013-908de6c1804e]",
        "2019-01-06 05:02:00 - Network communication with a malicious machine detected - (nan)  - [id:98a6dea6-1b64-41d0-938e-0dec24b234ec]",
        "2019-01-07 05:02:00 - Modified system binary discovered in dump file 5bd767e4-2d08-4714-b744-aaed04b57107__391365252.hdmp - (nan)  - [id:775505ce-0ef9-4945-b697-303f7666d1b6]",
        "2019-01-08 05:02:00 - Possible outgoing spam activity detected - (vm1lin)  - [id:28f9b83a-33e6-44da-a002-0f48bff46a67]",
        "2019-01-09 05:02:00 - Deep Security Agent detected a malware - (nan)  - [id:5fc4f6a0-0687-4b93-998e-a230af39c10b]",
        "2019-01-09 05:38:06 - Global domain trust creation - Demo - (nan)  - [id:9740fe80-b642-4a38-8e86-05fa4d35508b]",
        "2019-01-09 06:25:57 - Maliciuos IP communication - (nan)  - [id:04e14d6f-6d4f-46d4-a5f6-2a26bcd34ce8]",
        "2019-01-09 06:31:40 - DC local group addition - Demo - (nan)  - [id:ace7fb98-ef96-46df-ba7b-9a15a141d368]",
        "2019-01-09 06:31:42 - Palo Alto admin logged on via SSH - Demo - (nan)  - [id:40a5916b-9697-423a-a5e4-95cca7c735e7]",
        "2019-01-09 06:33:55 - DC with MS AM engine failure - Demo - (nan)  - [id:78cc7e02-6116-459d-9cdc-a6dcc40ba937]",
        "2019-01-10 05:02:00 - Potential SQL Injection - (nan)  - [id:5365ee7a-f730-42d2-bcdf-b2e898ab98d7]",
        "2019-01-10 05:38:06 - Global domain trust creation - Demo - (nan)  - [id:401f2680-cc05-4e6f-a1f6-69cff2055cd9]",
        "2019-01-10 06:25:57 - Maliciuos IP communication - (nan)  - [id:b5786d68-7f5e-4be1-92e6-e255010d1d8c]",
        "2019-01-10 06:31:40 - DC local group addition - Demo - (nan)  - [id:01659bf1-1228-4e46-b73b-e7d173d365eb]",
        "2019-01-10 06:31:42 - Palo Alto admin logged on via SSH - Demo - (nan)  - [id:0ce6ad61-302a-4142-8eaa-4da9dfad9ca9]",
        "2019-01-10 06:33:55 - DC with MS AM engine failure - Demo - (nan)  - [id:df9f92cb-6fd2-469b-9b72-28f128df1adf]",
        "2019-01-10 19:18:10 - Suspicious Account Added - (nan)  - [id:b3f02c05-e844-4161-81d6-d736548d91ae]",
        "2019-01-11 05:38:06 - Global domain trust creation - Demo - (nan)  - [id:6b56aa8c-da76-4caf-b09d-8706292a8b89]",
        "2019-01-11 06:25:57 - Maliciuos IP communication - (nan)  - [id:4586bd9e-5c1e-4229-9a01-ecd84ad51448]",
        "2019-01-11 06:31:40 - DC local group addition - Demo - (nan)  - [id:047f47d6-79b7-4502-824b-97abc4905a73]",
        "2019-01-11 06:31:42 - Palo Alto admin logged on via SSH - Demo - (nan)  - [id:2d06cb42-bdff-426d-8091-ccc151bcbc94]",
        "2019-01-11 06:33:55 - DC with MS AM engine failure - Demo - (nan)  - [id:412ca580-63c8-4fd2-87e4-87b1ba4260b3]",
        "2019-01-11 19:18:10 - Suspicious Account Added - (nan)  - [id:42a8b425-1c41-4355-8343-18ad563c43b6]",
        "2019-01-12 05:38:06 - Global domain trust creation - Demo - (nan)  - [id:bc44b302-78c7-4be8-bf70-d39d6935fd74]",
        "2019-01-12 06:25:57 - Maliciuos IP communication - (nan)  - [id:c76f17e2-e739-4e7e-bf17-4dd163fc831f]",
        "2019-01-12 06:31:40 - DC local group addition - Demo - (nan)  - [id:07be11df-3dbf-49a5-8b5a-dcea75d89993]",
        "2019-01-12 06:31:42 - Palo Alto admin logged on via SSH - Demo - (nan)  - [id:09ec519f-96b0-4332-be30-b0379c8cbd04]",
        "2019-01-12 06:33:55 - DC with MS AM engine failure - Demo - (nan)  - [id:6a7aaa2e-a575-4e8b-87ed-0d964bf1005e]",
        "2019-01-12 19:18:10 - Suspicious Account Added - (nan)  - [id:d4638075-fed2-4031-8e52-d37c220b0fe4]",
        "2019-01-13 05:38:06 - Global domain trust creation - Demo - (nan)  - [id:5d733fc8-ff32-436d-a595-beaf8943bd63]",
        "2019-01-13 06:25:57 - Maliciuos IP communication - (nan)  - [id:54a8f6d8-f69b-4872-96f8-ef274d5fc8d4]",
        "2019-01-13 06:31:40 - DC local group addition - Demo - (nan)  - [id:47445dca-b87d-45f5-9073-b713e3c69a56]",
        "2019-01-13 06:31:42 - Palo Alto admin logged on via SSH - Demo - (nan)  - [id:45176796-d3f9-40ce-a8f2-aba9bb3c8063]",
        "2019-01-13 06:33:55 - DC with MS AM engine failure - Demo - (nan)  - [id:985be534-6f40-4b0c-a951-8f3915eacd61]",
        "2019-01-13 19:18:10 - Suspicious Account Added - (nan)  - [id:790217fc-9597-4159-b469-bb383c747435]",
        "2019-01-14 05:38:06 - Global domain trust creation - Demo - (nan)  - [id:fbaf48de-152a-4aa6-8a69-902b219bf972]",
        "2019-01-14 06:25:57 - Maliciuos IP communication - (nan)  - [id:1828afac-b4c2-41d9-acbd-7d23b7219557]",
        "2019-01-14 06:31:40 - DC local group addition - Demo - (nan)  - [id:b34d24c9-2223-4887-af93-7598abf28763]",
        "2019-01-14 06:31:42 - Palo Alto admin logged on via SSH - Demo - (nan)  - [id:9442245d-eaf6-47c5-b715-1c16b2c54fc4]",
        "2019-01-14 06:33:55 - DC with MS AM engine failure - Demo - (nan)  - [id:edc4065d-886f-4aff-b17d-f1397ce4baec]",
        "2019-01-14 21:18:10 - Suspicious Account Added - (nan)  - [id:1cca38a9-e0c5-4165-a78d-491ca2641c1c]",
        "2019-01-15 05:15:03 - Suspicious Account Creation Detected - (MSTICALERTSWIN1)  - [id:2518547714966107270_3c380601-b5ad-4fff-9cdb-24528a3a19fd]",
        "2019-01-15 05:15:03 - Anomalous account creation detected - (nan)  - [id:2518547714966107270_90beedae-1285-43d6-8f33-16bc542af39b]",
        "2019-01-15 05:15:10 - Potential attempt to bypass AppLocker detected - (MSTICALERTSWIN1)  - [id:2518547714892475358_9e449abd-e67b-4ec8-a191-e688d7d63e26]",
        "2019-01-15 05:15:11 - Detected decoding of an executable using built-in certutil.exe tool - (MSTICALERTSWIN1)  - [id:2518547714882331861_5c56421d-d894-4437-9b9a-a3b5c6b7e1df]",
        "2019-01-15 05:15:11 - Detected suspicious credentials in commandline - (MSTICALERTSWIN1)  - [id:2518547714880519889_9d6d471a-c94f-4706-b0ff-b2f0301495aa]",
        "2019-01-15 05:15:11 - Digital currency mining related behavior detected - (MSTICALERTSWIN1)  - [id:2518547714887413669_4fa0022e-f431-4ba1-ae5f-ee23247e0853]",
        "2019-01-15 05:15:11 - Suspiciously named process detected - (MSTICALERTSWIN1)  - [id:2518547714887413669_1c680842-2a1d-40c0-a6e4-32e5dd144647]",
        "2019-01-15 05:15:11 - Detected encoded executable in command line data - (MSTICALERTSWIN1)  - [id:2518547714885867955_290559aa-a3d0-425b-8ed2-e98ccc9f0aa0]",
        "2019-01-15 05:15:12 - Detected suspicious commandline arguments - (MSTICALERTSWIN1)  - [id:2518547714879317674_226cc394-fccf-483d-888a-beafad2ed4a4]",
        "2019-01-15 05:15:12 - Detected suspicious document credentials - (MSTICALERTSWIN1)  - [id:2518547714879970078_b080127b-d5c1-425e-a7ca-e4bbd873009d]",
        "2019-01-15 05:15:12 - Detected obfuscated command line. - (MSTICALERTSWIN1)  - [id:2518547714871530079_77211491-86de-4295-82bc-38e332fe1112]",
        "2019-01-15 05:15:12 - Suspicious powershell cmdlets executed - (MSTICALERTSWIN1)  - [id:2518547714874872692_3eb0eb4b-0536-430c-8ab6-cd48524c14b1]",
        "2019-01-15 05:15:12 - Suspicious Powershell Activity Detected - (MSTICALERTSWIN1)  - [id:2518547714874872692_30d988ff-b8d9-45df-8217-e56b0d4d591c]",
        "2019-01-15 05:15:12 - Suspicious Powershell Activity Detected - (MSTICALERTSWIN1)  - [id:2518547714873290756_df1b9eb2-05c4-4f7c-8540-cbb18ec5c608]",
        "2019-01-15 05:15:12 - Suspicious Powershell Activity Detected - (MSTICALERTSWIN1)  - [id:2518547714876077067_953def48-a24b-42a9-bd02-7221be90f84a]",
        "2019-01-15 05:15:13 - Suspicious Powershell Activity Detected - (MSTICALERTSWIN1)  - [id:2518547714867787710_76336679-bddf-460f-90fb-35a1386de7a6]",
        "2019-01-15 05:15:14 - Executable found running from a suspicious location - (MSTICALERTSWIN1)  - [id:2518547714857061520_f4324711-aeae-4912-a634-331b7e7456b6]",
        "2019-01-15 05:15:14 - Suspicious system process executed - (nan)  - [id:2518547714857061520_28f9a2e6-1925-455e-ad97-7af7f92f521d]",
        "2019-01-15 05:15:14 - Suspicious WindowPosition registry value detected - (MSTICALERTSWIN1)  - [id:2518547714858429362_9bfd0e4b-ec93-46bb-8eea-f72e8f1262f1]",
        "2019-01-15 05:15:14 - Suspicious process executed - (MSTICALERTSWIN1)  - [id:2518547714854375707_e2a60bd1-d7c8-466d-a176-4333d4e0d1d5]",
        "2019-01-15 05:15:14 - Detected suspicious named pipe communications - (MSTICALERTSWIN1)  - [id:2518547714859677078_9b4e4942-d564-4755-862c-7171d52921e3]",
        "2019-01-15 05:15:14 - Executable found running from a suspicious location - (MSTICALERTSWIN1)  - [id:2518547714853062206_f9ddd8b3-5fa8-4f2f-b811-bdca90091195]",
        "2019-01-15 05:15:15 - Detected change to a registry key that can be abused to bypass UAC - (MSTICALERTSWIN1)  - [id:2518547714844291280_8f71e695-ba9b-4c97-9770-63cdeb34b7b4]",
        "2019-01-15 05:15:15 - Detected anomalous mix of upper and lower case characters in command-line - (MSTICALERTSWIN1)  - [id:2518547714844457503_55cd3e12-3a91-4b06-9be6-833df3365142]",
        "2019-01-15 05:15:15 - Detected suspicious use of FTP -s Switch - (MSTICALERTSWIN1)  - [id:2518547714843218505_265472ff-3820-4dad-8da7-00e39e1a99fd]",
        "2019-01-15 05:15:15 - Sticky keys attack detected - (MSTICALERTSWIN1)  - [id:2518547714843796759_b3737297-038c-4514-a957-d591384b4256]",
        "2019-01-15 05:15:15 - Suspicious process executed - (MSTICALERTSWIN1)  - [id:2518547714842732992_ad5981a5-fdcc-406a-8742-e50bd7f84917]",
        "2019-01-15 05:15:16 - Detected suspicious new firewall rule - (MSTICALERTSWIN1)  - [id:2518547714839319574_33edaa83-fe35-47de-9486-fc9792c5b65b]",
        "2019-01-15 05:15:16 - Detected suspicious execution via rundll32.exe - (MSTICALERTSWIN1)  - [id:2518547714834806864_4bb2ecc3-f4aa-40cd-a3d7-802fc9086e89]",
        "2019-01-15 05:15:16 - Detected suspicious execution via rundll32.exe - (MSTICALERTSWIN1)  - [id:2518547714835690929_8e73946b-ebea-4625-aa60-d97b82dcfb07]",
        "2019-01-15 05:15:16 - Detected possible local reconnaissance activity - (MSTICALERTSWIN1)  - [id:2518547714837217151_f0d023fb-376f-46ab-9976-a5825d826bea]",
        "2019-01-15 05:15:16 - Detected suspicious Set-ExecutionPolicy and WinRM changes - (MSTICALERTSWIN1)  - [id:2518547714832788202_b56b9e61-fefb-47a3-a34f-7c1b44f8268a]",
        "2019-01-15 05:15:16 - Detected suspicious commandline used to start all executables in a directory - (MSTICALERTSWIN1)  - [id:2518547714833232927_0e8db234-9727-41f3-a6e0-0773519603d2]",
        "2019-01-15 05:15:16 - Detected potentially suspicious use of Telegram tool - (MSTICALERTSWIN1)  - [id:2518547714833859291_4fa26308-1daf-49ee-8880-b194f950d8b0]",
        "2019-01-15 05:15:16 - Suspected Kerberos Golden Ticket attack parameters observed - (MSTICALERTSWIN1)  - [id:2518547714838326136_e776fca2-4c01-43eb-ab97-b9845af3529c]",
        "2019-01-15 05:15:16 - Detected actions indicative of disabling and deleting IIS log files. - (MSTICALERTSWIN1)  - [id:2518547714831067013_8df27789-fb10-4035-ac48-cd0883b2e6b0]",
        "2019-01-15 05:15:17 - Azure Security Center test alert (not a threat) - (MSTICALERTSWIN1)  - [id:2518547714824290520_b2d9be9f-58e2-4174-8658-419670393253]",
        "2019-01-15 05:15:17 - Suspicious SVCHOST process executed - (nan)  - [id:2518547714825902697_fcbb6bb7-4c7c-488e-903c-f625e98db7c4]",
        "2019-01-15 05:15:17 - Random process name detected - (MSTICALERTSWIN1)  - [id:2518547714829244584_9984a237-2dd7-4932-bb8d-23ca535a6254]",
        "2019-01-15 05:15:17 - Rare SVCHOST service group executed - (nan)  - [id:2518547714825070946_58694b54-2bee-4160-9595-30903b466f6e]",
        "2019-01-15 05:15:17 - Suspicious double extension file executed - (nan)  - [id:2518547714828736209_2b2ff728-1a2a-46e8-a49a-6991e074a740]",
        "2019-01-15 05:15:17 - Suspicious Volume Shadow Copy Activity - (nan)  - [id:2518547714828638992_6c6836bb-23cd-4b31-b78e-08360c5a4f83]",
        "2019-01-15 05:15:18 - Detected suspicious execution of VBScript.Encode command - (MSTICALERTSWIN1)  - [id:2518547714811804858_5b42a152-64c2-4f16-8cc3-887b8b0161fc]",
        "2019-01-15 05:15:18 - Detected suspicious file cleanup commands - (MSTICALERTSWIN1)  - [id:2518547714814450855_c0822e2b-785b-41a8-8136-21b7430a0078]",
        "2019-01-15 05:15:18 - Detected Petya ransomware indicators - (MSTICALERTSWIN1)  - [id:2518547714812938298_fa4939d4-a20c-440a-839c-89c0c43e1ccc]",
        "2019-01-15 05:15:18 - Detected suspicious file creation - (MSTICALERTSWIN1)  - [id:2518547714816637303_3252483f-2fdb-411a-93f5-e268d5e56abf]",
        "2019-01-15 05:15:18 - Detected suspicious use of Pcalua.exe to launch executable code - (MSTICALERTSWIN1)  - [id:2518547714811337754_ad1fd62a-9565-41e4-b94a-6264942033f6]",
        "2019-01-15 05:15:18 - Detected possible execution of keygen executable - (MSTICALERTSWIN1)  - [id:2518547714814533914_38d53571-e98a-4bb6-a17f-0361a561019e]",
        "2019-01-15 05:15:18 - Detected suspicious use of Cacls to lower the security state of the system. - (MSTICALERTSWIN1)  - [id:2518547714815952205_1ba5718e-529b-441b-8036-ad06ee862e76]",
        "2019-01-15 05:15:18 - Detected the disabling of critical services - (MSTICALERTSWIN1)  - [id:2518547714813299511_a5df127a-f7e8-44ff-b404-6d5b37d06488]",
        "2019-01-15 05:15:18 - Ransomware indicators detected - (MSTICALERTSWIN1)  - [id:2518547714812286467_d5e026fa-6687-495e-878d-c4c93477cc78]",
        "2019-01-15 05:15:18 - Detected possible execution of malware dropper - (MSTICALERTSWIN1)  - [id:2518547714815009424_9a34d332-2fb6-4f3f-beb0-d9817dc9b7cd]",
        "2019-01-15 05:15:18 - High risk software detected - (MSTICALERTSWIN1)  - [id:2518547714813699414_d12ed618-567b-4b8f-8241-82ad4c1cb28e]",
        "2019-01-15 05:15:19 - Possible credential dumping detected - (MSTICALERTSWIN1)  - [id:2518547714809416002_76bf04a5-71fa-487a-9742-d54941a7a194]",
        "2019-01-15 05:15:19 - Suspicious download using Certutil detected - (MSTICALERTSWIN1)  - [id:2518547714805546049_03e7bf17-8f77-42ca-8ac1-af8258f4d1ca]",
        "2019-01-15 09:15:03 - Suspicious Account Creation Detected - (MSTICALERTSWIN1)  - [id:2518547570966661760_526e34b6-6578-4fc0-9db6-e126b4d673f0]",
        "2019-01-15 09:15:07 - Potential attempt to bypass AppLocker detected - (MSTICALERTSWIN1)  - [id:2518547570924760670_9868ed7d-397e-4aa4-8dbd-5a1c5f736c1e]",
        "2019-01-15 09:15:10 - Suspiciously named process detected - (MSTICALERTSWIN1)  - [id:2518547570895430544_4ea6c432-6d20-4986-9679-ecf58ac4854d]",
        "2019-01-15 09:15:10 - Digital currency mining related behavior detected - (MSTICALERTSWIN1)  - [id:2518547570895430544_72351be4-ae78-4cc6-9f6a-1ff87c31baeb]",
        "2019-01-15 09:15:11 - Detected obfuscated command line. - (MSTICALERTSWIN1)  - [id:2518547570880067443_c1a9004f-7f64-4144-8ce0-8f76f9041703]",
        "2019-01-15 09:15:11 - Suspicious Powershell Activity Detected - (MSTICALERTSWIN1)  - [id:2518547570883109415_c762b0f7-a0f5-4dda-ab48-54b5ae6eade4]",
        "2019-01-15 09:15:11 - Suspicious Powershell Activity Detected - (MSTICALERTSWIN1)  - [id:2518547570884378777_92a2f884-5827-4fb6-acf8-b0087b76aa73]",
        "2019-01-15 09:15:11 - Suspicious Powershell Activity Detected - (MSTICALERTSWIN1)  - [id:2518547570881721037_4ca5c629-673c-4372-9bd3-ab7bf6d6e6f0]",
        "2019-01-15 09:15:12 - Suspicious Powershell Activity Detected - (MSTICALERTSWIN1)  - [id:2518547570876432155_ce7c7361-8ac9-47be-b8fb-7a87c87ee178]",
        "2019-01-15 09:15:13 - Suspicious system process executed - (nan)  - [id:2518547570865502616_9d5e263f-55d2-441f-acf4-bf569b4cd976]",
        "2019-01-15 09:15:13 - Executable found running from a suspicious location - (MSTICALERTSWIN1)  - [id:2518547570865502616_c6f3dea2-fe36-4e65-b161-1b1cd1104eb3]",
        "2019-01-15 09:15:13 - Suspicious WindowPosition registry value detected - (MSTICALERTSWIN1)  - [id:2518547570866947129_1b074412-133c-4ac9-8e3f-24103159b03e]",
        "2019-01-15 09:15:13 - Executable found running from a suspicious location - (MSTICALERTSWIN1)  - [id:2518547570860979996_bddac8c5-cba5-4da2-a6dd-c0a39fc2b256]",
        "2019-01-15 09:15:13 - Suspicious process executed - (MSTICALERTSWIN1)  - [id:2518547570862568702_029c9c95-c1fe-4419-bc3b-a6d832c87e65]",
        "2019-01-15 09:15:14 - Suspicious process executed - (MSTICALERTSWIN1)  - [id:2518547570851316041_43f7d8f3-fea5-4fca-a884-713c2d65203c]",
        "2019-01-15 09:15:14 - Detected anomalous mix of upper and lower case characters in command-line - (MSTICALERTSWIN1)  - [id:2518547570852901341_3ca6ca5a-8bf2-417f-b8c9-3cea37c84f4b]",
        "2019-01-15 09:15:16 - Suspicious double extension file executed - (nan)  - [id:2518547570836535349_c45bcb62-9d89-44e8-bea9-7a9e35205576]",
        "2019-01-15 09:15:16 - Rare SVCHOST service group executed - (nan)  - [id:2518547570834399134_26ccc2ad-8ce0-4f60-8215-18f99377b547]",
        "2019-01-15 09:15:16 - Suspicious Volume Shadow Copy Activity - (nan)  - [id:2518547570836431794_b9d79b27-d725-4a87-b7ec-6fc9ec591e8c]",
        "2019-01-15 09:15:16 - Azure Security Center test alert (not a threat) - (MSTICALERTSWIN1)  - [id:2518547570833725387_2df8ae94-03fe-4b9f-a3a9-f3c6dab95c05]",
        "2019-01-15 09:15:16 - Suspicious SVCHOST process executed - (nan)  - [id:2518547570835168086_117b7a02-d1d0-4cf2-bc04-0b19a796b4d3]",
        "2019-01-15 09:15:17 - Ransomware indicators detected - (MSTICALERTSWIN1)  - [id:2518547570821365949_48327b74-c904-402d-a1d8-2b3a882924e7]",
        "2019-01-15 09:15:17 - Detected Petya ransomware indicators - (MSTICALERTSWIN1)  - [id:2518547570821871899_e647375c-9979-47b5-9f78-f414a1aad26d]",
        "2019-01-15 11:45:00 - Suspicious Account Creation Detected - (MSTICALERTSWIN1)  - [id:2518547480991748435_836318d1-0fa0-4cfe-a3d0-2b1fdbaf2216]",
        "2019-01-15 11:45:01 - Suspiciously named process detected - (MSTICALERTSWIN1)  - [id:2518547480988516756_54bb943e-7fe9-4146-a43e-4064c8e0049f]",
        "2019-01-15 11:45:01 - Digital currency mining related behavior detected - (MSTICALERTSWIN1)  - [id:2518547480988516756_668ed54c-9e73-4d4f-a9c2-b88fd1b13db0]",
        "2019-01-15 11:45:01 - Potential attempt to bypass AppLocker detected - (MSTICALERTSWIN1)  - [id:2518547480989617678_f3490cf7-a303-4001-b7d6-8acf7e83f191]",
        "2019-01-15 11:45:01 - Suspicious Powershell Activity Detected - (MSTICALERTSWIN1)  - [id:2518547480982973701_24a6d6f3-acf1-41bd-a11f-01a1369bac02]",
        "2019-01-15 11:45:01 - Suspicious Powershell Activity Detected - (MSTICALERTSWIN1)  - [id:2518547480984263491_d46877bd-e04d-401a-99bd-eec2a6b25663]",
        "2019-01-15 11:45:01 - Detected obfuscated command line. - (MSTICALERTSWIN1)  - [id:2518547480982511513_adfabbe0-fce0-44f3-be4b-17283bd03bed]",
        "2019-01-15 11:45:01 - Suspicious Powershell Activity Detected - (MSTICALERTSWIN1)  - [id:2518547480980813134_5cb7ab95-6017-4031-afb2-e11518b0f5cc]",
        "2019-01-15 11:45:01 - Suspicious Powershell Activity Detected - (MSTICALERTSWIN1)  - [id:2518547480983467170_9da8e3df-9c3b-4e20-8bd0-ace00aff9def]",
        "2019-01-15 11:45:02 - Executable found running from a suspicious location - (MSTICALERTSWIN1)  - [id:2518547480975043692_7e663699-5412-496f-ac91-e21a7b6f0be5]",
        "2019-01-15 11:45:02 - Executable found running from a suspicious location - (MSTICALERTSWIN1)  - [id:2518547480977057409_ed9d92ac-0ab8-4a2e-a1dd-f70ee30a9af1]",
        "2019-01-15 11:45:02 - Suspicious WindowPosition registry value detected - (MSTICALERTSWIN1)  - [id:2518547480977469312_e9ff6947-fd12-42d2-bb63-2d814f04482a]",
        "2019-01-15 11:45:02 - Suspicious process executed - (MSTICALERTSWIN1)  - [id:2518547480976076338_2a106d12-acd8-4dd7-9e1c-3c20b4eaa320]",
        "2019-01-15 11:45:02 - Suspicious system process executed - (nan)  - [id:2518547480977057409_492fbb97-a1fc-4880-95d2-e55ab2f142b6]",
        "2019-01-15 11:45:02 - Detected anomalous mix of upper and lower case characters in command-line - (MSTICALERTSWIN1)  - [id:2518547480970182118_c0558adc-b4a9-4289-b9ad-7e7260f1cde0]",
        "2019-01-15 11:45:03 - Suspicious process executed - (MSTICALERTSWIN1)  - [id:2518547480968677354_88eb8a87-a876-46aa-b8ed-be7298929ea8]",
        "2019-01-15 11:45:04 - Random process name detected - (MSTICALERTSWIN1)  - [id:2518547480956885358_b66e93d7-b38b-4785-baa5-093edc18e649]",
        "2019-01-15 11:45:04 - Suspicious Volume Shadow Copy Activity - (nan)  - [id:2518547480955968326_fa350f8b-2c81-478c-a383-debe0ab0c892]",
        "2019-01-15 11:45:04 - Suspicious double extension file executed - (nan)  - [id:2518547480956378190_2b59c1d5-a815-4562-a8d4-36d9777e6546]",
        "2019-01-15 11:45:05 - Rare SVCHOST service group executed - (nan)  - [id:2518547480946682289_f83c0705-d2ff-4355-a25d-ae858ee39b2d]",
        "2019-01-15 11:45:05 - Suspicious SVCHOST process executed - (nan)  - [id:2518547480947565906_5c82cd9c-60f8-4056-bd39-8ccb2cdb7678]",
        "2019-01-15 11:45:05 - Azure Security Center test alert (not a threat) - (MSTICALERTSWIN1)  - [id:2518547480945920380_00d33245-c643-4155-8c05-6abc4ee3b3cd]",
        "2019-01-15 11:45:06 - Ransomware indicators detected - (MSTICALERTSWIN1)  - [id:2518547480937987105_ec1678a1-0fe8-44c5-91b5-621c40d2bb8c]",
        "2019-01-15 11:45:06 - Detected Petya ransomware indicators - (MSTICALERTSWIN1)  - [id:2518547480938543829_91a4f9a7-70ad-433b-a568-34314e3f467f]",
        "2019-01-15 13:15:10 - Suspiciously named process detected - (MSTICALERTSWIN1)  - [id:2518547426892072407_171b74b2-a431-4b55-8d69-128e5fb95329]",
        "2019-01-15 13:15:13 - Suspicious WindowPosition registry value detected - (MSTICALERTSWIN1)  - [id:2518547426863814510_75495c57-4fd6-4e27-b94c-c6f81f78bcb5]",
        "2019-01-15 13:15:13 - Suspicious system process executed - (nan)  - [id:2518547426862437699_184c075e-64ee-4901-bc37-6eb999e81a11]",
        "2019-01-15 13:15:14 - Suspicious process executed - (MSTICALERTSWIN1)  - [id:2518547426859453218_89d1850f-dccd-4d45-b194-650819d358d9]",
        "2019-01-15 13:15:14 - Executable found running from a suspicious location - (MSTICALERTSWIN1)  - [id:2518547426858055460_51b74398-40e2-4b1b-9d92-89c0004738c9]",
        "2019-01-15 13:15:15 - Suspicious process executed - (MSTICALERTSWIN1)  - [id:2518547426847947731_caa12d6c-4928-4787-90d4-cb27ff94373c]",
        "2019-01-15 13:15:16 - Suspicious SVCHOST process executed - (nan)  - [id:2518547426831794607_a513ab17-2b6a-4b1a-a925-a0b3c21ec38c]",
        "2019-01-15 13:15:16 - Rare SVCHOST service group executed - (nan)  - [id:2518547426830640211_88f9ae7a-e6b5-4b54-b967-08f3fc503d91]",
        "2019-01-15 13:15:16 - Suspicious Volume Shadow Copy Activity - (nan)  - [id:2518547426833434810_b6e594ea-16d3-480e-81a7-2f8fe3af64ba]",
        "2019-01-15 13:15:16 - Suspicious double extension file executed - (nan)  - [id:2518547426833838523_7b30c978-28d5-4a28-a4c2-0985f08ab1c6]",
        "2019-01-15 13:15:17 - Azure Security Center test alert (not a threat) - (MSTICALERTSWIN1)  - [id:2518547426829675756_846ec406-bb3e-451b-bf6f-9e1e17a69bd6]",
        "2019-01-15 13:15:18 - Ransomware indicators detected - (MSTICALERTSWIN1)  - [id:2518547426817428483_636ab38f-2528-4356-8602-d0910f8ac600]",
        "2019-01-15 13:15:18 - Detected Petya ransomware indicators - (MSTICALERTSWIN1)  - [id:2518547426817928329_a4aa878d-93b5-4cd1-931f-30f85b9e6db2]",
        "2019-01-15 17:15:03 - Suspicious Account Creation Detected - (MSTICALERTSWIN1)  - [id:2518547282966696689_3db7e1e7-2edc-4dd9-8c1d-d908f5b8a904]",
        "2019-01-15 17:15:10 - Potential attempt to bypass AppLocker detected - (MSTICALERTSWIN1)  - [id:2518547282896095305_82730ffa-b9ce-43f4-bf3c-a97113107cc5]",
        "2019-01-15 17:15:10 - Suspiciously named process detected - (MSTICALERTSWIN1)  - [id:2518547282892925953_0073e6d8-6c2e-42e4-8966-d1f5a3dd3517]",
        "2019-01-15 17:15:10 - Digital currency mining related behavior detected - (MSTICALERTSWIN1)  - [id:2518547282892925953_35c8d588-ddf7-46b5-a0bf-f47023f9343c]",
        "2019-01-15 17:15:11 - Suspicious Powershell Activity Detected - (MSTICALERTSWIN1)  - [id:2518547282880013417_d65aa787-e867-43b1-9182-025a1a38173a]",
        "2019-01-15 17:15:11 - Suspicious Powershell Activity Detected - (MSTICALERTSWIN1)  - [id:2518547282881581273_ed5bcf39-ffd3-468a-82e3-28e108d4f06f]",
        "2019-01-15 17:15:11 - Suspicious Powershell Activity Detected - (MSTICALERTSWIN1)  - [id:2518547282883193041_31ae6eeb-bd1d-4018-8df9-eeedd60bf1ab]",
        "2019-01-15 17:15:12 - Suspicious Powershell Activity Detected - (MSTICALERTSWIN1)  - [id:2518547282874783943_bd1a0865-a507-4e2b-b8df-613238a950df]",
        "2019-01-15 17:15:12 - Detected obfuscated command line. - (MSTICALERTSWIN1)  - [id:2518547282878855119_d89d1ab7-e5b7-426c-a98f-eab95deea3ad]",
        "2019-01-15 17:15:13 - Suspicious system process executed - (nan)  - [id:2518547282863799328_7e169933-4275-4b94-b37f-490417bcfc98]",
        "2019-01-15 17:15:13 - Suspicious WindowPosition registry value detected - (MSTICALERTSWIN1)  - [id:2518547282865194453_9895a5cc-6f49-45f5-a0eb-f05c1f11f264]",
        "2019-01-15 17:15:13 - Executable found running from a suspicious location - (MSTICALERTSWIN1)  - [id:2518547282863799328_84ea8dcd-9436-4b4d-82b2-36114028bd61]",
        "2019-01-15 17:15:14 - Suspicious process executed - (MSTICALERTSWIN1)  - [id:2518547282859754476_0c3ae402-a9ea-4d5c-9c09-4274b7847c2c]",
        "2019-01-15 17:15:14 - Detected anomalous mix of upper and lower case characters in command-line - (MSTICALERTSWIN1)  - [id:2518547282850984831_7f983018-fd59-4e9e-ba70-295f6beb0e9c]",
        "2019-01-15 17:15:14 - Executable found running from a suspicious location - (MSTICALERTSWIN1)  - [id:2518547282858353938_58851b10-8f5c-48f1-aade-b1529f4e2c7f]",
        "2019-01-15 17:15:15 - Suspicious process executed - (MSTICALERTSWIN1)  - [id:2518547282845656644_c7318da8-368f-47f8-bff5-e15600a3fb80]",
        "2019-01-15 17:15:17 - Suspicious double extension file executed - (nan)  - [id:2518547282825853773_e6c85135-2b91-4537-b9a0-dae7eabb8e9d]",
        "2019-01-15 17:15:17 - Suspicious Volume Shadow Copy Activity - (nan)  - [id:2518547282825448815_6a71b543-4832-4658-8467-825aeafbe031]",
        "2019-01-15 17:15:18 - Rare SVCHOST service group executed - (nan)  - [id:2518547282813841329_a7e8e8c1-4561-48ea-bf75-a22c7bfc2257]",
        "2019-01-15 17:15:18 - Azure Security Center test alert (not a threat) - (MSTICALERTSWIN1)  - [id:2518547282812706885_12ae1e22-347e-454c-ae0d-ebb48cdf189b]",
        "2019-01-15 17:15:18 - Suspicious SVCHOST process executed - (nan)  - [id:2518547282814913644_34cc156e-9179-44c4-bd60-89dd1812e9e7]",
        "2019-01-15 17:15:19 - Detected Petya ransomware indicators - (MSTICALERTSWIN1)  - [id:2518547282803821916_c76cdb6c-cea0-4b2b-9ab6-1442a5857ed8]",
        "2019-01-15 17:15:19 - Ransomware indicators detected - (MSTICALERTSWIN1)  - [id:2518547282802847718_4a524cc8-7613-4c42-93a9-8c1e466a4476]",
        "2019-01-15 21:18:10 - Suspicious Account Added - (nan)  - [id:cbdce694-666c-4844-a29c-e7f4b66e27d1]"
       ],
       "description": "Select alert :",
       "index": 0,
       "layout": "IPY_MODEL_c9e2ccfa0eca4299abc8d13bce7e5202",
       "style": "IPY_MODEL_e74d5e0415a14febb490abe4c0dd8de4"
      }
     },
     "e6ddfb2c5bf342ac9204b216c3c1c9d1": {
      "model_module": "@jupyter-widgets/controls",
      "model_module_version": "1.5.0",
      "model_name": "TextModel",
      "state": {
       "description": "Query start time (UTC):",
       "layout": "IPY_MODEL_4eac054517f64a0fbaa769dd3f085fac",
       "style": "IPY_MODEL_cc8e138bed6c4bbfb6ccefa00d37c41f",
       "value": "2020-06-07 20:42:15.137356"
      }
     },
     "e74d5e0415a14febb490abe4c0dd8de4": {
      "model_module": "@jupyter-widgets/controls",
      "model_module_version": "1.5.0",
      "model_name": "DescriptionStyleModel",
      "state": {
       "description_width": "initial"
      }
     },
     "e79df277bbac4d29a5614f0f7cdaf981": {
      "model_module": "@jupyter-widgets/controls",
      "model_module_version": "1.5.0",
      "model_name": "HTMLModel",
      "state": {
       "layout": "IPY_MODEL_9abeabb6a2c4401b964f43ba57a58abd",
       "style": "IPY_MODEL_7d0ba715e3ad4b0288d33a9526c703d1",
       "value": "<h4>Set query time boundaries</h4>"
      }
     },
     "e92096c8f1d54daf9d9fa2a86fea4015": {
      "model_module": "@jupyter-widgets/controls",
      "model_module_version": "1.5.0",
      "model_name": "TextModel",
      "state": {
       "description": "Filter:",
       "layout": "IPY_MODEL_fefa9083c75e4827b8a12179374ac2fb",
       "style": "IPY_MODEL_112d325aeede473b8c1a44f6d1382a02"
      }
     },
     "eaaff937e6614a4dbc893b6021cb1466": {
      "model_module": "@jupyter-widgets/base",
      "model_module_version": "1.2.0",
      "model_name": "LayoutModel",
      "state": {
       "height": "100px",
       "width": "50%"
      }
     },
     "eabf798f21194f3c979cb17d5518598d": {
      "model_module": "@jupyter-widgets/controls",
      "model_module_version": "1.5.0",
      "model_name": "DescriptionStyleModel",
      "state": {
       "description_width": ""
      }
     },
     "eaf63bff5b184aa1892b439788533cc7": {
      "model_module": "@jupyter-widgets/controls",
      "model_module_version": "1.5.0",
      "model_name": "TextModel",
      "state": {
       "description": "Filter:",
       "layout": "IPY_MODEL_f27c31364c3b4813b4f0195a68b7a7d0",
       "style": "IPY_MODEL_2706d79d81534cddab9d36b165613177"
      }
     },
     "ebe6aec060bb42c880c8a87808972641": {
      "model_module": "@jupyter-widgets/controls",
      "model_module_version": "1.5.0",
      "model_name": "DescriptionStyleModel",
      "state": {
       "description_width": ""
      }
     },
     "f1b7f671f6ae49af9a5d11ec941cb569": {
      "model_module": "@jupyter-widgets/controls",
      "model_module_version": "1.5.0",
      "model_name": "DescriptionStyleModel",
      "state": {
       "description_width": ""
      }
     },
     "f22ab78821f140ad9897117b47db9f9d": {
      "model_module": "@jupyter-widgets/base",
      "model_module_version": "1.2.0",
      "model_name": "LayoutModel",
      "state": {}
     },
     "f27c31364c3b4813b4f0195a68b7a7d0": {
      "model_module": "@jupyter-widgets/base",
      "model_module_version": "1.2.0",
      "model_name": "LayoutModel",
      "state": {}
     },
     "f2b1f57cbd0844d88f681f551430830e": {
      "model_module": "@jupyter-widgets/base",
      "model_module_version": "1.2.0",
      "model_name": "LayoutModel",
      "state": {
       "width": "10%"
      }
     },
     "f39e50f8282a4bc4b301d297e4c5f8b8": {
      "model_module": "@jupyter-widgets/controls",
      "model_module_version": "1.5.0",
      "model_name": "TextModel",
      "state": {
       "description": "Time (24hr)",
       "layout": "IPY_MODEL_f62db977b2094d819ae784f5133f3b1e",
       "style": "IPY_MODEL_c2b31e205bb3489aa32d128416f4c588",
       "value": "20:42:15.218230"
      }
     },
     "f4b832d27cce4163ac4636bdf876015b": {
      "model_module": "@jupyter-widgets/controls",
      "model_module_version": "1.5.0",
      "model_name": "TextModel",
      "state": {
       "description": "Time (24hr)",
       "layout": "IPY_MODEL_5a726337926c4faea6d4f6fd86a611bf",
       "style": "IPY_MODEL_4cc5a2a3875c4422a9540bc1120f7dc4",
       "value": "20:42:15.137356"
      }
     },
     "f62db977b2094d819ae784f5133f3b1e": {
      "model_module": "@jupyter-widgets/base",
      "model_module_version": "1.2.0",
      "model_name": "LayoutModel",
      "state": {}
     },
     "f7226a3adda3407caffbe6979ab6f6b6": {
      "model_module": "@jupyter-widgets/controls",
      "model_module_version": "1.5.0",
      "model_name": "ButtonModel",
      "state": {
       "description": "Add ⇾",
       "layout": "IPY_MODEL_5b9651fdbf22475d8d5c3fa7c409cbd5",
       "style": "IPY_MODEL_17fe4ea0e180469d8ddf4fb135f2ab47"
      }
     },
     "f745127a813c47f9b71d67717268e73c": {
      "model_module": "@jupyter-widgets/controls",
      "model_module_version": "1.5.0",
      "model_name": "DescriptionStyleModel",
      "state": {
       "description_width": "initial"
      }
     },
     "f86aaa068a924f109140ed1f0d3c8eca": {
      "model_module": "@jupyter-widgets/controls",
      "model_module_version": "1.5.0",
      "model_name": "VBoxModel",
      "state": {
       "children": [
        "IPY_MODEL_b7b224a7cbc549bc8a51bd443ef631c7",
        "IPY_MODEL_b40e870a79c74b0f8ced87b506626c66",
        "IPY_MODEL_e0029c03c0b242ab8f2556cd46d2a8af"
       ],
       "layout": "IPY_MODEL_6b1f72772646431bb54dafa8f9865a2c"
      }
     },
     "f8eaae4cb42a4d4f95a0730a5757836e": {
      "model_module": "@jupyter-widgets/controls",
      "model_module_version": "1.5.0",
      "model_name": "DescriptionStyleModel",
      "state": {
       "description_width": "initial"
      }
     },
     "fbbc6cf6a836452e88b96182dfe6ff6c": {
      "model_module": "@jupyter-widgets/base",
      "model_module_version": "1.2.0",
      "model_name": "LayoutModel",
      "state": {}
     },
     "fc79fafaac3b4aa19d7dd4c35654902e": {
      "model_module": "@jupyter-widgets/controls",
      "model_module_version": "1.5.0",
      "model_name": "VBoxModel",
      "state": {
       "children": [
        "IPY_MODEL_eaf63bff5b184aa1892b439788533cc7",
        "IPY_MODEL_0167cd6060ab42dc8a43f574d4cd2d47"
       ],
       "layout": "IPY_MODEL_5b590bf721414066892675b2214f2c3c"
      }
     },
     "fd4b3ef0bcc548678fce5340283aee12": {
      "model_module": "@jupyter-widgets/controls",
      "model_module_version": "1.5.0",
      "model_name": "HBoxModel",
      "state": {
       "children": [
        "IPY_MODEL_d3373a8420fe4aeeb74738a8674f1de5",
        "IPY_MODEL_6d3e2178847444f488514c2b198de715",
        "IPY_MODEL_5fdf837dc2ec4e93b4e1ce008f8b5817"
       ],
       "layout": "IPY_MODEL_9806636bf71845f0bfc46f65d5538cd0"
      }
     },
     "fdcdd2ffa97548878bde2ac6d368235a": {
      "model_module": "@jupyter-widgets/base",
      "model_module_version": "1.2.0",
      "model_name": "LayoutModel",
      "state": {}
     },
     "feb38daa744f47cdb71fd35bb87c225f": {
      "model_module": "@jupyter-widgets/base",
      "model_module_version": "1.2.0",
      "model_name": "LayoutModel",
      "state": {
       "width": "50%"
      }
     },
     "fefa9083c75e4827b8a12179374ac2fb": {
      "model_module": "@jupyter-widgets/base",
      "model_module_version": "1.2.0",
      "model_name": "LayoutModel",
      "state": {}
     },
     "ffbe0ed216b546608b214d773876f1f4": {
      "model_module": "@jupyter-widgets/controls",
      "model_module_version": "1.5.0",
      "model_name": "ProgressStyleModel",
      "state": {
       "description_width": ""
      }
     }
    },
    "version_major": 2,
    "version_minor": 0
   }
  }
 },
 "nbformat": 4,
 "nbformat_minor": 4
}
