{
 "cells": [
  {
   "cell_type": "markdown",
   "metadata": {},
   "source": [
    "# MSTICpy - Data Uploaders\n",
    "\n",
    "### Description\n",
    "This notebook provides a guided example of using the Log Analytics and Splunk Data Uploader included with MSTICpy.<br><br>\n",
    "Contents:\n",
    "- How to instanciate Uploaders\n",
    "- Uploading DataFrames\n",
    "- Uploading Files\n",
    "- Uploading Folders"
   ]
  },
  {
   "cell_type": "code",
   "execution_count": 1,
   "metadata": {},
   "outputs": [
    {
     "name": "stdout",
     "output_type": "stream",
     "text": [
      "Processing imports....\n",
      "Checking configuration....\n",
      "No errors found.\n",
      "No warnings found.\n",
      "Setting options....\n"
     ]
    },
    {
     "data": {
      "text/html": [
       "<h3>Notebook setup complete</h3>"
      ],
      "text/plain": [
       "<IPython.core.display.HTML object>"
      ]
     },
     "metadata": {},
     "output_type": "display_data"
    }
   ],
   "source": [
    "#Setup\n",
    "from msticpy.nbtools import nbinit\n",
    "extra_imports = [\"msticpy.data.uploaders.splunk_uploader, SplunkUploader\", \n",
    "                \"msticpy.data.uploaders.loganalytics_uploader, LAUploader\"]\n",
    "\n",
    "nbinit.init_notebook(\n",
    "    namespace=globals(),\n",
    "    extra_imports=extra_imports,\n",
    ");\n",
    "\n",
    "WIDGET_DEFAULTS = {\n",
    "    \"layout\": widgets.Layout(width=\"95%\"),\n",
    "    \"style\": {\"description_width\": \"initial\"},\n",
    "}"
   ]
  },
  {
   "cell_type": "code",
   "execution_count": 2,
   "metadata": {},
   "outputs": [
    {
     "data": {
      "text/html": [
       "<div>\n",
       "<style scoped>\n",
       "    .dataframe tbody tr th:only-of-type {\n",
       "        vertical-align: middle;\n",
       "    }\n",
       "\n",
       "    .dataframe tbody tr th {\n",
       "        vertical-align: top;\n",
       "    }\n",
       "\n",
       "    .dataframe thead th {\n",
       "        text-align: right;\n",
       "    }\n",
       "</style>\n",
       "<table border=\"1\" class=\"dataframe\">\n",
       "  <thead>\n",
       "    <tr style=\"text-align: right;\">\n",
       "      <th></th>\n",
       "      <th>Unnamed: 0</th>\n",
       "      <th>TenantId</th>\n",
       "      <th>TimeGenerated</th>\n",
       "      <th>FlowStartTime</th>\n",
       "      <th>FlowEndTime</th>\n",
       "      <th>FlowIntervalEndTime</th>\n",
       "      <th>FlowType</th>\n",
       "      <th>ResourceGroup</th>\n",
       "      <th>VMName</th>\n",
       "      <th>VMIPAddress</th>\n",
       "      <th>PublicIPs</th>\n",
       "      <th>SrcIP</th>\n",
       "      <th>DestIP</th>\n",
       "      <th>L4Protocol</th>\n",
       "      <th>L7Protocol</th>\n",
       "      <th>DestPort</th>\n",
       "      <th>FlowDirection</th>\n",
       "      <th>AllowedOutFlows</th>\n",
       "      <th>AllowedInFlows</th>\n",
       "      <th>DeniedInFlows</th>\n",
       "      <th>DeniedOutFlows</th>\n",
       "      <th>RemoteRegion</th>\n",
       "      <th>VMRegion</th>\n",
       "      <th>AllExtIPs</th>\n",
       "      <th>TotalAllowedFlows</th>\n",
       "    </tr>\n",
       "  </thead>\n",
       "  <tbody>\n",
       "    <tr>\n",
       "      <th>0</th>\n",
       "      <td>881</td>\n",
       "      <td>52b1ab41-869e-4138-9e40-2a4457f09bf0</td>\n",
       "      <td>2019-02-12 14:22:40.697</td>\n",
       "      <td>2019-02-12 13:00:07.000</td>\n",
       "      <td>2019-02-12 13:45:08.000</td>\n",
       "      <td>2019-02-12 14:00:00.000</td>\n",
       "      <td>AzurePublic</td>\n",
       "      <td>asihuntomsworkspacerg</td>\n",
       "      <td>msticalertswin1</td>\n",
       "      <td>10.0.3.5</td>\n",
       "      <td>['65.55.44.109']</td>\n",
       "      <td>NaN</td>\n",
       "      <td>NaN</td>\n",
       "      <td>T</td>\n",
       "      <td>https</td>\n",
       "      <td>443.0</td>\n",
       "      <td>O</td>\n",
       "      <td>4.0</td>\n",
       "      <td>0.0</td>\n",
       "      <td>0.0</td>\n",
       "      <td>0.0</td>\n",
       "      <td>eastus2</td>\n",
       "      <td>eastus</td>\n",
       "      <td>65.55.44.109</td>\n",
       "      <td>4.0</td>\n",
       "    </tr>\n",
       "    <tr>\n",
       "      <th>1</th>\n",
       "      <td>877</td>\n",
       "      <td>52b1ab41-869e-4138-9e40-2a4457f09bf0</td>\n",
       "      <td>2019-02-12 14:22:40.681</td>\n",
       "      <td>2019-02-12 13:00:48.000</td>\n",
       "      <td>2019-02-12 13:58:33.000</td>\n",
       "      <td>2019-02-12 14:00:00.000</td>\n",
       "      <td>AzurePublic</td>\n",
       "      <td>asihuntomsworkspacerg</td>\n",
       "      <td>msticalertswin1</td>\n",
       "      <td>10.0.3.5</td>\n",
       "      <td>['13.71.172.130', '13.71.172.128']</td>\n",
       "      <td>NaN</td>\n",
       "      <td>NaN</td>\n",
       "      <td>T</td>\n",
       "      <td>https</td>\n",
       "      <td>443.0</td>\n",
       "      <td>O</td>\n",
       "      <td>18.0</td>\n",
       "      <td>0.0</td>\n",
       "      <td>0.0</td>\n",
       "      <td>0.0</td>\n",
       "      <td>canadacentral</td>\n",
       "      <td>eastus</td>\n",
       "      <td>13.71.172.128</td>\n",
       "      <td>18.0</td>\n",
       "    </tr>\n",
       "  </tbody>\n",
       "</table>\n",
       "</div>"
      ],
      "text/plain": [
       "   Unnamed: 0                              TenantId           TimeGenerated  \\\n",
       "0         881  52b1ab41-869e-4138-9e40-2a4457f09bf0 2019-02-12 14:22:40.697   \n",
       "1         877  52b1ab41-869e-4138-9e40-2a4457f09bf0 2019-02-12 14:22:40.681   \n",
       "\n",
       "             FlowStartTime              FlowEndTime      FlowIntervalEndTime  \\\n",
       "0  2019-02-12 13:00:07.000  2019-02-12 13:45:08.000  2019-02-12 14:00:00.000   \n",
       "1  2019-02-12 13:00:48.000  2019-02-12 13:58:33.000  2019-02-12 14:00:00.000   \n",
       "\n",
       "      FlowType          ResourceGroup           VMName VMIPAddress  \\\n",
       "0  AzurePublic  asihuntomsworkspacerg  msticalertswin1    10.0.3.5   \n",
       "1  AzurePublic  asihuntomsworkspacerg  msticalertswin1    10.0.3.5   \n",
       "\n",
       "                            PublicIPs SrcIP DestIP L4Protocol L7Protocol  \\\n",
       "0                    ['65.55.44.109']   NaN    NaN          T      https   \n",
       "1  ['13.71.172.130', '13.71.172.128']   NaN    NaN          T      https   \n",
       "\n",
       "   DestPort FlowDirection  AllowedOutFlows  AllowedInFlows  DeniedInFlows  \\\n",
       "0     443.0             O              4.0             0.0            0.0   \n",
       "1     443.0             O             18.0             0.0            0.0   \n",
       "\n",
       "   DeniedOutFlows   RemoteRegion VMRegion      AllExtIPs  TotalAllowedFlows  \n",
       "0             0.0        eastus2   eastus   65.55.44.109                4.0  \n",
       "1             0.0  canadacentral   eastus  13.71.172.128               18.0  "
      ]
     },
     "execution_count": 2,
     "metadata": {},
     "output_type": "execute_result"
    }
   ],
   "source": [
    "# Load some sample data\n",
    "df = pd.read_csv('https://raw.githubusercontent.com/microsoft/msticpy/master/tests/testdata/az_net_flows.csv', parse_dates=['TimeGenerated'])\n",
    "df.head(2)"
   ]
  },
  {
   "cell_type": "markdown",
   "metadata": {},
   "source": [
    "## LogAnalytics Data Uploader\n",
    "Below we collect some details required for our uploader, instanciate our LogAnalytics data uploader and pass our DataFrame loaded above to be uploaded.\n",
    "We are setting the debug flag on our uploader so we can get some additional details on our upload progress."
   ]
  },
  {
   "cell_type": "code",
   "execution_count": 3,
   "metadata": {},
   "outputs": [
    {
     "data": {
      "application/vnd.jupyter.widget-view+json": {
       "model_id": "8d7a06200a5c403db4f6b39c9666738b",
       "version_major": 2,
       "version_minor": 0
      },
      "text/plain": [
       "Text(value='', description='Workspace ID:')"
      ]
     },
     "metadata": {},
     "output_type": "display_data"
    },
    {
     "data": {
      "application/vnd.jupyter.widget-view+json": {
       "model_id": "421afec5cfff4917b0396f935a9c8dd5",
       "version_major": 2,
       "version_minor": 0
      },
      "text/plain": [
       "Password(description='Workspace Key:')"
      ]
     },
     "metadata": {},
     "output_type": "display_data"
    }
   ],
   "source": [
    "la_ws_id = widgets.Text(description='Workspace ID:')\n",
    "la_ws_key = widgets.Password(description='Workspace Key:')\n",
    "display(la_ws_id)\n",
    "display(la_ws_key)"
   ]
  },
  {
   "cell_type": "code",
   "execution_count": 3,
   "metadata": {},
   "outputs": [
    {
     "name": "stdout",
     "output_type": "stream",
     "text": [
      "Upload response code: 200\n",
      "Upload to upload_demo complete\n"
     ]
    }
   ],
   "source": [
    "# Instanciate our Uploader\n",
    "la_up = LAUploader(workspace=la_ws_id.value, workspace_secret=la_ws_key.value, debug=True)\n",
    "# Upload our DataFrame\n",
    "la_up.upload_df(data=df, table_name='upload_demo')"
   ]
  },
  {
   "cell_type": "markdown",
   "metadata": {},
   "source": [
    "### Upload a file\n",
    "We can now upload a file to our Workspace using the same Uploader. We simply pass the path to the file we want to upload, and we can also pass a table name for the data to be uploaded to."
   ]
  },
  {
   "cell_type": "code",
   "execution_count": 5,
   "metadata": {},
   "outputs": [
    {
     "name": "stdout",
     "output_type": "stream",
     "text": [
      "Upload response code: 200\n",
      "Upload to upload_demo complete\n"
     ]
    }
   ],
   "source": [
    "la_up.upload_file(file_path='data/alertlist.csv', table_name='upload_demo')"
   ]
  },
  {
   "cell_type": "markdown",
   "metadata": {},
   "source": [
    "### Upload a folder\n",
    "We can now upload a file to our Workspace using the same Uploader. We simply pass the the path to the folder we want to upload file from. In this case we aren't going to pass a table name, in which case the name will be generated automatically for each file from the file's name. With a folder we get a progress bar showing the progress uploading each file."
   ]
  },
  {
   "cell_type": "code",
   "execution_count": 6,
   "metadata": {},
   "outputs": [
    {
     "data": {
      "application/vnd.jupyter.widget-view+json": {
       "model_id": "b59b3e2a33a14d96bce3e34220ea84fc",
       "version_major": 2,
       "version_minor": 0
      },
      "text/plain": [
       "HBox(children=(FloatProgress(value=0.0, description='Files', max=10.0, style=ProgressStyle(description_width='…"
      ]
     },
     "metadata": {},
     "output_type": "display_data"
    },
    {
     "name": "stdout",
     "output_type": "stream",
     "text": [
      "Upload response code: 200\n",
      "Upload to alertlist complete\n",
      "Upload response code: 200\n",
      "Upload to az_net_flows complete\n",
      "Upload response code: 200\n",
      "Upload to demo_exchange_data complete\n",
      "Upload response code: 200\n",
      "Upload to host_logons complete\n",
      "Upload response code: 200\n",
      "Upload to ip_locs complete\n",
      "Upload response code: 200\n",
      "Upload to processes_on_host complete\n",
      "Upload response code: 200\n",
      "Upload to raw_network complete\n",
      "Upload response code: 200\n",
      "Upload to sample_alerts complete\n",
      "Upload response code: 200\n",
      "Upload to TimeSeriesDemo complete\n",
      "Upload response code: 200\n",
      "Upload to ti_data complete\n",
      "\n"
     ]
    }
   ],
   "source": [
    "la_up.upload_folder(folder_path='data/')"
   ]
  },
  {
   "cell_type": "markdown",
   "metadata": {},
   "source": [
    "## Splunk Data Uploader\n",
    "The Splunk Uploader functions in the same manner as the LogAnalytics one. <br>\n",
    "Below we collect some details required for our uploader, instanciate our Splunk data uploader and pass our DataFrame loaded above to be uploaded.\n",
    "We are setting the debug flag on our uploader so we can get some additional details on our upload progress.<br>\n",
    "When uploading our DataFrame the only difference is that as well as providing a table name (which is represneted as sourcetype in Splunk), we also need to pass a Splunk index that we want to data uploaded to. Also as Splunk uploads data a line at a time we get a progress bar for the file as it uploads."
   ]
  },
  {
   "cell_type": "code",
   "execution_count": 7,
   "metadata": {},
   "outputs": [
    {
     "data": {
      "application/vnd.jupyter.widget-view+json": {
       "model_id": "3366d467cc4746bf83c9da070e56ecf7",
       "version_major": 2,
       "version_minor": 0
      },
      "text/plain": [
       "Text(value='', description='Splunk host')"
      ]
     },
     "metadata": {},
     "output_type": "display_data"
    },
    {
     "data": {
      "application/vnd.jupyter.widget-view+json": {
       "model_id": "d5d66a08cc4340f5b4f924b78a05734b",
       "version_major": 2,
       "version_minor": 0
      },
      "text/plain": [
       "Text(value='', description='Username')"
      ]
     },
     "metadata": {},
     "output_type": "display_data"
    },
    {
     "data": {
      "application/vnd.jupyter.widget-view+json": {
       "model_id": "55d2699324d14e69a87cf89ea73a7cb6",
       "version_major": 2,
       "version_minor": 0
      },
      "text/plain": [
       "Password(description='Password')"
      ]
     },
     "metadata": {},
     "output_type": "display_data"
    }
   ],
   "source": [
    "sp_host = widgets.Text(description='Splunk host')\n",
    "sp_user = widgets.Text(description='Username')\n",
    "sp_pwrd = widgets.Password(description='Password')\n",
    "display(sp_host)\n",
    "display(sp_user)\n",
    "display(sp_pwrd)"
   ]
  },
  {
   "cell_type": "code",
   "execution_count": 3,
   "metadata": {},
   "outputs": [
    {
     "name": "stdout",
     "output_type": "stream",
     "text": [
      "connected\n"
     ]
    },
    {
     "data": {
      "application/vnd.jupyter.widget-view+json": {
       "model_id": "f1bda0f665da4e449fbc172f02955e59",
       "version_major": 2,
       "version_minor": 0
      },
      "text/plain": [
       "HBox(children=(FloatProgress(value=0.0, description='Rows', max=460.0, style=ProgressStyle(description_width='…"
      ]
     },
     "metadata": {},
     "output_type": "display_data"
    },
    {
     "name": "stdout",
     "output_type": "stream",
     "text": [
      "\n",
      "Upload complete\n"
     ]
    }
   ],
   "source": [
    "# Instanciate our Uploader\n",
    "spup = SplunkUploader(username=sp_user.value, host=sp_host.value, password=sp_pwrd.value, debug=True)\n",
    "# Upload our DataFrame\n",
    "spup.upload_df(data=df, table_name='upload_test', index_name='upload_test')"
   ]
  },
  {
   "cell_type": "markdown",
   "metadata": {},
   "source": [
    "### Upload a file\n",
    "We can now upload a file to our Workspace using the same Uploader. We simply pass the path to the file we want to upload along with the index name, and we can also pass a table name for the data to be uploaded to."
   ]
  },
  {
   "cell_type": "code",
   "execution_count": 4,
   "metadata": {},
   "outputs": [
    {
     "name": "stdout",
     "output_type": "stream",
     "text": [
      "Exception reporting mode: Verbose\n"
     ]
    },
    {
     "data": {
      "application/vnd.jupyter.widget-view+json": {
       "model_id": "140a61fa3eda4b1793f6f4f9aff7d847",
       "version_major": 2,
       "version_minor": 0
      },
      "text/plain": [
       "HBox(children=(FloatProgress(value=0.0, description='Rows', max=189.0, style=ProgressStyle(description_width='…"
      ]
     },
     "metadata": {},
     "output_type": "display_data"
    },
    {
     "name": "stdout",
     "output_type": "stream",
     "text": [
      "\n",
      "Upload complete\n"
     ]
    }
   ],
   "source": [
    "spup.upload_file(file_path='data/alertlist.csv', index_name='upload_demo', table_name='upload_demo')"
   ]
  },
  {
   "cell_type": "markdown",
   "metadata": {},
   "source": [
    "### Upload a folder\n",
    "We can now upload a file to our Workspace using the same Uploader. We simply pass the the path to the folder we want to upload file from. In this case we aren't going to pass a table name, in which case the name will be generated automatically for each file from the file's name however we still need to pass and index name."
   ]
  },
  {
   "cell_type": "code",
   "execution_count": 7,
   "metadata": {},
   "outputs": [
    {
     "data": {
      "application/vnd.jupyter.widget-view+json": {
       "model_id": "d357e8d4f1804e1783055190e70eed65",
       "version_major": 2,
       "version_minor": 0
      },
      "text/plain": [
       "HBox(children=(FloatProgress(value=0.0, description='Files', max=10.0, style=ProgressStyle(description_width='…"
      ]
     },
     "metadata": {},
     "output_type": "display_data"
    },
    {
     "data": {
      "application/vnd.jupyter.widget-view+json": {
       "model_id": "76a8427b7919484199701613f624d648",
       "version_major": 2,
       "version_minor": 0
      },
      "text/plain": [
       "HBox(children=(FloatProgress(value=0.0, description='Rows', max=189.0, style=ProgressStyle(description_width='…"
      ]
     },
     "metadata": {},
     "output_type": "display_data"
    },
    {
     "name": "stdout",
     "output_type": "stream",
     "text": [
      "\n",
      "Upload complete\n",
      "data\\alertlist.csv uploaded to alertlist\n"
     ]
    },
    {
     "data": {
      "application/vnd.jupyter.widget-view+json": {
       "model_id": "7b6bec5403424259b23791440925ac96",
       "version_major": 2,
       "version_minor": 0
      },
      "text/plain": [
       "HBox(children=(FloatProgress(value=0.0, description='Rows', max=460.0, style=ProgressStyle(description_width='…"
      ]
     },
     "metadata": {},
     "output_type": "display_data"
    },
    {
     "name": "stdout",
     "output_type": "stream",
     "text": [
      "\n",
      "Upload complete\n",
      "data\\az_net_flows.csv uploaded to az_net_flows\n"
     ]
    },
    {
     "data": {
      "application/vnd.jupyter.widget-view+json": {
       "model_id": "b13fbc6393a4412fa2db7ba1382178e0",
       "version_major": 2,
       "version_minor": 0
      },
      "text/plain": [
       "HBox(children=(FloatProgress(value=0.0, description='Rows', max=1334.0, style=ProgressStyle(description_width=…"
      ]
     },
     "metadata": {},
     "output_type": "display_data"
    },
    {
     "name": "stdout",
     "output_type": "stream",
     "text": [
      "\n",
      "Upload complete\n",
      "data\\demo_exchange_data.csv uploaded to demo_exchange_data\n"
     ]
    },
    {
     "data": {
      "application/vnd.jupyter.widget-view+json": {
       "model_id": "ba139fa3842a41e9a569481e4b539ae2",
       "version_major": 2,
       "version_minor": 0
      },
      "text/plain": [
       "HBox(children=(FloatProgress(value=0.0, description='Rows', max=14.0, style=ProgressStyle(description_width='i…"
      ]
     },
     "metadata": {},
     "output_type": "display_data"
    },
    {
     "name": "stdout",
     "output_type": "stream",
     "text": [
      "\n",
      "Upload complete\n",
      "data\\host_logons.csv uploaded to host_logons\n"
     ]
    },
    {
     "data": {
      "application/vnd.jupyter.widget-view+json": {
       "model_id": "56c8a58f26234be7b034153b114bf62e",
       "version_major": 2,
       "version_minor": 0
      },
      "text/plain": [
       "HBox(children=(FloatProgress(value=0.0, description='Rows', max=87.0, style=ProgressStyle(description_width='i…"
      ]
     },
     "metadata": {},
     "output_type": "display_data"
    },
    {
     "name": "stdout",
     "output_type": "stream",
     "text": [
      "\n",
      "Upload complete\n",
      "data\\ip_locs.csv uploaded to ip_locs\n"
     ]
    },
    {
     "data": {
      "application/vnd.jupyter.widget-view+json": {
       "model_id": "1ea09392e762426e98ceeb8596c5bc8e",
       "version_major": 2,
       "version_minor": 0
      },
      "text/plain": [
       "HBox(children=(FloatProgress(value=0.0, description='Rows', max=363.0, style=ProgressStyle(description_width='…"
      ]
     },
     "metadata": {},
     "output_type": "display_data"
    },
    {
     "name": "stdout",
     "output_type": "stream",
     "text": [
      "\n",
      "Upload complete\n",
      "data\\processes_on_host.csv uploaded to processes_on_host\n"
     ]
    },
    {
     "data": {
      "application/vnd.jupyter.widget-view+json": {
       "model_id": "14d86e700fad482da55d6c9f32db9d49",
       "version_major": 2,
       "version_minor": 0
      },
      "text/plain": [
       "HBox(children=(FloatProgress(value=0.0, description='Rows', max=32.0, style=ProgressStyle(description_width='i…"
      ]
     },
     "metadata": {},
     "output_type": "display_data"
    },
    {
     "name": "stdout",
     "output_type": "stream",
     "text": [
      "\n",
      "Upload complete\n",
      "data\\raw_network.csv uploaded to raw_network\n"
     ]
    },
    {
     "data": {
      "application/vnd.jupyter.widget-view+json": {
       "model_id": "ff7221ded09a4b698567e9335ca12de2",
       "version_major": 2,
       "version_minor": 0
      },
      "text/plain": [
       "HBox(children=(FloatProgress(value=0.0, description='Rows', max=78.0, style=ProgressStyle(description_width='i…"
      ]
     },
     "metadata": {},
     "output_type": "display_data"
    },
    {
     "name": "stdout",
     "output_type": "stream",
     "text": [
      "\n",
      "Upload complete\n",
      "data\\sample_alerts.csv uploaded to sample_alerts\n"
     ]
    },
    {
     "data": {
      "application/vnd.jupyter.widget-view+json": {
       "model_id": "d5fe6b46a1cd4469b6e2a5a722903b3f",
       "version_major": 2,
       "version_minor": 0
      },
      "text/plain": [
       "HBox(children=(FloatProgress(value=0.0, description='Rows', max=840.0, style=ProgressStyle(description_width='…"
      ]
     },
     "metadata": {},
     "output_type": "display_data"
    },
    {
     "name": "stdout",
     "output_type": "stream",
     "text": [
      "\n",
      "Upload complete\n",
      "data\\TimeSeriesDemo.csv uploaded to TimeSeriesDemo\n"
     ]
    },
    {
     "data": {
      "application/vnd.jupyter.widget-view+json": {
       "model_id": "b5ae2edc49eb448fa97ce4ef9ce15d5a",
       "version_major": 2,
       "version_minor": 0
      },
      "text/plain": [
       "HBox(children=(FloatProgress(value=0.0, description='Rows', max=80.0, style=ProgressStyle(description_width='i…"
      ]
     },
     "metadata": {},
     "output_type": "display_data"
    },
    {
     "name": "stdout",
     "output_type": "stream",
     "text": [
      "\n",
      "Upload complete\n",
      "data\\ti_data.csv uploaded to ti_data\n",
      "\n"
     ]
    }
   ],
   "source": [
    "spup.upload_folder(folder_path='data/', index_name='upload_demo')    "
   ]
  },
  {
   "cell_type": "code",
   "execution_count": null,
   "metadata": {},
   "outputs": [],
   "source": []
  }
 ],
 "metadata": {
  "kernelspec": {
   "display_name": "Python 3",
   "language": "python",
   "name": "python3"
  },
  "language_info": {
   "codemirror_mode": {
    "name": "ipython",
    "version": 3
   },
   "file_extension": ".py",
   "mimetype": "text/x-python",
   "name": "python",
   "nbconvert_exporter": "python",
   "pygments_lexer": "ipython3",
   "version": "3.6.10"
  },
  "widgets": {
   "application/vnd.jupyter.widget-state+json": {
    "state": {
     "02b45740665049809265521b8235f829": {
      "model_module": "@jupyter-widgets/controls",
      "model_module_version": "1.5.0",
      "model_name": "HTMLModel",
      "state": {
       "layout": "IPY_MODEL_efaf04cc33af40feab1bc607a5f7195a",
       "style": "IPY_MODEL_2f2b96534d1647b5ab7233f8be57c9ba",
       "value": " 840/840 [03:44&lt;00:00,  3.75it/s]"
      }
     },
     "0361b5dac8964c18ab76bf5263460823": {
      "model_module": "@jupyter-widgets/controls",
      "model_module_version": "1.5.0",
      "model_name": "FloatProgressModel",
      "state": {
       "bar_style": "success",
       "description": "Rows: 100%",
       "layout": "IPY_MODEL_97e77378c2cb40b58a1917a7fbdabdf5",
       "max": 78,
       "style": "IPY_MODEL_23749fb722574b8b80e8da0379f8c514",
       "value": 78
      }
     },
     "03dec81b70d84263b40b1fc4a4be5b7a": {
      "model_module": "@jupyter-widgets/controls",
      "model_module_version": "1.5.0",
      "model_name": "ProgressStyleModel",
      "state": {
       "description_width": "initial"
      }
     },
     "03e668920c1e40d3aecaffa04a6658ee": {
      "model_module": "@jupyter-widgets/base",
      "model_module_version": "1.2.0",
      "model_name": "LayoutModel",
      "state": {}
     },
     "08a1ce778a6f4dbdb4e0de55f1bd886e": {
      "model_module": "@jupyter-widgets/base",
      "model_module_version": "1.2.0",
      "model_name": "LayoutModel",
      "state": {}
     },
     "0efa9c664aff439faf3ae79d46d321de": {
      "model_module": "@jupyter-widgets/controls",
      "model_module_version": "1.5.0",
      "model_name": "ProgressStyleModel",
      "state": {
       "description_width": "initial"
      }
     },
     "1041e0902db048b78e323bc2b1454879": {
      "model_module": "@jupyter-widgets/controls",
      "model_module_version": "1.5.0",
      "model_name": "DescriptionStyleModel",
      "state": {
       "description_width": ""
      }
     },
     "11fb76a8d11049a6ad6de21d1fbef2c2": {
      "model_module": "@jupyter-widgets/base",
      "model_module_version": "1.2.0",
      "model_name": "LayoutModel",
      "state": {}
     },
     "1333661a39ce4b079af28eaab41287a5": {
      "model_module": "@jupyter-widgets/controls",
      "model_module_version": "1.5.0",
      "model_name": "ProgressStyleModel",
      "state": {
       "description_width": "initial"
      }
     },
     "140a61fa3eda4b1793f6f4f9aff7d847": {
      "model_module": "@jupyter-widgets/controls",
      "model_module_version": "1.5.0",
      "model_name": "HBoxModel",
      "state": {
       "children": [
        "IPY_MODEL_e207d28457cc43e09df981ca13404e1e",
        "IPY_MODEL_f57c74c37e59436d95ba490288d9938f"
       ],
       "layout": "IPY_MODEL_31f2cc6deba143499c8ebeba01fc6388"
      }
     },
     "14d86e700fad482da55d6c9f32db9d49": {
      "model_module": "@jupyter-widgets/controls",
      "model_module_version": "1.5.0",
      "model_name": "HBoxModel",
      "state": {
       "children": [
        "IPY_MODEL_42e1559205bd4adfae9c6ea7594d46e4",
        "IPY_MODEL_df11ce6b5d454593a3b09c4739a03445"
       ],
       "layout": "IPY_MODEL_7af1540e9a5e43eca575f6d4101a61d4"
      }
     },
     "159766315d1444a8a5afe16c5867ae29": {
      "model_module": "@jupyter-widgets/controls",
      "model_module_version": "1.5.0",
      "model_name": "ProgressStyleModel",
      "state": {
       "description_width": "initial"
      }
     },
     "16f40e8587ed42f58308f388f3f9487e": {
      "model_module": "@jupyter-widgets/controls",
      "model_module_version": "1.5.0",
      "model_name": "FloatProgressModel",
      "state": {
       "bar_style": "success",
       "description": "Rows: 100%",
       "layout": "IPY_MODEL_9548ec6ad8714a94b8a263cd4186c198",
       "max": 32,
       "style": "IPY_MODEL_f6c4936315ef48f699b9de7c2d5a2ad2",
       "value": 32
      }
     },
     "173b9239aa0d4880bd4ff95713e4af2c": {
      "model_module": "@jupyter-widgets/base",
      "model_module_version": "1.2.0",
      "model_name": "LayoutModel",
      "state": {}
     },
     "194a3c19f919426dad72153ceeb8920b": {
      "model_module": "@jupyter-widgets/controls",
      "model_module_version": "1.5.0",
      "model_name": "HTMLModel",
      "state": {
       "layout": "IPY_MODEL_a9710c04341f4c31a7c2148b81e3b7ac",
       "style": "IPY_MODEL_40f43d90007c450dbafffef6a92cc35c",
       "value": " 363/363 [04:14&lt;00:00,  1.42it/s]"
      }
     },
     "1a0ec05e12524a05bc77db3615b7bef8": {
      "model_module": "@jupyter-widgets/base",
      "model_module_version": "1.2.0",
      "model_name": "LayoutModel",
      "state": {}
     },
     "1ac74dd0b43d4e3d9e284739ee7cfd01": {
      "model_module": "@jupyter-widgets/controls",
      "model_module_version": "1.5.0",
      "model_name": "HTMLModel",
      "state": {
       "layout": "IPY_MODEL_675e3ed3c9014826b6465b62eb76ed75",
       "style": "IPY_MODEL_5cc36f2657cd4f378fa3f8fbc9cb1c87",
       "value": " 80/80 [00:05&lt;00:00, 14.97it/s]"
      }
     },
     "1b8e2186b9a14f82810cd906ef255131": {
      "model_module": "@jupyter-widgets/controls",
      "model_module_version": "1.5.0",
      "model_name": "ProgressStyleModel",
      "state": {
       "description_width": "initial"
      }
     },
     "1d7361f8ce0d43919009d9de76a194e9": {
      "model_module": "@jupyter-widgets/controls",
      "model_module_version": "1.5.0",
      "model_name": "HTMLModel",
      "state": {
       "layout": "IPY_MODEL_b6ea785b183d4822a10bf3dd48ae9350",
       "style": "IPY_MODEL_f8a78a63ba184f61b1933705b1d85978",
       "value": " 1334/1334 [01:26&lt;00:00, 15.37it/s]"
      }
     },
     "1ea09392e762426e98ceeb8596c5bc8e": {
      "model_module": "@jupyter-widgets/controls",
      "model_module_version": "1.5.0",
      "model_name": "HBoxModel",
      "state": {
       "children": [
        "IPY_MODEL_c25a6135ef304940b77a4f210850c32b",
        "IPY_MODEL_84c87d6ee0d849a491beaafc5cb7cfdf"
       ],
       "layout": "IPY_MODEL_c5e2225f59e84c90ac4508d64bf511b9"
      }
     },
     "1f2f8fb91bb4419cb6170f0a128c59c7": {
      "model_module": "@jupyter-widgets/controls",
      "model_module_version": "1.5.0",
      "model_name": "DescriptionStyleModel",
      "state": {
       "description_width": ""
      }
     },
     "1f6fdf5bb841454f9212973c1c44ffa4": {
      "model_module": "@jupyter-widgets/base",
      "model_module_version": "1.2.0",
      "model_name": "LayoutModel",
      "state": {}
     },
     "21965dac9d1145d29fb572d33cc8a0cc": {
      "model_module": "@jupyter-widgets/controls",
      "model_module_version": "1.5.0",
      "model_name": "HTMLModel",
      "state": {
       "layout": "IPY_MODEL_5de41ce9a0a943e699d79bf2f8914396",
       "style": "IPY_MODEL_e0cd9fb714a548f2a5213e0a3d8ac0fd",
       "value": " 78/78 [00:05&lt;00:00, 15.60it/s]"
      }
     },
     "22d989fb24374be78ce474564778add2": {
      "model_module": "@jupyter-widgets/base",
      "model_module_version": "1.2.0",
      "model_name": "LayoutModel",
      "state": {}
     },
     "2357fc573c9d45eaa43576f74e82cd71": {
      "model_module": "@jupyter-widgets/base",
      "model_module_version": "1.2.0",
      "model_name": "LayoutModel",
      "state": {}
     },
     "23749fb722574b8b80e8da0379f8c514": {
      "model_module": "@jupyter-widgets/controls",
      "model_module_version": "1.5.0",
      "model_name": "ProgressStyleModel",
      "state": {
       "description_width": "initial"
      }
     },
     "264cb34b9140465497fb85e334388aba": {
      "model_module": "@jupyter-widgets/controls",
      "model_module_version": "1.5.0",
      "model_name": "ProgressStyleModel",
      "state": {
       "description_width": "initial"
      }
     },
     "276dbe33abad408b9c9328f69fb0eb23": {
      "model_module": "@jupyter-widgets/controls",
      "model_module_version": "1.5.0",
      "model_name": "FloatProgressModel",
      "state": {
       "bar_style": "success",
       "description": "Rows: 100%",
       "layout": "IPY_MODEL_2b22d1fc8cfc40ff9b3c9eb10a055bd4",
       "max": 189,
       "style": "IPY_MODEL_c91985072daa4119996f01482ceb5747",
       "value": 189
      }
     },
     "27c946f5d1dd4443bce726ba39e58dbc": {
      "model_module": "@jupyter-widgets/controls",
      "model_module_version": "1.5.0",
      "model_name": "FloatProgressModel",
      "state": {
       "bar_style": "success",
       "description": "Files: 100%",
       "layout": "IPY_MODEL_2ae52b162abb4fe1b7864c8c3f3597ce",
       "max": 10,
       "style": "IPY_MODEL_0efa9c664aff439faf3ae79d46d321de",
       "value": 10
      }
     },
     "28585d6821d2461fa2217052d0602a50": {
      "model_module": "@jupyter-widgets/controls",
      "model_module_version": "1.5.0",
      "model_name": "HTMLModel",
      "state": {
       "layout": "IPY_MODEL_64ff9f02ae4540339516c669710cf1be",
       "style": "IPY_MODEL_1f2f8fb91bb4419cb6170f0a128c59c7",
       "value": " 14/14 [00:01&lt;00:00, 11.28it/s]"
      }
     },
     "2ae52b162abb4fe1b7864c8c3f3597ce": {
      "model_module": "@jupyter-widgets/base",
      "model_module_version": "1.2.0",
      "model_name": "LayoutModel",
      "state": {}
     },
     "2b22d1fc8cfc40ff9b3c9eb10a055bd4": {
      "model_module": "@jupyter-widgets/base",
      "model_module_version": "1.2.0",
      "model_name": "LayoutModel",
      "state": {}
     },
     "2eed1570f4164102920795ecd69b7ff2": {
      "model_module": "@jupyter-widgets/controls",
      "model_module_version": "1.5.0",
      "model_name": "FloatProgressModel",
      "state": {
       "bar_style": "success",
       "description": "Rows: 100%",
       "layout": "IPY_MODEL_ddca8dbe0b9f4c37bd6afb1beed4cc7d",
       "max": 460,
       "style": "IPY_MODEL_264cb34b9140465497fb85e334388aba",
       "value": 460
      }
     },
     "2f2b96534d1647b5ab7233f8be57c9ba": {
      "model_module": "@jupyter-widgets/controls",
      "model_module_version": "1.5.0",
      "model_name": "DescriptionStyleModel",
      "state": {
       "description_width": ""
      }
     },
     "31f2cc6deba143499c8ebeba01fc6388": {
      "model_module": "@jupyter-widgets/base",
      "model_module_version": "1.2.0",
      "model_name": "LayoutModel",
      "state": {}
     },
     "3357ff7859d843b9b4f6b61ba41cbbd0": {
      "model_module": "@jupyter-widgets/controls",
      "model_module_version": "1.5.0",
      "model_name": "ProgressStyleModel",
      "state": {
       "description_width": "initial"
      }
     },
     "34fb8d06f0654cfd84cd77538fcc989a": {
      "model_module": "@jupyter-widgets/controls",
      "model_module_version": "1.5.0",
      "model_name": "HTMLModel",
      "state": {
       "layout": "IPY_MODEL_c1e67be59b4b4deb8a2a9360b8f7448c",
       "style": "IPY_MODEL_8390627c2320431f9b72d9b299f75330",
       "value": " 87/87 [00:05&lt;00:00, 15.58it/s]"
      }
     },
     "3655bd95e053480288397b6768d063ee": {
      "model_module": "@jupyter-widgets/controls",
      "model_module_version": "1.5.0",
      "model_name": "HTMLModel",
      "state": {
       "layout": "IPY_MODEL_4ed8e8a5982a43229c3cc1eb38b2a9e2",
       "style": "IPY_MODEL_78005def787d45efa33334e111e27210",
       "value": " 840/840 [00:53&lt;00:00, 15.79it/s]"
      }
     },
     "38a85dd439f04bd6bbf466377415bda9": {
      "model_module": "@jupyter-widgets/base",
      "model_module_version": "1.2.0",
      "model_name": "LayoutModel",
      "state": {}
     },
     "396df1cc42364800a7ca2c5a42ef1782": {
      "model_module": "@jupyter-widgets/controls",
      "model_module_version": "1.5.0",
      "model_name": "ProgressStyleModel",
      "state": {
       "description_width": "initial"
      }
     },
     "397c970df26e41b5a0176a3b6f36ea80": {
      "model_module": "@jupyter-widgets/controls",
      "model_module_version": "1.5.0",
      "model_name": "DescriptionStyleModel",
      "state": {
       "description_width": ""
      }
     },
     "39bc728a95c74936b7a52e8bd1d2f348": {
      "model_module": "@jupyter-widgets/controls",
      "model_module_version": "1.5.0",
      "model_name": "ProgressStyleModel",
      "state": {
       "description_width": "initial"
      }
     },
     "3a5f5ae374f84beaaa491a6b7b72aadb": {
      "model_module": "@jupyter-widgets/controls",
      "model_module_version": "1.5.0",
      "model_name": "HTMLModel",
      "state": {
       "layout": "IPY_MODEL_7c9521c4104048e7ae18b91b561f3dbb",
       "style": "IPY_MODEL_c8d6f50c1e8f49e1b6ce1236d8384f81",
       "value": " 78/78 [03:49&lt;00:00,  2.94s/it]"
      }
     },
     "3b0ba906ccf344a8b535d74fd900b4e8": {
      "model_module": "@jupyter-widgets/base",
      "model_module_version": "1.2.0",
      "model_name": "LayoutModel",
      "state": {}
     },
     "3ca75f1f58954bb3969a5908692a6826": {
      "model_module": "@jupyter-widgets/controls",
      "model_module_version": "1.5.0",
      "model_name": "FloatProgressModel",
      "state": {
       "bar_style": "success",
       "description": "Rows: 100%",
       "layout": "IPY_MODEL_bac583c4cc674f1b8003dbbcfab24b2c",
       "max": 840,
       "style": "IPY_MODEL_39bc728a95c74936b7a52e8bd1d2f348",
       "value": 840
      }
     },
     "3d6b22f77af84452a0e76071e882df29": {
      "model_module": "@jupyter-widgets/base",
      "model_module_version": "1.2.0",
      "model_name": "LayoutModel",
      "state": {}
     },
     "3f64100ed1324aefb674e1797663e132": {
      "model_module": "@jupyter-widgets/controls",
      "model_module_version": "1.5.0",
      "model_name": "HTMLModel",
      "state": {
       "layout": "IPY_MODEL_a3bcc46af4ab445d9149d52bffe8fd36",
       "style": "IPY_MODEL_b4ac36ed5a9c4da2bb11aa5cea2f24b3",
       "value": " 460/460 [00:38&lt;00:00, 11.84it/s]"
      }
     },
     "4003106b2d0e4212a3e0e3d5b39bf3db": {
      "model_module": "@jupyter-widgets/controls",
      "model_module_version": "1.5.0",
      "model_name": "HTMLModel",
      "state": {
       "layout": "IPY_MODEL_6e1355e376564bb1a32a64c23890d38c",
       "style": "IPY_MODEL_ffd3f5098d524734bf7c4c5ef164369a",
       "value": " 9/10 [03:44&lt;00:25, 25.09s/it]"
      }
     },
     "40f43d90007c450dbafffef6a92cc35c": {
      "model_module": "@jupyter-widgets/controls",
      "model_module_version": "1.5.0",
      "model_name": "DescriptionStyleModel",
      "state": {
       "description_width": ""
      }
     },
     "42e1559205bd4adfae9c6ea7594d46e4": {
      "model_module": "@jupyter-widgets/controls",
      "model_module_version": "1.5.0",
      "model_name": "FloatProgressModel",
      "state": {
       "bar_style": "success",
       "description": "Rows: 100%",
       "layout": "IPY_MODEL_d10dd0e688864fe088c53aa15d6ffe77",
       "max": 32,
       "style": "IPY_MODEL_03dec81b70d84263b40b1fc4a4be5b7a",
       "value": 32
      }
     },
     "42f48565abb742809da0ecd48fc79f5f": {
      "model_module": "@jupyter-widgets/controls",
      "model_module_version": "1.5.0",
      "model_name": "FloatProgressModel",
      "state": {
       "bar_style": "success",
       "description": "Rows: 100%",
       "layout": "IPY_MODEL_3b0ba906ccf344a8b535d74fd900b4e8",
       "max": 14,
       "style": "IPY_MODEL_159766315d1444a8a5afe16c5867ae29",
       "value": 14
      }
     },
     "43b24291131045fe8b56a0371a412a44": {
      "model_module": "@jupyter-widgets/base",
      "model_module_version": "1.2.0",
      "model_name": "LayoutModel",
      "state": {}
     },
     "463b9e54968c40d287038f374480cb62": {
      "model_module": "@jupyter-widgets/controls",
      "model_module_version": "1.5.0",
      "model_name": "ProgressStyleModel",
      "state": {
       "description_width": "initial"
      }
     },
     "4770b13fafef4b93b7a3f03f8bd4417b": {
      "model_module": "@jupyter-widgets/controls",
      "model_module_version": "1.5.0",
      "model_name": "HBoxModel",
      "state": {
       "children": [
        "IPY_MODEL_c9b83fa598084d80af577bb27fd034d2",
        "IPY_MODEL_194a3c19f919426dad72153ceeb8920b"
       ],
       "layout": "IPY_MODEL_52de6f9671ac407c8861c706456adbcb"
      }
     },
     "47dd3b11f64c4693a7d5cd361935bcac": {
      "model_module": "@jupyter-widgets/base",
      "model_module_version": "1.2.0",
      "model_name": "LayoutModel",
      "state": {}
     },
     "4b1b59b22fbc49ae9f5103e676b684de": {
      "model_module": "@jupyter-widgets/controls",
      "model_module_version": "1.5.0",
      "model_name": "HBoxModel",
      "state": {
       "children": [
        "IPY_MODEL_16f40e8587ed42f58308f388f3f9487e",
        "IPY_MODEL_635e5dd3d3bb49e2b5901e4a01658b36"
       ],
       "layout": "IPY_MODEL_1a0ec05e12524a05bc77db3615b7bef8"
      }
     },
     "4bc41ebd7f9b41f19242c21a7db193fa": {
      "model_module": "@jupyter-widgets/controls",
      "model_module_version": "1.5.0",
      "model_name": "ProgressStyleModel",
      "state": {
       "description_width": "initial"
      }
     },
     "4c2b4715bd044c3397d23e4a395aee82": {
      "model_module": "@jupyter-widgets/base",
      "model_module_version": "1.2.0",
      "model_name": "LayoutModel",
      "state": {}
     },
     "4dd2ee0c2c464935a36489ca45ec6333": {
      "model_module": "@jupyter-widgets/base",
      "model_module_version": "1.2.0",
      "model_name": "LayoutModel",
      "state": {
       "width": "95%"
      }
     },
     "4ed8e8a5982a43229c3cc1eb38b2a9e2": {
      "model_module": "@jupyter-widgets/base",
      "model_module_version": "1.2.0",
      "model_name": "LayoutModel",
      "state": {}
     },
     "4f149e428be34d6c9a33eb971195dea7": {
      "model_module": "@jupyter-widgets/base",
      "model_module_version": "1.2.0",
      "model_name": "LayoutModel",
      "state": {}
     },
     "5165f2cdbff946edb9bd68fde11aa94a": {
      "model_module": "@jupyter-widgets/base",
      "model_module_version": "1.2.0",
      "model_name": "LayoutModel",
      "state": {}
     },
     "52de6f9671ac407c8861c706456adbcb": {
      "model_module": "@jupyter-widgets/base",
      "model_module_version": "1.2.0",
      "model_name": "LayoutModel",
      "state": {}
     },
     "54561406e2934ac6bc372dc2f4fadf5a": {
      "model_module": "@jupyter-widgets/base",
      "model_module_version": "1.2.0",
      "model_name": "LayoutModel",
      "state": {}
     },
     "56c8a58f26234be7b034153b114bf62e": {
      "model_module": "@jupyter-widgets/controls",
      "model_module_version": "1.5.0",
      "model_name": "HBoxModel",
      "state": {
       "children": [
        "IPY_MODEL_bd8550e7666e4d60b7d9b1f413aef3bc",
        "IPY_MODEL_34fb8d06f0654cfd84cd77538fcc989a"
       ],
       "layout": "IPY_MODEL_ba590746614e4fa0814884bb8ad0a265"
      }
     },
     "5a19752300054453971fd2aefa0a8739": {
      "model_module": "@jupyter-widgets/controls",
      "model_module_version": "1.5.0",
      "model_name": "FloatProgressModel",
      "state": {
       "description": "Files:  90%",
       "layout": "IPY_MODEL_54561406e2934ac6bc372dc2f4fadf5a",
       "max": 10,
       "style": "IPY_MODEL_a59a3cd4e50b49a4addcb6fc517f86d9",
       "value": 9
      }
     },
     "5c84bbbcbe08433e9bf99057376935d3": {
      "model_module": "@jupyter-widgets/controls",
      "model_module_version": "1.5.0",
      "model_name": "HBoxModel",
      "state": {
       "children": [
        "IPY_MODEL_5ef4a676974048e4869228c6a8c8d94e",
        "IPY_MODEL_967d0bfae2ff4b2a8f7b04bccabaf328"
       ],
       "layout": "IPY_MODEL_ebab9827e405413290e2e91429aff8e1"
      }
     },
     "5cc36f2657cd4f378fa3f8fbc9cb1c87": {
      "model_module": "@jupyter-widgets/controls",
      "model_module_version": "1.5.0",
      "model_name": "DescriptionStyleModel",
      "state": {
       "description_width": ""
      }
     },
     "5de41ce9a0a943e699d79bf2f8914396": {
      "model_module": "@jupyter-widgets/base",
      "model_module_version": "1.2.0",
      "model_name": "LayoutModel",
      "state": {}
     },
     "5ef4a676974048e4869228c6a8c8d94e": {
      "model_module": "@jupyter-widgets/controls",
      "model_module_version": "1.5.0",
      "model_name": "FloatProgressModel",
      "state": {
       "bar_style": "success",
       "description": "Rows: 100%",
       "layout": "IPY_MODEL_11fb76a8d11049a6ad6de21d1fbef2c2",
       "max": 14,
       "style": "IPY_MODEL_b96933aeb8cc48ff884ba0d4b2da36e9",
       "value": 14
      }
     },
     "600d55117061469ba64afa44a03d88d6": {
      "model_module": "@jupyter-widgets/controls",
      "model_module_version": "1.5.0",
      "model_name": "FloatProgressModel",
      "state": {
       "bar_style": "success",
       "description": "Rows: 100%",
       "layout": "IPY_MODEL_6e98608b18424f3db43546574414e37c",
       "max": 840,
       "style": "IPY_MODEL_1b8e2186b9a14f82810cd906ef255131",
       "value": 840
      }
     },
     "635e5dd3d3bb49e2b5901e4a01658b36": {
      "model_module": "@jupyter-widgets/controls",
      "model_module_version": "1.5.0",
      "model_name": "HTMLModel",
      "state": {
       "layout": "IPY_MODEL_de40cc617586479ba07f81f26fb2b8af",
       "style": "IPY_MODEL_f0b9f937a7ab4a20a86e7e87b04a914e",
       "value": " 32/32 [00:02&lt;00:00, 14.90it/s]"
      }
     },
     "64ccc57c6da749268ed99939242b481b": {
      "model_module": "@jupyter-widgets/base",
      "model_module_version": "1.2.0",
      "model_name": "LayoutModel",
      "state": {}
     },
     "64ff0436d66a44739c93acea9829d01a": {
      "model_module": "@jupyter-widgets/base",
      "model_module_version": "1.2.0",
      "model_name": "LayoutModel",
      "state": {}
     },
     "64ff9f02ae4540339516c669710cf1be": {
      "model_module": "@jupyter-widgets/base",
      "model_module_version": "1.2.0",
      "model_name": "LayoutModel",
      "state": {}
     },
     "657bc05e4a91451e99f9c6cdd07f1e6d": {
      "model_module": "@jupyter-widgets/base",
      "model_module_version": "1.2.0",
      "model_name": "LayoutModel",
      "state": {}
     },
     "675e3ed3c9014826b6465b62eb76ed75": {
      "model_module": "@jupyter-widgets/base",
      "model_module_version": "1.2.0",
      "model_name": "LayoutModel",
      "state": {}
     },
     "69fe71aee7e140209b88ccd8a270a4b0": {
      "model_module": "@jupyter-widgets/base",
      "model_module_version": "1.2.0",
      "model_name": "LayoutModel",
      "state": {}
     },
     "6ab01317c3484ddeb96df84d91600411": {
      "model_module": "@jupyter-widgets/controls",
      "model_module_version": "1.5.0",
      "model_name": "HTMLModel",
      "state": {
       "layout": "IPY_MODEL_64ccc57c6da749268ed99939242b481b",
       "style": "IPY_MODEL_913df681921b4a9bab266e137dfe6006",
       "value": " 87/87 [00:05&lt;00:00, 14.80it/s]"
      }
     },
     "6e1355e376564bb1a32a64c23890d38c": {
      "model_module": "@jupyter-widgets/base",
      "model_module_version": "1.2.0",
      "model_name": "LayoutModel",
      "state": {}
     },
     "6e98608b18424f3db43546574414e37c": {
      "model_module": "@jupyter-widgets/base",
      "model_module_version": "1.2.0",
      "model_name": "LayoutModel",
      "state": {}
     },
     "7202337b3abc4216a11fef62ebf6f6d7": {
      "model_module": "@jupyter-widgets/base",
      "model_module_version": "1.2.0",
      "model_name": "LayoutModel",
      "state": {}
     },
     "72cc483e8eeb456087a335c05cb17e25": {
      "model_module": "@jupyter-widgets/controls",
      "model_module_version": "1.5.0",
      "model_name": "FloatProgressModel",
      "state": {
       "bar_style": "success",
       "description": "Rows: 100%",
       "layout": "IPY_MODEL_f7d1aeb0fa164353bb42a1ac895a3b3f",
       "max": 1334,
       "style": "IPY_MODEL_df6cb3f96f4d4743990ed8ce42a7add6",
       "value": 1334
      }
     },
     "76a8427b7919484199701613f624d648": {
      "model_module": "@jupyter-widgets/controls",
      "model_module_version": "1.5.0",
      "model_name": "HBoxModel",
      "state": {
       "children": [
        "IPY_MODEL_276dbe33abad408b9c9328f69fb0eb23",
        "IPY_MODEL_96b583201ec74367bff5d18ccd093a2a"
       ],
       "layout": "IPY_MODEL_840da64738dc4ae586b97795be35355c"
      }
     },
     "77873d9e51c44549a441fcfcc8f8e4a4": {
      "model_module": "@jupyter-widgets/controls",
      "model_module_version": "1.5.0",
      "model_name": "FloatProgressModel",
      "state": {
       "bar_style": "success",
       "description": "Rows: 100%",
       "layout": "IPY_MODEL_9032dc96a590483d9b88e2aee295b132",
       "max": 460,
       "style": "IPY_MODEL_1333661a39ce4b079af28eaab41287a5",
       "value": 460
      }
     },
     "78005def787d45efa33334e111e27210": {
      "model_module": "@jupyter-widgets/controls",
      "model_module_version": "1.5.0",
      "model_name": "DescriptionStyleModel",
      "state": {
       "description_width": ""
      }
     },
     "7af1540e9a5e43eca575f6d4101a61d4": {
      "model_module": "@jupyter-widgets/base",
      "model_module_version": "1.2.0",
      "model_name": "LayoutModel",
      "state": {}
     },
     "7b6bec5403424259b23791440925ac96": {
      "model_module": "@jupyter-widgets/controls",
      "model_module_version": "1.5.0",
      "model_name": "HBoxModel",
      "state": {
       "children": [
        "IPY_MODEL_2eed1570f4164102920795ecd69b7ff2",
        "IPY_MODEL_e984ea2cb7964d6288687e6cc5c50800"
       ],
       "layout": "IPY_MODEL_c45b17ee33d94e3c978ad6b5b84ed069"
      }
     },
     "7c9521c4104048e7ae18b91b561f3dbb": {
      "model_module": "@jupyter-widgets/base",
      "model_module_version": "1.2.0",
      "model_name": "LayoutModel",
      "state": {}
     },
     "8177f98861ac4d3ba5ef0ca3926c4972": {
      "model_module": "@jupyter-widgets/controls",
      "model_module_version": "1.5.0",
      "model_name": "FloatProgressModel",
      "state": {
       "bar_style": "success",
       "description": "Rows: 100%",
       "layout": "IPY_MODEL_bd533b96a56d4dcdb0408b369a20d352",
       "max": 1334,
       "style": "IPY_MODEL_396df1cc42364800a7ca2c5a42ef1782",
       "value": 1334
      }
     },
     "8390627c2320431f9b72d9b299f75330": {
      "model_module": "@jupyter-widgets/controls",
      "model_module_version": "1.5.0",
      "model_name": "DescriptionStyleModel",
      "state": {
       "description_width": ""
      }
     },
     "840da64738dc4ae586b97795be35355c": {
      "model_module": "@jupyter-widgets/base",
      "model_module_version": "1.2.0",
      "model_name": "LayoutModel",
      "state": {}
     },
     "84ba3d2138a3446ca440c46d1308c899": {
      "model_module": "@jupyter-widgets/controls",
      "model_module_version": "1.5.0",
      "model_name": "FloatProgressModel",
      "state": {
       "bar_style": "success",
       "description": "Rows: 100%",
       "layout": "IPY_MODEL_173b9239aa0d4880bd4ff95713e4af2c",
       "max": 87,
       "style": "IPY_MODEL_463b9e54968c40d287038f374480cb62",
       "value": 87
      }
     },
     "84c87d6ee0d849a491beaafc5cb7cfdf": {
      "model_module": "@jupyter-widgets/controls",
      "model_module_version": "1.5.0",
      "model_name": "HTMLModel",
      "state": {
       "layout": "IPY_MODEL_03e668920c1e40d3aecaffa04a6658ee",
       "style": "IPY_MODEL_ba07bfebb6b54cac8172c31fd32cfd70",
       "value": " 363/363 [00:23&lt;00:00, 15.71it/s]"
      }
     },
     "85baf993117b444db1b15fa0e2c2a6e8": {
      "model_module": "@jupyter-widgets/controls",
      "model_module_version": "1.5.0",
      "model_name": "HBoxModel",
      "state": {
       "children": [
        "IPY_MODEL_600d55117061469ba64afa44a03d88d6",
        "IPY_MODEL_02b45740665049809265521b8235f829"
       ],
       "layout": "IPY_MODEL_657bc05e4a91451e99f9c6cdd07f1e6d"
      }
     },
     "866db7bcfb6c4c71978a0c7c8868da04": {
      "model_module": "@jupyter-widgets/base",
      "model_module_version": "1.2.0",
      "model_name": "LayoutModel",
      "state": {}
     },
     "8883f46484dd4422a48650f3e9c97f5a": {
      "model_module": "@jupyter-widgets/controls",
      "model_module_version": "1.5.0",
      "model_name": "FloatProgressModel",
      "state": {
       "description": "Rows:   8%",
       "layout": "IPY_MODEL_64ff0436d66a44739c93acea9829d01a",
       "max": 80,
       "style": "IPY_MODEL_b275fb82adc049a1a1c74c86a5c2aee5",
       "value": 6
      }
     },
     "898a8453465c4787af104d53f0be1f55": {
      "model_module": "@jupyter-widgets/base",
      "model_module_version": "1.2.0",
      "model_name": "LayoutModel",
      "state": {}
     },
     "8b2419ab6c664815ac03190752044e98": {
      "model_module": "@jupyter-widgets/controls",
      "model_module_version": "1.5.0",
      "model_name": "ProgressStyleModel",
      "state": {
       "description_width": "initial"
      }
     },
     "8fca5b6eb64f425f83755aaed05ebb58": {
      "model_module": "@jupyter-widgets/controls",
      "model_module_version": "1.5.0",
      "model_name": "DescriptionStyleModel",
      "state": {
       "description_width": ""
      }
     },
     "9032dc96a590483d9b88e2aee295b132": {
      "model_module": "@jupyter-widgets/base",
      "model_module_version": "1.2.0",
      "model_name": "LayoutModel",
      "state": {}
     },
     "913df681921b4a9bab266e137dfe6006": {
      "model_module": "@jupyter-widgets/controls",
      "model_module_version": "1.5.0",
      "model_name": "DescriptionStyleModel",
      "state": {
       "description_width": ""
      }
     },
     "9548ec6ad8714a94b8a263cd4186c198": {
      "model_module": "@jupyter-widgets/base",
      "model_module_version": "1.2.0",
      "model_name": "LayoutModel",
      "state": {}
     },
     "967d0bfae2ff4b2a8f7b04bccabaf328": {
      "model_module": "@jupyter-widgets/controls",
      "model_module_version": "1.5.0",
      "model_name": "HTMLModel",
      "state": {
       "layout": "IPY_MODEL_d728fc6a87be4dcba8900e2c1f4a07f0",
       "style": "IPY_MODEL_e492ad81861d4150a6a2d4353655f119",
       "value": " 14/14 [00:02&lt;00:00,  6.54it/s]"
      }
     },
     "96b583201ec74367bff5d18ccd093a2a": {
      "model_module": "@jupyter-widgets/controls",
      "model_module_version": "1.5.0",
      "model_name": "HTMLModel",
      "state": {
       "layout": "IPY_MODEL_4f149e428be34d6c9a33eb971195dea7",
       "style": "IPY_MODEL_b96dec2eed3740d4a15d0b94dd293f63",
       "value": " 189/189 [02:09&lt;00:00,  1.46it/s]"
      }
     },
     "97e77378c2cb40b58a1917a7fbdabdf5": {
      "model_module": "@jupyter-widgets/base",
      "model_module_version": "1.2.0",
      "model_name": "LayoutModel",
      "state": {}
     },
     "9c2815e4ba9d47c29b73196207d1d517": {
      "model_module": "@jupyter-widgets/controls",
      "model_module_version": "1.5.0",
      "model_name": "DescriptionStyleModel",
      "state": {
       "description_width": ""
      }
     },
     "9d7ac2112317449eb1b2db4a4fca2de6": {
      "model_module": "@jupyter-widgets/base",
      "model_module_version": "1.2.0",
      "model_name": "LayoutModel",
      "state": {}
     },
     "9e8ddf5472034ac6b0e0f295773352ef": {
      "model_module": "@jupyter-widgets/base",
      "model_module_version": "1.2.0",
      "model_name": "LayoutModel",
      "state": {}
     },
     "a16fd095dbd64a17a26dc9ab55344435": {
      "model_module": "@jupyter-widgets/controls",
      "model_module_version": "1.5.0",
      "model_name": "HBoxModel",
      "state": {
       "children": [
        "IPY_MODEL_ee16810a4342476caf1bf4fec9466e45",
        "IPY_MODEL_3a5f5ae374f84beaaa491a6b7b72aadb"
       ],
       "layout": "IPY_MODEL_af432c49fca84ead91ba76f599f62863"
      }
     },
     "a1f0580b4198455489077f1e38d78c63": {
      "model_module": "@jupyter-widgets/base",
      "model_module_version": "1.2.0",
      "model_name": "LayoutModel",
      "state": {}
     },
     "a3bcc46af4ab445d9149d52bffe8fd36": {
      "model_module": "@jupyter-widgets/base",
      "model_module_version": "1.2.0",
      "model_name": "LayoutModel",
      "state": {}
     },
     "a44436d2868d49c6a32c0c62a2367b72": {
      "model_module": "@jupyter-widgets/base",
      "model_module_version": "1.2.0",
      "model_name": "LayoutModel",
      "state": {}
     },
     "a5675ed19c134f378731efdb7084c606": {
      "model_module": "@jupyter-widgets/controls",
      "model_module_version": "1.5.0",
      "model_name": "DescriptionStyleModel",
      "state": {
       "description_width": ""
      }
     },
     "a59a3cd4e50b49a4addcb6fc517f86d9": {
      "model_module": "@jupyter-widgets/controls",
      "model_module_version": "1.5.0",
      "model_name": "ProgressStyleModel",
      "state": {
       "description_width": "initial"
      }
     },
     "a784f2c086bc499bbc16366bf1d71155": {
      "model_module": "@jupyter-widgets/base",
      "model_module_version": "1.2.0",
      "model_name": "LayoutModel",
      "state": {}
     },
     "a95557002b684f5da29ac35261e399c9": {
      "model_module": "@jupyter-widgets/controls",
      "model_module_version": "1.5.0",
      "model_name": "FloatProgressModel",
      "state": {
       "bar_style": "success",
       "description": "Rows: 100%",
       "layout": "IPY_MODEL_898a8453465c4787af104d53f0be1f55",
       "max": 189,
       "style": "IPY_MODEL_3357ff7859d843b9b4f6b61ba41cbbd0",
       "value": 189
      }
     },
     "a9710c04341f4c31a7c2148b81e3b7ac": {
      "model_module": "@jupyter-widgets/base",
      "model_module_version": "1.2.0",
      "model_name": "LayoutModel",
      "state": {}
     },
     "af432c49fca84ead91ba76f599f62863": {
      "model_module": "@jupyter-widgets/base",
      "model_module_version": "1.2.0",
      "model_name": "LayoutModel",
      "state": {}
     },
     "b0d15c92bed44adcaff8c9a33faee14a": {
      "model_module": "@jupyter-widgets/controls",
      "model_module_version": "1.5.0",
      "model_name": "ProgressStyleModel",
      "state": {
       "description_width": "initial"
      }
     },
     "b13fbc6393a4412fa2db7ba1382178e0": {
      "model_module": "@jupyter-widgets/controls",
      "model_module_version": "1.5.0",
      "model_name": "HBoxModel",
      "state": {
       "children": [
        "IPY_MODEL_72cc483e8eeb456087a335c05cb17e25",
        "IPY_MODEL_1d7361f8ce0d43919009d9de76a194e9"
       ],
       "layout": "IPY_MODEL_38a85dd439f04bd6bbf466377415bda9"
      }
     },
     "b275fb82adc049a1a1c74c86a5c2aee5": {
      "model_module": "@jupyter-widgets/controls",
      "model_module_version": "1.5.0",
      "model_name": "ProgressStyleModel",
      "state": {
       "description_width": "initial"
      }
     },
     "b2d00b86c9a44d4eb2c878a27e3b0a05": {
      "model_module": "@jupyter-widgets/controls",
      "model_module_version": "1.5.0",
      "model_name": "ProgressStyleModel",
      "state": {
       "description_width": "initial"
      }
     },
     "b3675b6f71ef4d1d9210721a4d1063cf": {
      "model_module": "@jupyter-widgets/base",
      "model_module_version": "1.2.0",
      "model_name": "LayoutModel",
      "state": {}
     },
     "b3bd36f957074d01bf0aaf853ef3f13e": {
      "model_module": "@jupyter-widgets/controls",
      "model_module_version": "1.5.0",
      "model_name": "HBoxModel",
      "state": {
       "children": [
        "IPY_MODEL_77873d9e51c44549a441fcfcc8f8e4a4",
        "IPY_MODEL_f874f9a4236c4e129f2a2ff7a52bbdae"
       ],
       "layout": "IPY_MODEL_08a1ce778a6f4dbdb4e0de55f1bd886e"
      }
     },
     "b3e02d106f6148d5af09b957526e0974": {
      "model_module": "@jupyter-widgets/controls",
      "model_module_version": "1.5.0",
      "model_name": "ProgressStyleModel",
      "state": {
       "description_width": "initial"
      }
     },
     "b4ac36ed5a9c4da2bb11aa5cea2f24b3": {
      "model_module": "@jupyter-widgets/controls",
      "model_module_version": "1.5.0",
      "model_name": "DescriptionStyleModel",
      "state": {
       "description_width": ""
      }
     },
     "b5ae2edc49eb448fa97ce4ef9ce15d5a": {
      "model_module": "@jupyter-widgets/controls",
      "model_module_version": "1.5.0",
      "model_name": "HBoxModel",
      "state": {
       "children": [
        "IPY_MODEL_e7f1c85b505a433bb636facf5041dfb4",
        "IPY_MODEL_1ac74dd0b43d4e3d9e284739ee7cfd01"
       ],
       "layout": "IPY_MODEL_5165f2cdbff946edb9bd68fde11aa94a"
      }
     },
     "b6ea785b183d4822a10bf3dd48ae9350": {
      "model_module": "@jupyter-widgets/base",
      "model_module_version": "1.2.0",
      "model_name": "LayoutModel",
      "state": {}
     },
     "b71705065ec94d56a3c3492a482cabe1": {
      "model_module": "@jupyter-widgets/controls",
      "model_module_version": "1.5.0",
      "model_name": "FloatProgressModel",
      "state": {
       "bar_style": "success",
       "description": "Rows: 100%",
       "layout": "IPY_MODEL_e8e037e01f024b9ca577b80c638964fe",
       "max": 460,
       "style": "IPY_MODEL_b3e02d106f6148d5af09b957526e0974",
       "value": 460
      }
     },
     "b96933aeb8cc48ff884ba0d4b2da36e9": {
      "model_module": "@jupyter-widgets/controls",
      "model_module_version": "1.5.0",
      "model_name": "ProgressStyleModel",
      "state": {
       "description_width": "initial"
      }
     },
     "b96dec2eed3740d4a15d0b94dd293f63": {
      "model_module": "@jupyter-widgets/controls",
      "model_module_version": "1.5.0",
      "model_name": "DescriptionStyleModel",
      "state": {
       "description_width": ""
      }
     },
     "ba07bfebb6b54cac8172c31fd32cfd70": {
      "model_module": "@jupyter-widgets/controls",
      "model_module_version": "1.5.0",
      "model_name": "DescriptionStyleModel",
      "state": {
       "description_width": ""
      }
     },
     "ba139fa3842a41e9a569481e4b539ae2": {
      "model_module": "@jupyter-widgets/controls",
      "model_module_version": "1.5.0",
      "model_name": "HBoxModel",
      "state": {
       "children": [
        "IPY_MODEL_42f48565abb742809da0ecd48fc79f5f",
        "IPY_MODEL_28585d6821d2461fa2217052d0602a50"
       ],
       "layout": "IPY_MODEL_3d6b22f77af84452a0e76071e882df29"
      }
     },
     "ba590746614e4fa0814884bb8ad0a265": {
      "model_module": "@jupyter-widgets/base",
      "model_module_version": "1.2.0",
      "model_name": "LayoutModel",
      "state": {}
     },
     "bac583c4cc674f1b8003dbbcfab24b2c": {
      "model_module": "@jupyter-widgets/base",
      "model_module_version": "1.2.0",
      "model_name": "LayoutModel",
      "state": {}
     },
     "bc3615f62e6a4435ab094992191d0ac2": {
      "model_module": "@jupyter-widgets/controls",
      "model_module_version": "1.5.0",
      "model_name": "HBoxModel",
      "state": {
       "children": [
        "IPY_MODEL_a95557002b684f5da29ac35261e399c9",
        "IPY_MODEL_cf7ae249a5404b318195f12d8e8ef4f3"
       ],
       "layout": "IPY_MODEL_22d989fb24374be78ce474564778add2"
      }
     },
     "bd533b96a56d4dcdb0408b369a20d352": {
      "model_module": "@jupyter-widgets/base",
      "model_module_version": "1.2.0",
      "model_name": "LayoutModel",
      "state": {}
     },
     "bd8550e7666e4d60b7d9b1f413aef3bc": {
      "model_module": "@jupyter-widgets/controls",
      "model_module_version": "1.5.0",
      "model_name": "FloatProgressModel",
      "state": {
       "bar_style": "success",
       "description": "Rows: 100%",
       "layout": "IPY_MODEL_69fe71aee7e140209b88ccd8a270a4b0",
       "max": 87,
       "style": "IPY_MODEL_b2d00b86c9a44d4eb2c878a27e3b0a05",
       "value": 87
      }
     },
     "c09d8eb618b34e30a3690e213021c1d9": {
      "model_module": "@jupyter-widgets/controls",
      "model_module_version": "1.5.0",
      "model_name": "HBoxModel",
      "state": {
       "children": [
        "IPY_MODEL_8883f46484dd4422a48650f3e9c97f5a",
        "IPY_MODEL_fcc42758a0c344dbac6e5a8da0aa1555"
       ],
       "layout": "IPY_MODEL_b3675b6f71ef4d1d9210721a4d1063cf"
      }
     },
     "c0b97fd44dba46b1b12e17dcf6646689": {
      "model_module": "@jupyter-widgets/controls",
      "model_module_version": "1.5.0",
      "model_name": "HBoxModel",
      "state": {
       "children": [
        "IPY_MODEL_5a19752300054453971fd2aefa0a8739",
        "IPY_MODEL_4003106b2d0e4212a3e0e3d5b39bf3db"
       ],
       "layout": "IPY_MODEL_cc9c56e1a2d5451faff9c52adc36c04b"
      }
     },
     "c14d844912b84b86a0c0c71cbfb4c8bc": {
      "model_module": "@jupyter-widgets/base",
      "model_module_version": "1.2.0",
      "model_name": "LayoutModel",
      "state": {}
     },
     "c1e67be59b4b4deb8a2a9360b8f7448c": {
      "model_module": "@jupyter-widgets/base",
      "model_module_version": "1.2.0",
      "model_name": "LayoutModel",
      "state": {}
     },
     "c25a6135ef304940b77a4f210850c32b": {
      "model_module": "@jupyter-widgets/controls",
      "model_module_version": "1.5.0",
      "model_name": "FloatProgressModel",
      "state": {
       "bar_style": "success",
       "description": "Rows: 100%",
       "layout": "IPY_MODEL_a784f2c086bc499bbc16366bf1d71155",
       "max": 363,
       "style": "IPY_MODEL_d15c5fc03aa943efa224604cc4aff3cd",
       "value": 363
      }
     },
     "c2865de463764c7db4981230cf7b7905": {
      "model_module": "@jupyter-widgets/base",
      "model_module_version": "1.2.0",
      "model_name": "LayoutModel",
      "state": {}
     },
     "c40c6af158074f0b82e6583ac663c3ee": {
      "model_module": "@jupyter-widgets/base",
      "model_module_version": "1.2.0",
      "model_name": "LayoutModel",
      "state": {}
     },
     "c45b17ee33d94e3c978ad6b5b84ed069": {
      "model_module": "@jupyter-widgets/base",
      "model_module_version": "1.2.0",
      "model_name": "LayoutModel",
      "state": {}
     },
     "c4a68fe157c2469fbaa0007b2ce6bc2a": {
      "model_module": "@jupyter-widgets/base",
      "model_module_version": "1.2.0",
      "model_name": "LayoutModel",
      "state": {}
     },
     "c5cf506cd7764c9fbd235c45dcb1f16d": {
      "model_module": "@jupyter-widgets/controls",
      "model_module_version": "1.5.0",
      "model_name": "HTMLModel",
      "state": {
       "layout": "IPY_MODEL_c40c6af158074f0b82e6583ac663c3ee",
       "style": "IPY_MODEL_a5675ed19c134f378731efdb7084c606",
       "value": " 10/10 [03:46&lt;00:00, 22.68s/it]"
      }
     },
     "c5e2225f59e84c90ac4508d64bf511b9": {
      "model_module": "@jupyter-widgets/base",
      "model_module_version": "1.2.0",
      "model_name": "LayoutModel",
      "state": {}
     },
     "c61a9f984e4e4ec5a8a26eaf6922206c": {
      "model_module": "@jupyter-widgets/controls",
      "model_module_version": "1.5.0",
      "model_name": "DescriptionStyleModel",
      "state": {
       "description_width": ""
      }
     },
     "c8d6f50c1e8f49e1b6ce1236d8384f81": {
      "model_module": "@jupyter-widgets/controls",
      "model_module_version": "1.5.0",
      "model_name": "DescriptionStyleModel",
      "state": {
       "description_width": ""
      }
     },
     "c91985072daa4119996f01482ceb5747": {
      "model_module": "@jupyter-widgets/controls",
      "model_module_version": "1.5.0",
      "model_name": "ProgressStyleModel",
      "state": {
       "description_width": "initial"
      }
     },
     "c9b83fa598084d80af577bb27fd034d2": {
      "model_module": "@jupyter-widgets/controls",
      "model_module_version": "1.5.0",
      "model_name": "FloatProgressModel",
      "state": {
       "bar_style": "success",
       "description": "Rows: 100%",
       "layout": "IPY_MODEL_c2865de463764c7db4981230cf7b7905",
       "max": 363,
       "style": "IPY_MODEL_4bc41ebd7f9b41f19242c21a7db193fa",
       "value": 363
      }
     },
     "cbea93e5c3c14d14b068f3ab2c30172e": {
      "model_module": "@jupyter-widgets/base",
      "model_module_version": "1.2.0",
      "model_name": "LayoutModel",
      "state": {}
     },
     "cc9c56e1a2d5451faff9c52adc36c04b": {
      "model_module": "@jupyter-widgets/base",
      "model_module_version": "1.2.0",
      "model_name": "LayoutModel",
      "state": {}
     },
     "cf7ae249a5404b318195f12d8e8ef4f3": {
      "model_module": "@jupyter-widgets/controls",
      "model_module_version": "1.5.0",
      "model_name": "HTMLModel",
      "state": {
       "layout": "IPY_MODEL_f1d7e07043bd4f8cb3b532bac2a4b3af",
       "style": "IPY_MODEL_e29671ea14794f93aa7bafa87d1ac1dc",
       "value": " 189/189 [06:34&lt;00:00,  2.09s/it]"
      }
     },
     "d10dd0e688864fe088c53aa15d6ffe77": {
      "model_module": "@jupyter-widgets/base",
      "model_module_version": "1.2.0",
      "model_name": "LayoutModel",
      "state": {}
     },
     "d15c5fc03aa943efa224604cc4aff3cd": {
      "model_module": "@jupyter-widgets/controls",
      "model_module_version": "1.5.0",
      "model_name": "ProgressStyleModel",
      "state": {
       "description_width": "initial"
      }
     },
     "d290da5b6b8c46f9944edab0491ab6f8": {
      "model_module": "@jupyter-widgets/controls",
      "model_module_version": "1.5.0",
      "model_name": "HBoxModel",
      "state": {
       "children": [
        "IPY_MODEL_8177f98861ac4d3ba5ef0ca3926c4972",
        "IPY_MODEL_fc3a3e0aa94f4b9c9a98bae23f93abed"
       ],
       "layout": "IPY_MODEL_7202337b3abc4216a11fef62ebf6f6d7"
      }
     },
     "d357e8d4f1804e1783055190e70eed65": {
      "model_module": "@jupyter-widgets/controls",
      "model_module_version": "1.5.0",
      "model_name": "HBoxModel",
      "state": {
       "children": [
        "IPY_MODEL_27c946f5d1dd4443bce726ba39e58dbc",
        "IPY_MODEL_c5cf506cd7764c9fbd235c45dcb1f16d"
       ],
       "layout": "IPY_MODEL_4c2b4715bd044c3397d23e4a395aee82"
      }
     },
     "d3d709921610441d85631a8c39849a7c": {
      "model_module": "@jupyter-widgets/base",
      "model_module_version": "1.2.0",
      "model_name": "LayoutModel",
      "state": {
       "width": "95%"
      }
     },
     "d5fe6b46a1cd4469b6e2a5a722903b3f": {
      "model_module": "@jupyter-widgets/controls",
      "model_module_version": "1.5.0",
      "model_name": "HBoxModel",
      "state": {
       "children": [
        "IPY_MODEL_3ca75f1f58954bb3969a5908692a6826",
        "IPY_MODEL_3655bd95e053480288397b6768d063ee"
       ],
       "layout": "IPY_MODEL_47dd3b11f64c4693a7d5cd361935bcac"
      }
     },
     "d728fc6a87be4dcba8900e2c1f4a07f0": {
      "model_module": "@jupyter-widgets/base",
      "model_module_version": "1.2.0",
      "model_name": "LayoutModel",
      "state": {}
     },
     "ddca8dbe0b9f4c37bd6afb1beed4cc7d": {
      "model_module": "@jupyter-widgets/base",
      "model_module_version": "1.2.0",
      "model_name": "LayoutModel",
      "state": {}
     },
     "ddff8363c92740c68e9d2892f74e9ef3": {
      "model_module": "@jupyter-widgets/controls",
      "model_module_version": "1.5.0",
      "model_name": "HBoxModel",
      "state": {
       "children": [
        "IPY_MODEL_84ba3d2138a3446ca440c46d1308c899",
        "IPY_MODEL_6ab01317c3484ddeb96df84d91600411"
       ],
       "layout": "IPY_MODEL_c4a68fe157c2469fbaa0007b2ce6bc2a"
      }
     },
     "de40cc617586479ba07f81f26fb2b8af": {
      "model_module": "@jupyter-widgets/base",
      "model_module_version": "1.2.0",
      "model_name": "LayoutModel",
      "state": {}
     },
     "df11ce6b5d454593a3b09c4739a03445": {
      "model_module": "@jupyter-widgets/controls",
      "model_module_version": "1.5.0",
      "model_name": "HTMLModel",
      "state": {
       "layout": "IPY_MODEL_dfb8be07b57142459e31fbcf96020219",
       "style": "IPY_MODEL_1041e0902db048b78e323bc2b1454879",
       "value": " 32/32 [00:02&lt;00:00, 14.57it/s]"
      }
     },
     "df6cb3f96f4d4743990ed8ce42a7add6": {
      "model_module": "@jupyter-widgets/controls",
      "model_module_version": "1.5.0",
      "model_name": "ProgressStyleModel",
      "state": {
       "description_width": "initial"
      }
     },
     "dfb8be07b57142459e31fbcf96020219": {
      "model_module": "@jupyter-widgets/base",
      "model_module_version": "1.2.0",
      "model_name": "LayoutModel",
      "state": {}
     },
     "e0cd9fb714a548f2a5213e0a3d8ac0fd": {
      "model_module": "@jupyter-widgets/controls",
      "model_module_version": "1.5.0",
      "model_name": "DescriptionStyleModel",
      "state": {
       "description_width": ""
      }
     },
     "e207d28457cc43e09df981ca13404e1e": {
      "model_module": "@jupyter-widgets/controls",
      "model_module_version": "1.5.0",
      "model_name": "FloatProgressModel",
      "state": {
       "bar_style": "success",
       "description": "Rows: 100%",
       "layout": "IPY_MODEL_c14d844912b84b86a0c0c71cbfb4c8bc",
       "max": 189,
       "style": "IPY_MODEL_f66a3a28f4ad411990ee59c8db43fa95",
       "value": 189
      }
     },
     "e29671ea14794f93aa7bafa87d1ac1dc": {
      "model_module": "@jupyter-widgets/controls",
      "model_module_version": "1.5.0",
      "model_name": "DescriptionStyleModel",
      "state": {
       "description_width": ""
      }
     },
     "e492ad81861d4150a6a2d4353655f119": {
      "model_module": "@jupyter-widgets/controls",
      "model_module_version": "1.5.0",
      "model_name": "DescriptionStyleModel",
      "state": {
       "description_width": ""
      }
     },
     "e7f1c85b505a433bb636facf5041dfb4": {
      "model_module": "@jupyter-widgets/controls",
      "model_module_version": "1.5.0",
      "model_name": "FloatProgressModel",
      "state": {
       "bar_style": "success",
       "description": "Rows: 100%",
       "layout": "IPY_MODEL_1f6fdf5bb841454f9212973c1c44ffa4",
       "max": 80,
       "style": "IPY_MODEL_8b2419ab6c664815ac03190752044e98",
       "value": 80
      }
     },
     "e8e037e01f024b9ca577b80c638964fe": {
      "model_module": "@jupyter-widgets/base",
      "model_module_version": "1.2.0",
      "model_name": "LayoutModel",
      "state": {}
     },
     "e984ea2cb7964d6288687e6cc5c50800": {
      "model_module": "@jupyter-widgets/controls",
      "model_module_version": "1.5.0",
      "model_name": "HTMLModel",
      "state": {
       "layout": "IPY_MODEL_a44436d2868d49c6a32c0c62a2367b72",
       "style": "IPY_MODEL_c61a9f984e4e4ec5a8a26eaf6922206c",
       "value": " 460/460 [01:56&lt;00:00,  3.93it/s]"
      }
     },
     "ebab9827e405413290e2e91429aff8e1": {
      "model_module": "@jupyter-widgets/base",
      "model_module_version": "1.2.0",
      "model_name": "LayoutModel",
      "state": {}
     },
     "ee16810a4342476caf1bf4fec9466e45": {
      "model_module": "@jupyter-widgets/controls",
      "model_module_version": "1.5.0",
      "model_name": "FloatProgressModel",
      "state": {
       "bar_style": "success",
       "description": "Rows: 100%",
       "layout": "IPY_MODEL_866db7bcfb6c4c71978a0c7c8868da04",
       "max": 78,
       "style": "IPY_MODEL_b0d15c92bed44adcaff8c9a33faee14a",
       "value": 78
      }
     },
     "efaf04cc33af40feab1bc607a5f7195a": {
      "model_module": "@jupyter-widgets/base",
      "model_module_version": "1.2.0",
      "model_name": "LayoutModel",
      "state": {}
     },
     "f0b9f937a7ab4a20a86e7e87b04a914e": {
      "model_module": "@jupyter-widgets/controls",
      "model_module_version": "1.5.0",
      "model_name": "DescriptionStyleModel",
      "state": {
       "description_width": ""
      }
     },
     "f1bda0f665da4e449fbc172f02955e59": {
      "model_module": "@jupyter-widgets/controls",
      "model_module_version": "1.5.0",
      "model_name": "HBoxModel",
      "state": {
       "children": [
        "IPY_MODEL_b71705065ec94d56a3c3492a482cabe1",
        "IPY_MODEL_3f64100ed1324aefb674e1797663e132"
       ],
       "layout": "IPY_MODEL_9e8ddf5472034ac6b0e0f295773352ef"
      }
     },
     "f1d7e07043bd4f8cb3b532bac2a4b3af": {
      "model_module": "@jupyter-widgets/base",
      "model_module_version": "1.2.0",
      "model_name": "LayoutModel",
      "state": {}
     },
     "f57c74c37e59436d95ba490288d9938f": {
      "model_module": "@jupyter-widgets/controls",
      "model_module_version": "1.5.0",
      "model_name": "HTMLModel",
      "state": {
       "layout": "IPY_MODEL_2357fc573c9d45eaa43576f74e82cd71",
       "style": "IPY_MODEL_397c970df26e41b5a0176a3b6f36ea80",
       "value": " 189/189 [10:32&lt;00:00,  3.35s/it]"
      }
     },
     "f66a3a28f4ad411990ee59c8db43fa95": {
      "model_module": "@jupyter-widgets/controls",
      "model_module_version": "1.5.0",
      "model_name": "ProgressStyleModel",
      "state": {
       "description_width": "initial"
      }
     },
     "f6c4936315ef48f699b9de7c2d5a2ad2": {
      "model_module": "@jupyter-widgets/controls",
      "model_module_version": "1.5.0",
      "model_name": "ProgressStyleModel",
      "state": {
       "description_width": "initial"
      }
     },
     "f7d1aeb0fa164353bb42a1ac895a3b3f": {
      "model_module": "@jupyter-widgets/base",
      "model_module_version": "1.2.0",
      "model_name": "LayoutModel",
      "state": {}
     },
     "f874f9a4236c4e129f2a2ff7a52bbdae": {
      "model_module": "@jupyter-widgets/controls",
      "model_module_version": "1.5.0",
      "model_name": "HTMLModel",
      "state": {
       "layout": "IPY_MODEL_9d7ac2112317449eb1b2db4a4fca2de6",
       "style": "IPY_MODEL_9c2815e4ba9d47c29b73196207d1d517",
       "value": " 460/460 [06:22&lt;00:00,  1.20it/s]"
      }
     },
     "f8a78a63ba184f61b1933705b1d85978": {
      "model_module": "@jupyter-widgets/controls",
      "model_module_version": "1.5.0",
      "model_name": "DescriptionStyleModel",
      "state": {
       "description_width": ""
      }
     },
     "fa1c65218bf04ecfa217662aac681cbd": {
      "model_module": "@jupyter-widgets/controls",
      "model_module_version": "1.5.0",
      "model_name": "DescriptionStyleModel",
      "state": {
       "description_width": ""
      }
     },
     "fc3a3e0aa94f4b9c9a98bae23f93abed": {
      "model_module": "@jupyter-widgets/controls",
      "model_module_version": "1.5.0",
      "model_name": "HTMLModel",
      "state": {
       "layout": "IPY_MODEL_cbea93e5c3c14d14b068f3ab2c30172e",
       "style": "IPY_MODEL_fa1c65218bf04ecfa217662aac681cbd",
       "value": " 1334/1334 [05:52&lt;00:00,  3.79it/s]"
      }
     },
     "fcc42758a0c344dbac6e5a8da0aa1555": {
      "model_module": "@jupyter-widgets/controls",
      "model_module_version": "1.5.0",
      "model_name": "HTMLModel",
      "state": {
       "layout": "IPY_MODEL_a1f0580b4198455489077f1e38d78c63",
       "style": "IPY_MODEL_8fca5b6eb64f425f83755aaed05ebb58",
       "value": " 6/80 [00:00&lt;00:05, 14.46it/s]"
      }
     },
     "ff7221ded09a4b698567e9335ca12de2": {
      "model_module": "@jupyter-widgets/controls",
      "model_module_version": "1.5.0",
      "model_name": "HBoxModel",
      "state": {
       "children": [
        "IPY_MODEL_0361b5dac8964c18ab76bf5263460823",
        "IPY_MODEL_21965dac9d1145d29fb572d33cc8a0cc"
       ],
       "layout": "IPY_MODEL_43b24291131045fe8b56a0371a412a44"
      }
     },
     "ffd3f5098d524734bf7c4c5ef164369a": {
      "model_module": "@jupyter-widgets/controls",
      "model_module_version": "1.5.0",
      "model_name": "DescriptionStyleModel",
      "state": {
       "description_width": ""
      }
     }
    },
    "version_major": 2,
    "version_minor": 0
   }
  }
 },
 "nbformat": 4,
 "nbformat_minor": 4
}
